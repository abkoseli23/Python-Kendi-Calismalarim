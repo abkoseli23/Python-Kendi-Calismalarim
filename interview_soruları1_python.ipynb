{
 "cells": [
  {
   "cell_type": "markdown",
   "metadata": {},
   "source": [
    "# <p style=\"background-color:green;font-family:newtimeroman;font-size:200%;color:white;text-align:center;border-radius:20px 20px;\"><b>Python Interview Soruları</b></p>\n",
    "![](https://www.techproeducation.com/logo/headerlogo.svg)\n",
    "\n",
    "<b>Yeniliklerden ilk siz haberdar olmak istiyorsanız lütfen bizi takip etmeyi unutmayın </b>[YouTube](https://www.youtube.com/c/techproeducation) | [Instagram](https://www.instagram.com/techproeducation) | [Facebook](https://www.facebook.com/techproeducation) | [Telegram](https://t.me/joinchat/HH2qRvA-ulh4OWbb) | [Whatsapp](https://api.whatsapp.com/send/?phone=%2B15853042959&text&type=phone_number&app_absent=0) | [LinkedIn](https://www.linkedin.com/company/techproeducation/mycompany/) |"
   ]
  },
  {
   "cell_type": "markdown",
   "metadata": {},
   "source": [
    "# **Python Interview Soruları**"
   ]
  },
  {
   "cell_type": "markdown",
   "metadata": {},
   "source": [
    "### **1. Python nedir? Teknoloji dünyasında Python'un bazı popüler uygulamalarını örneklendirin.**\n",
    "\n"
   ]
  },
  {
   "cell_type": "markdown",
   "metadata": {},
   "source": [
    "Python, Guido van Rossum tarafından 1991 yılında geliştirilen, yüksek seviyeli, genel amaçlı ve dinamik bir programlama dilidir. Python, okunabilirliği ve sadeliği ile bilinir ve bu nedenle hem yeni başlayanlar hem de deneyimli geliştiriciler tarafından tercih edilir. Python'un temel özellikleri arasında basit sözdizimi, geniş standart kütüphane, platform bağımsızlığı ve güçlü topluluk desteği bulunur.\n",
    "\n",
    "### Python'un Popüler Uygulamaları\n",
    "\n",
    "Python, teknoloji dünyasında birçok alanda yaygın olarak kullanılmaktadır. İşte Python'un bazı popüler uygulama alanları:\n",
    "\n",
    "1. **Web Geliştirme**:\n",
    "    - Python, web geliştirme için güçlü ve popüler framework'lere sahiptir. Örneğin:\n",
    "        - **Django**: Yüksek seviyeli bir web framework'ü olup, hızlı ve güvenli web uygulamaları geliştirmek için kullanılır.\n",
    "        - **Flask**: Mikro web framework'ü olup, daha hafif ve esnek web uygulamaları geliştirmek için kullanılır.\n",
    "    - Örnek: Instagram, Pinterest, Spotify gibi büyük web uygulamaları Python ve Django kullanılarak geliştirilmiştir.\n",
    "\n",
    "2. **Veri Bilimi ve Makine Öğrenimi**:\n",
    "    - Python, veri bilimi ve makine öğrenimi alanında en popüler dillerden biridir. Bu alanda kullanılan bazı kütüphaneler:\n",
    "        - **NumPy**: Sayısal hesaplamalar için kullanılır.\n",
    "        - **Pandas**: Veri analizi ve veri manipülasyonu için kullanılır.\n",
    "        - **Matplotlib** ve **Seaborn**: Veri görselleştirme için kullanılır.\n",
    "        - **Scikit-learn**: Makine öğrenimi algoritmaları için kullanılır.\n",
    "        - **TensorFlow** ve **PyTorch**: Derin öğrenme modelleri geliştirmek için kullanılır.\n",
    "    - Örnek: Google, Netflix, Uber gibi şirketler, veri bilimi ve makine öğrenimi projelerinde Python kullanmaktadır.\n",
    "\n",
    "3. **Oyun Geliştirme**:\n",
    "    - Python, oyun geliştirme için de kullanılabilir. Bu alanda kullanılan bazı kütüphaneler:\n",
    "        - **Pygame**: 2D oyunlar geliştirmek için kullanılır.\n",
    "        - **Panda3D**: 3D oyunlar geliştirmek için kullanılır.\n",
    "    - Örnek: Civilization IV gibi bazı oyunlar Python kullanılarak geliştirilmiştir.\n",
    "\n",
    "4. **Otomasyon ve Betik Yazımı**:\n",
    "    - Python, otomasyon ve betik yazımı için mükemmel bir dildir. Sistem yönetimi, dosya işlemleri, ağ programlama gibi alanlarda kullanılır.\n",
    "    - Örnek: Sistem yöneticileri, günlük görevleri otomatikleştirmek için Python betikleri yazarlar.\n",
    "\n",
    "5. **Bilimsel Hesaplamalar ve Araştırma**:\n",
    "    - Python, bilimsel hesaplamalar ve araştırma projelerinde yaygın olarak kullanılır. Bu alanda kullanılan bazı kütüphaneler:\n",
    "        - **SciPy**: Bilimsel ve teknik hesaplamalar için kullanılır.\n",
    "        - **SymPy**: Sembolik matematik için kullanılır.\n",
    "    - Örnek: NASA, CERN gibi araştırma kurumları Python kullanarak bilimsel hesaplamalar yapmaktadır.\n",
    "\n",
    "6. **Yapay Zeka ve Doğal Dil İşleme**:\n",
    "    - Python, yapay zeka ve doğal dil işleme (NLP) projelerinde de yaygın olarak kullanılır. Bu alanda kullanılan bazı kütüphaneler:\n",
    "        - **NLTK**: Doğal dil işleme için kullanılır.\n",
    "        - **spaCy**: Gelişmiş doğal dil işleme için kullanılır.\n",
    "    - Örnek: Chatbotlar, dil çeviri sistemleri ve metin analiz araçları Python kullanılarak geliştirilir.\n",
    "\n",
    "Python'un esnekliği, geniş kütüphane desteği ve güçlü topluluğu, onu teknoloji dünyasında çok çeşitli uygulamalar için ideal bir dil haline getirir."
   ]
  },
  {
   "cell_type": "markdown",
   "metadata": {},
   "source": []
  },
  {
   "cell_type": "markdown",
   "metadata": {},
   "source": [
    "### **2. Sığ kopya (shallow copy) ile derin kopya (deep copy) arasındaki fark nedir?**"
   ]
  },
  {
   "cell_type": "markdown",
   "metadata": {},
   "source": [
    "Python'da sığ kopya (shallow copy) ve derin kopya (deep copy) arasındaki fark, kopyalanan nesnelerin içeriğinin nasıl kopyalandığı ile ilgilidir. Bu kavramlar özellikle karmaşık veri yapıları (örneğin, iç içe listeler veya nesneler) ile çalışırken önemlidir.\n",
    "\n",
    "### Sığ Kopya (Shallow Copy)\n",
    "- **Tanım**: Sığ kopya, orijinal nesnenin birinci seviyedeki elemanlarının kopyasını oluşturur. Ancak, bu elemanlar referans olarak kopyalanır, yani iç içe nesneler (örneğin, iç içe listeler) orijinal nesne ile aynı referansları paylaşır.\n",
    "- **Kullanım**: Sığ kopya, `copy` modülündeki `copy()` fonksiyonu veya dilimleme (slicing) yöntemi kullanılarak oluşturulabilir.\n",
    "- **Örnek**:\n",
    "    ```python\n",
    "    import copy\n",
    "\n",
    "    orijinal_liste = [1, 2, [3, 4], 5]\n",
    "    sığ_kopya = copy.copy(orijinal_liste)\n",
    "\n",
    "    print(\"Orijinal Liste:\", orijinal_liste)\n",
    "    print(\"Sığ Kopya:\", sığ_kopya)\n",
    "\n",
    "    # İç içe listeyi değiştirelim\n",
    "    orijinal_liste[2][0] = 'a'\n",
    "\n",
    "    print(\"Orijinal Liste (değişiklik sonrası):\", orijinal_liste)\n",
    "    print(\"Sığ Kopya (değişiklik sonrası):\", sığ_kopya)\n",
    "    ```\n",
    "\n",
    "    Çıktı:\n",
    "    ```\n",
    "    Orijinal Liste: [1, 2, [3, 4], 5]\n",
    "    Sığ Kopya: [1, 2, [3, 4], 5]\n",
    "    Orijinal Liste (değişiklik sonrası): [1, 2, ['a', 4], 5]\n",
    "    Sığ Kopya (değişiklik sonrası): [1, 2, ['a', 4], 5]\n",
    "    ```\n",
    "\n",
    "    Bu örnekte, `orijinal_liste` ve `sığ_kopya` iç içe listeyi (yani `[3, 4]`) paylaşır. Bu nedenle, iç içe listedeki değişiklikler her iki listede de yansır.\n",
    "\n",
    "### Derin Kopya (Deep Copy)\n",
    "- **Tanım**: Derin kopya, orijinal nesnenin tüm seviyelerindeki elemanlarının bağımsız bir kopyasını oluşturur. Bu, iç içe nesnelerin de kopyalanacağı anlamına gelir, böylece orijinal nesne ve kopya birbirinden tamamen bağımsız olur.\n",
    "- **Kullanım**: Derin kopya, `copy` modülündeki `deepcopy()` fonksiyonu kullanılarak oluşturulabilir.\n",
    "- **Örnek**:\n",
    "    ```python\n",
    "    import copy\n",
    "\n",
    "    orijinal_liste = [1, 2, [3, 4], 5]\n",
    "    derin_kopya = copy.deepcopy(orijinal_liste)\n",
    "\n",
    "    print(\"Orijinal Liste:\", orijinal_liste)\n",
    "    print(\"Derin Kopya:\", derin_kopya)\n",
    "\n",
    "    # İç içe listeyi değiştirelim\n",
    "    orijinal_liste[2][0] = 'a'\n",
    "\n",
    "    print(\"Orijinal Liste (değişiklik sonrası):\", orijinal_liste)\n",
    "    print(\"Derin Kopya (değişiklik sonrası):\", derin_kopya)\n",
    "    ```\n",
    "\n",
    "    Çıktı:\n",
    "    ```\n",
    "    Orijinal Liste: [1, 2, [3, 4], 5]\n",
    "    Derin Kopya: [1, 2, [3, 4], 5]\n",
    "    Orijinal Liste (değişiklik sonrası): [1, 2, ['a', 4], 5]\n",
    "    Derin Kopya (değişiklik sonrası): [1, 2, [3, 4], 5]\n",
    "    ```\n",
    "\n",
    "    Bu örnekte, `orijinal_liste` ve `derin_kopya` tamamen bağımsızdır. İç içe listedeki değişiklikler sadece `orijinal_liste` üzerinde etkili olur ve `derin_kopya` üzerinde herhangi bir etkisi olmaz.\n",
    "\n",
    "### Özet\n",
    "- **Sığ Kopya (Shallow Copy)**:\n",
    "  - Orijinal nesnenin birinci seviyedeki elemanlarının kopyasını oluşturur.\n",
    "  - İç içe nesneler orijinal nesne ile aynı referansları paylaşır.\n",
    "  - `copy.copy()` veya dilimleme yöntemi ile oluşturulabilir.\n",
    "\n",
    "- **Derin Kopya (Deep Copy)**:\n",
    "  - Orijinal nesnenin tüm seviyelerindeki elemanlarının bağımsız bir kopyasını oluşturur.\n",
    "  - İç içe nesneler de kopyalanır, böylece orijinal nesne ve kopya tamamen bağımsız olur.\n",
    "  - `copy.deepcopy()` fonksiyonu ile oluşturulabilir.\n",
    "\n",
    "Bu farklar, özellikle karmaşık veri yapıları ile çalışırken önemli hale gelir ve doğru kopyalama yöntemini seçmek, beklenmeyen yan etkileri önlemek için kritiktir."
   ]
  },
  {
   "cell_type": "code",
   "execution_count": null,
   "metadata": {},
   "outputs": [],
   "source": []
  },
  {
   "cell_type": "markdown",
   "metadata": {},
   "source": [
    "### **3. Python'da swapcase() fonksiyonu ne işe yarar?**"
   ]
  },
  {
   "cell_type": "markdown",
   "metadata": {},
   "source": [
    "Python'da `swapcase()` fonksiyonu, bir string içindeki tüm harflerin büyük harflerini küçük harfe, küçük harflerini ise büyük harfe dönüştürür. Bu fonksiyon, string'in orijinal halini değiştirmez, bunun yerine dönüştürülmüş yeni bir string döner.\n",
    "\n",
    "### `swapcase()` Fonksiyonunun Kullanımı\n",
    "\n",
    "İşte `swapcase()` fonksiyonunun nasıl kullanılacağını gösteren bir örnek:\n",
    "\n"
   ]
  },
  {
   "cell_type": "code",
   "execution_count": null,
   "metadata": {},
   "outputs": [],
   "source": [
    "# Bir string tanımlayalım\n",
    "orijinal_string = \"Merhaba Dünya! PYTHON harika.\"\n",
    "\n",
    "# swapcase() fonksiyonunu kullanarak harflerin büyük/küçük hallerini değiştirelim\n",
    "degistirilmis_string = orijinal_string.swapcase()\n",
    "\n",
    "# Sonucu yazdıralım\n",
    "print(\"Orijinal String:\", orijinal_string)\n",
    "print(\"Değiştirilmiş String:\", degistirilmis_string)"
   ]
  },
  {
   "cell_type": "markdown",
   "metadata": {},
   "source": [
    "\n",
    "\n",
    "Bu kodun çıktısı şu şekilde olacaktır:\n",
    "\n"
   ]
  },
  {
   "cell_type": "code",
   "execution_count": null,
   "metadata": {
    "vscode": {
     "languageId": ""
    }
   },
   "outputs": [],
   "source": [
    "Orijinal String: Merhaba Dünya! PYTHON harika.\n",
    "Değiştirilmiş String: mERHABA dÜNYA! python HARİKA."
   ]
  },
  {
   "cell_type": "markdown",
   "metadata": {},
   "source": [
    "\n",
    "\n",
    "### Özet\n",
    "- **Amaç**: `swapcase()` fonksiyonu, bir string içindeki tüm harflerin büyük/küçük hallerini değiştirir.\n",
    "- **Kullanım**: `string.swapcase()`\n",
    "- **Dönüş Değeri**: Orijinal string'in büyük/küçük harfleri değiştirilmiş yeni bir string döner.\n",
    "- **Özellik**: Orijinal string değişmeden kalır, sadece dönüştürülmüş yeni bir string döner.\n",
    "\n",
    "Bu fonksiyon, özellikle metin işleme ve dönüştürme işlemlerinde kullanışlı olabilir."
   ]
  },
  {
   "cell_type": "code",
   "execution_count": null,
   "metadata": {},
   "outputs": [],
   "source": []
  },
  {
   "cell_type": "markdown",
   "metadata": {},
   "source": [
    "### **4. Bir listedeki tekrarlı elemanları nasıl silersiniz?**"
   ]
  },
  {
   "cell_type": "markdown",
   "metadata": {},
   "source": [
    "Python'da bir listedeki tekrarlı elemanları silmek için çeşitli yöntemler kullanabilirsiniz. En yaygın yöntemlerden biri, listeyi bir kümeye (set) dönüştürmek ve ardından tekrar listeye dönüştürmektir. Kümeler, her elemandan yalnızca bir tane içerdiği için tekrarlı elemanlar otomatik olarak silinir.\n",
    "\n",
    "### Yöntem 1: Kümeye (Set) Dönüştürme\n",
    "Bu yöntem, listenin sırasını korumaz.\n",
    "\n"
   ]
  },
  {
   "cell_type": "code",
   "execution_count": null,
   "metadata": {},
   "outputs": [],
   "source": [
    "# Bir liste tanımlayalım\n",
    "liste = [1, 2, 2, 3, 4, 4, 5, 6, 6, 7]\n",
    "\n",
    "# Listeyi kümeye dönüştürüp tekrar listeye dönüştürelim\n",
    "liste_tekrarsiz = list(set(liste))\n",
    "\n",
    "# Sonucu yazdıralım\n",
    "print(\"Tekrarlı elemanlar silinmiş liste:\", liste_tekrarsiz)"
   ]
  },
  {
   "cell_type": "markdown",
   "metadata": {},
   "source": [
    "\n",
    "\n",
    "Bu kodun çıktısı şu şekilde olacaktır:\n",
    "\n"
   ]
  },
  {
   "cell_type": "code",
   "execution_count": null,
   "metadata": {
    "vscode": {
     "languageId": ""
    }
   },
   "outputs": [],
   "source": [
    "Tekrarlı elemanlar silinmiş liste: [1, 2, 3, 4, 5, 6, 7]"
   ]
  },
  {
   "cell_type": "markdown",
   "metadata": {},
   "source": [
    "\n",
    "\n",
    "### Yöntem 2: Döngü ve Liste Kullanarak\n",
    "Bu yöntem, listenin sırasını korur.\n",
    "\n"
   ]
  },
  {
   "cell_type": "code",
   "execution_count": null,
   "metadata": {},
   "outputs": [],
   "source": [
    "# Bir liste tanımlayalım\n",
    "liste = [1, 2, 2, 3, 4, 4, 5, 6, 6, 7]\n",
    "\n",
    "# Tekrarsız elemanları saklamak için boş bir liste oluşturalım\n",
    "liste_tekrarsiz = []\n",
    "\n",
    "# Döngü kullanarak tekrarlı elemanları silelim\n",
    "for eleman in liste:\n",
    "    if eleman not in liste_tekrarsiz:\n",
    "        liste_tekrarsiz.append(eleman)\n",
    "\n",
    "# Sonucu yazdıralım\n",
    "print(\"Tekrarlı elemanlar silinmiş liste:\", liste_tekrarsiz)"
   ]
  },
  {
   "cell_type": "markdown",
   "metadata": {},
   "source": [
    "\n",
    "\n",
    "Bu kodun çıktısı şu şekilde olacaktır:\n",
    "\n"
   ]
  },
  {
   "cell_type": "code",
   "execution_count": null,
   "metadata": {
    "vscode": {
     "languageId": ""
    }
   },
   "outputs": [],
   "source": [
    "Tekrarlı elemanlar silinmiş liste: [1, 2, 3, 4, 5, 6, 7]"
   ]
  },
  {
   "cell_type": "markdown",
   "metadata": {},
   "source": [
    "\n",
    "\n",
    "### Yöntem 3: Dictionary Kullanarak (Python 3.7+)\n",
    "Python 3.7 ve sonrasında, `dict` veri tipi sıralı olduğu için bu yöntem de listenin sırasını korur.\n",
    "\n"
   ]
  },
  {
   "cell_type": "code",
   "execution_count": null,
   "metadata": {},
   "outputs": [],
   "source": [
    "# Bir liste tanımlayalım\n",
    "liste = [1, 2, 2, 3, 4, 4, 5, 6, 6, 7]\n",
    "\n",
    "# Dictionary kullanarak tekrarlı elemanları silelim\n",
    "liste_tekrarsiz = list(dict.fromkeys(liste))\n",
    "\n",
    "# Sonucu yazdıralım\n",
    "print(\"Tekrarlı elemanlar silinmiş liste:\", liste_tekrarsiz)"
   ]
  },
  {
   "cell_type": "markdown",
   "metadata": {},
   "source": [
    "\n",
    "\n",
    "Bu kodun çıktısı şu şekilde olacaktır:\n",
    "\n"
   ]
  },
  {
   "cell_type": "code",
   "execution_count": null,
   "metadata": {
    "vscode": {
     "languageId": ""
    }
   },
   "outputs": [],
   "source": [
    "Tekrarlı elemanlar silinmiş liste: [1, 2, 3, 4, 5, 6, 7]"
   ]
  },
  {
   "cell_type": "markdown",
   "metadata": {},
   "source": [
    "\n",
    "\n",
    "### Özet\n",
    "- **Kümeye Dönüştürme**: `list(set(liste))` - Sıra korunmaz.\n",
    "- **Döngü ve Liste Kullanarak**: Döngü ile her elemanı kontrol edip yeni bir listeye ekleyerek - Sıra korunur.\n",
    "- **Dictionary Kullanarak**: `list(dict.fromkeys(liste))` - Sıra korunur (Python 3.7+).\n",
    "\n",
    "Bu yöntemlerden birini kullanarak, bir listedeki tekrarlı elemanları kolayca silebilirsiniz."
   ]
  },
  {
   "cell_type": "code",
   "execution_count": null,
   "metadata": {},
   "outputs": [],
   "source": []
  },
  {
   "cell_type": "markdown",
   "metadata": {},
   "source": [
    "### **5. İki tuple nasıl birleştirilir?**"
   ]
  },
  {
   "cell_type": "markdown",
   "metadata": {},
   "source": [
    "Python'da iki tuple'ı birleştirmek oldukça basittir. Tuple'lar, birleştirme işlemi için `+` operatörü kullanılarak birleştirilebilir. Bu işlem, iki tuple'ı birleştirerek yeni bir tuple oluşturur.\n",
    "\n",
    "### Örnek\n",
    "\n",
    "İki tuple'ı birleştirmek için aşağıdaki adımları izleyebilirsiniz:\n",
    "\n",
    "1. İki tuple tanımlayın.\n",
    "2. `+` operatörünü kullanarak bu iki tuple'ı birleştirin.\n",
    "3. Sonucu yeni bir tuple olarak saklayın ve yazdırın.\n",
    "\n",
    "İşte bu işlemi gerçekleştiren bir örnek:\n",
    "\n"
   ]
  },
  {
   "cell_type": "code",
   "execution_count": null,
   "metadata": {},
   "outputs": [],
   "source": [
    "# İki tuple tanımlayalım\n",
    "tuple1 = (1, 2, 3)\n",
    "tuple2 = (4, 5, 6)\n",
    "\n",
    "# İki tuple'ı birleştirelim\n",
    "birlesmis_tuple = tuple1 + tuple2\n",
    "\n",
    "# Sonucu yazdıralım\n",
    "print(\"Birleşmiş Tuple:\", birlesmis_tuple)"
   ]
  },
  {
   "cell_type": "markdown",
   "metadata": {},
   "source": [
    "\n",
    "\n",
    "Bu kodun çıktısı şu şekilde olacaktır:\n",
    "\n"
   ]
  },
  {
   "cell_type": "code",
   "execution_count": null,
   "metadata": {
    "vscode": {
     "languageId": ""
    }
   },
   "outputs": [],
   "source": [
    "Birleşmiş Tuple: (1, 2, 3, 4, 5, 6)"
   ]
  },
  {
   "cell_type": "markdown",
   "metadata": {},
   "source": [
    "\n",
    "\n",
    "### Özet\n",
    "- **Tuple Tanımlama**: İki ayrı tuple tanımlayın.\n",
    "    ```python\n",
    "    tuple1 = (1, 2, 3)\n",
    "    tuple2 = (4, 5, 6)\n",
    "    ```\n",
    "- **Birleştirme**: `+` operatörünü kullanarak iki tuple'ı birleştirin.\n",
    "    ```python\n",
    "    birlesmis_tuple = tuple1 + tuple2\n",
    "    ```\n",
    "- **Sonucu Yazdırma**: Birleşmiş tuple'ı yazdırın.\n",
    "    ```python\n",
    "    print(\"Birleşmiş Tuple:\", birlesmis_tuple)\n",
    "    ```\n",
    "\n",
    "Bu yöntemle, iki tuple'ı kolayca birleştirerek yeni bir tuple oluşturabilirsiniz. Tuple'lar immutable (değiştirilemez) veri tipleri olduğu için, bu işlem orijinal tuple'ları değiştirmez, bunun yerine yeni bir tuple oluşturur."
   ]
  },
  {
   "cell_type": "code",
   "execution_count": null,
   "metadata": {},
   "outputs": [],
   "source": []
  },
  {
   "cell_type": "markdown",
   "metadata": {},
   "source": [
    "### **6. Python ile string bir ifadeyi nasıl küçük harfe çevirirsiniz?**"
   ]
  },
  {
   "cell_type": "markdown",
   "metadata": {},
   "source": [
    "Python'da bir string ifadedeki tüm karakterleri küçük harfe çevirmek için `lower()` metodunu kullanabilirsiniz. Bu metod, string'in tüm büyük harflerini küçük harfe dönüştürür ve yeni bir string döner. Orijinal string değişmeden kalır.\n",
    "\n",
    "### `lower()` Metodunun Kullanımı\n",
    "\n",
    "İşte `lower()` metodunun nasıl kullanılacağını gösteren bir örnek:\n",
    "\n"
   ]
  },
  {
   "cell_type": "code",
   "execution_count": null,
   "metadata": {},
   "outputs": [],
   "source": [
    "# Bir string tanımlayalım\n",
    "orijinal_string = \"Merhaba Dünya! PYTHON harika.\"\n",
    "\n",
    "# lower() metodunu kullanarak tüm karakterleri küçük harfe çevirelim\n",
    "kucuk_harfli_string = orijinal_string.lower()\n",
    "\n",
    "# Sonucu yazdıralım\n",
    "print(\"Orijinal String:\", orijinal_string)\n",
    "print(\"Küçük Harfli String:\", kucuk_harfli_string)"
   ]
  },
  {
   "cell_type": "markdown",
   "metadata": {},
   "source": [
    "\n",
    "\n",
    "Bu kodun çıktısı şu şekilde olacaktır:\n",
    "\n"
   ]
  },
  {
   "cell_type": "code",
   "execution_count": null,
   "metadata": {
    "vscode": {
     "languageId": ""
    }
   },
   "outputs": [],
   "source": [
    "Orijinal String: Merhaba Dünya! PYTHON harika.\n",
    "Küçük Harfli String: merhaba dünya! python harika."
   ]
  },
  {
   "cell_type": "markdown",
   "metadata": {},
   "source": [
    "\n",
    "\n",
    "### Özet\n",
    "- **Amaç**: Bir string ifadedeki tüm karakterleri küçük harfe çevirmek.\n",
    "- **Kullanım**: `string.lower()`\n",
    "- **Dönüş Değeri**: Orijinal string'in tüm karakterleri küçük harfe dönüştürülmüş yeni bir string döner.\n",
    "- **Özellik**: Orijinal string değişmeden kalır, sadece dönüştürülmüş yeni bir string döner.\n",
    "\n",
    "Bu metod, özellikle metin işleme ve karşılaştırma işlemlerinde kullanışlı olabilir. Örneğin, kullanıcıdan alınan girdileri karşılaştırırken büyük/küçük harf duyarlılığını ortadan kaldırmak için kullanılabilir."
   ]
  },
  {
   "cell_type": "code",
   "execution_count": null,
   "metadata": {},
   "outputs": [],
   "source": []
  },
  {
   "cell_type": "markdown",
   "metadata": {},
   "source": [
    "### **7. Bir dictionary verisindeki keyleri nasıl listelersiniz?**"
   ]
  },
  {
   "cell_type": "markdown",
   "metadata": {},
   "source": [
    "Python'da bir dictionary (sözlük) verisindeki anahtarları (keys) listelemek için `keys()` metodunu kullanabilirsiniz. Bu metod, sözlüğün tüm anahtarlarını içeren bir `dict_keys` nesnesi döner. Bu nesneyi doğrudan kullanabilir veya bir listeye dönüştürebilirsiniz.\n",
    "\n",
    "### `keys()` Metodunun Kullanımı\n",
    "\n",
    "İşte `keys()` metodunun nasıl kullanılacağını gösteren bir örnek:\n",
    "\n"
   ]
  },
  {
   "cell_type": "code",
   "execution_count": null,
   "metadata": {},
   "outputs": [],
   "source": [
    "# Bir dictionary tanımlayalım\n",
    "sozluk = {\n",
    "    \"ad\": \"Ali\",\n",
    "    \"yas\": 25,\n",
    "    \"sehir\": \"İstanbul\"\n",
    "}\n",
    "\n",
    "# keys() metodunu kullanarak anahtarları listeleyelim\n",
    "anahtarlar = sozluk.keys()\n",
    "\n",
    "# Sonucu yazdıralım\n",
    "print(\"Anahtarlar:\", anahtarlar)"
   ]
  },
  {
   "cell_type": "markdown",
   "metadata": {},
   "source": [
    "\n",
    "\n",
    "Bu kodun çıktısı şu şekilde olacaktır:\n",
    "\n"
   ]
  },
  {
   "cell_type": "code",
   "execution_count": null,
   "metadata": {
    "vscode": {
     "languageId": ""
    }
   },
   "outputs": [],
   "source": [
    "Anahtarlar: dict_keys(['ad', 'yas', 'sehir'])"
   ]
  },
  {
   "cell_type": "markdown",
   "metadata": {},
   "source": [
    "\n",
    "\n",
    "### Anahtarları Listeye Dönüştürme\n",
    "\n",
    "Eğer anahtarları bir liste olarak kullanmak isterseniz, `list()` fonksiyonunu kullanarak `dict_keys` nesnesini bir listeye dönüştürebilirsiniz:\n",
    "\n"
   ]
  },
  {
   "cell_type": "code",
   "execution_count": null,
   "metadata": {},
   "outputs": [],
   "source": [
    "# Anahtarları listeye dönüştürelim\n",
    "anahtarlar_listesi = list(sozluk.keys())\n",
    "\n",
    "# Sonucu yazdıralım\n",
    "print(\"Anahtarlar Listesi:\", anahtarlar_listesi)"
   ]
  },
  {
   "cell_type": "markdown",
   "metadata": {},
   "source": [
    "\n",
    "\n",
    "Bu kodun çıktısı şu şekilde olacaktır:\n",
    "\n"
   ]
  },
  {
   "cell_type": "code",
   "execution_count": null,
   "metadata": {
    "vscode": {
     "languageId": ""
    }
   },
   "outputs": [],
   "source": [
    "Anahtarlar Listesi: ['ad', 'yas', 'sehir']"
   ]
  },
  {
   "cell_type": "markdown",
   "metadata": {},
   "source": [
    "\n",
    "\n",
    "### Özet\n",
    "- **Amaç**: Bir dictionary verisindeki anahtarları listelemek.\n",
    "- **Kullanım**: `dictionary.keys()`\n",
    "- **Dönüş Değeri**: Sözlüğün tüm anahtarlarını içeren bir `dict_keys` nesnesi döner.\n",
    "- **Listeye Dönüştürme**: `list(dictionary.keys())` kullanarak anahtarları bir listeye dönüştürebilirsiniz.\n",
    "\n",
    "Bu yöntemle, bir dictionary verisindeki anahtarları kolayca listeleyebilir ve gerektiğinde bir listeye dönüştürebilirsiniz."
   ]
  },
  {
   "cell_type": "code",
   "execution_count": null,
   "metadata": {},
   "outputs": [],
   "source": []
  },
  {
   "cell_type": "markdown",
   "metadata": {},
   "source": [
    "### **8. Python'da bir elementin belirli bir indeksine nasıl eleman yerleştirirsiniz?**"
   ]
  },
  {
   "cell_type": "markdown",
   "metadata": {},
   "source": [
    "Python'da bir listeye belirli bir indeksde eleman yerleştirmek için `insert()` metodunu kullanabilirsiniz. `insert()` metodu, belirtilen indekse yeni bir eleman ekler ve mevcut elemanları sağa kaydırır.\n",
    "\n",
    "### `insert()` Metodunun Kullanımı\n",
    "\n",
    "İşte `insert()` metodunun nasıl kullanılacağını gösteren bir örnek:\n",
    "\n"
   ]
  },
  {
   "cell_type": "code",
   "execution_count": null,
   "metadata": {},
   "outputs": [],
   "source": [
    "# Bir liste tanımlayalım\n",
    "liste = [1, 2, 3, 4, 5]\n",
    "\n",
    "# Belirli bir indekse eleman ekleyelim\n",
    "indeks = 2\n",
    "yeni_eleman = 99\n",
    "liste.insert(indeks, yeni_eleman)\n",
    "\n",
    "# Sonucu yazdıralım\n",
    "print(\"Güncellenmiş Liste:\", liste)"
   ]
  },
  {
   "cell_type": "markdown",
   "metadata": {},
   "source": [
    "\n",
    "\n",
    "Bu kodun çıktısı şu şekilde olacaktır:\n",
    "\n"
   ]
  },
  {
   "cell_type": "code",
   "execution_count": null,
   "metadata": {
    "vscode": {
     "languageId": ""
    }
   },
   "outputs": [],
   "source": [
    "Güncellenmiş Liste: [1, 2, 99, 3, 4, 5]"
   ]
  },
  {
   "cell_type": "markdown",
   "metadata": {},
   "source": [
    "\n",
    "\n",
    "### Özet\n",
    "- **Amaç**: Bir listeye belirli bir indeksde eleman yerleştirmek.\n",
    "- **Kullanım**: `liste.insert(indeks, eleman)`\n",
    "- **Parametreler**:\n",
    "  - `indeks`: Elemanın ekleneceği konum.\n",
    "  - `eleman`: Listeye eklenecek yeni eleman.\n",
    "- **Özellik**: `insert()` metodu, belirtilen indekse yeni bir eleman ekler ve mevcut elemanları sağa kaydırır.\n",
    "\n",
    "Bu yöntemle, bir listeye belirli bir indeksde kolayca eleman ekleyebilirsiniz."
   ]
  },
  {
   "cell_type": "code",
   "execution_count": null,
   "metadata": {},
   "outputs": [],
   "source": []
  },
  {
   "cell_type": "markdown",
   "metadata": {},
   "source": [
    "### **9. Negatif index nedir? Ne için kullanılır?**"
   ]
  },
  {
   "cell_type": "markdown",
   "metadata": {},
   "source": [
    "Python'da negatif indeksler, bir dizinin (liste, string, tuple vb.) sonundan başlayarak elemanlara erişmek için kullanılır. Negatif indeksleme, dizinin sonundan itibaren elemanları sayarak erişim sağlar. Bu, özellikle dizinin sonundaki elemanlara kolayca erişmek istediğinizde kullanışlıdır.\n",
    "\n",
    "### Negatif İndekslerin Kullanımı\n",
    "\n",
    "Negatif indeksler, `-1` ile başlar ve dizinin son elemanını temsil eder. `-2`, sondan bir önceki elemanı, `-3` ise sondan ikinci elemanı temsil eder ve bu şekilde devam eder.\n",
    "\n",
    "### Örnekler\n",
    "\n",
    "#### Liste Üzerinde Negatif İndeksleme\n",
    "\n"
   ]
  },
  {
   "cell_type": "code",
   "execution_count": null,
   "metadata": {},
   "outputs": [],
   "source": [
    "# Bir liste tanımlayalım\n",
    "liste = [10, 20, 30, 40, 50]\n",
    "\n",
    "# Negatif indeks kullanarak elemanlara erişelim\n",
    "print(liste[-1])  # Çıktı: 50 (son eleman)\n",
    "print(liste[-2])  # Çıktı: 40 (sondan bir önceki eleman)\n",
    "print(liste[-3])  # Çıktı: 30 (sondan ikinci eleman)"
   ]
  },
  {
   "cell_type": "markdown",
   "metadata": {},
   "source": [
    "\n",
    "\n",
    "#### String Üzerinde Negatif İndeksleme\n",
    "\n"
   ]
  },
  {
   "cell_type": "code",
   "execution_count": null,
   "metadata": {},
   "outputs": [],
   "source": [
    "# Bir string tanımlayalım\n",
    "metin = \"Python\"\n",
    "\n",
    "# Negatif indeks kullanarak karakterlere erişelim\n",
    "print(metin[-1])  # Çıktı: n (son karakter)\n",
    "print(metin[-2])  # Çıktı: o (sondan bir önceki karakter)\n",
    "print(metin[-3])  # Çıktı: h (sondan ikinci karakter)"
   ]
  },
  {
   "cell_type": "markdown",
   "metadata": {},
   "source": [
    "\n",
    "\n",
    "### Negatif İndekslerin Kullanım Alanları\n",
    "\n",
    "1. **Dizinin Sonundaki Elemanlara Erişim**: Negatif indeksler, dizinin sonundaki elemanlara kolayca erişmenizi sağlar. Örneğin, bir listenin son elemanını almak için `liste[-1]` kullanabilirsiniz.\n",
    "2. **Dilimleme (Slicing)**: Negatif indeksler, dilimleme işlemlerinde de kullanılabilir. Bu, dizinin sonundan belirli bir aralığı seçmek için kullanışlıdır.\n",
    "\n",
    "#### Dilimleme Örneği\n",
    "\n"
   ]
  },
  {
   "cell_type": "code",
   "execution_count": null,
   "metadata": {},
   "outputs": [],
   "source": [
    "# Bir liste tanımlayalım\n",
    "liste = [10, 20, 30, 40, 50]\n",
    "\n",
    "# Negatif indeks kullanarak dilimleme yapalım\n",
    "print(liste[-3:])  # Çıktı: [30, 40, 50] (son üç eleman)\n",
    "print(liste[:-2])  # Çıktı: [10, 20, 30] (ilk üç eleman)"
   ]
  },
  {
   "cell_type": "markdown",
   "metadata": {},
   "source": [
    "\n",
    "\n",
    "### Özet\n",
    "- **Negatif İndeks**: Dizinin sonundan başlayarak elemanlara erişim sağlar.\n",
    "- **Kullanım**: `-1` son elemanı, `-2` sondan bir önceki elemanı, `-3` sondan ikinci elemanı temsil eder.\n",
    "- **Avantajlar**: Dizinin sonundaki elemanlara kolayca erişim sağlar ve dilimleme işlemlerinde kullanışlıdır.\n",
    "\n",
    "Negatif indeksler, Python'da dizilerle çalışırken esneklik sağlar ve kodunuzu daha okunabilir hale getirebilir."
   ]
  },
  {
   "cell_type": "code",
   "execution_count": null,
   "metadata": {},
   "outputs": [],
   "source": []
  },
  {
   "cell_type": "markdown",
   "metadata": {},
   "source": [
    "### **10. Bir sayıyı nasıl string ifafeye dönüştürürsünüz?**"
   ]
  },
  {
   "cell_type": "markdown",
   "metadata": {},
   "source": [
    "Python'da bir sayıyı string (metin) ifadesine dönüştürmek için `str()` fonksiyonunu kullanabilirsiniz. `str()` fonksiyonu, verilen sayıyı string türüne çevirir ve yeni bir string döner. Bu yöntem, hem tam sayılar (integers) hem de ondalıklı sayılar (floats) için kullanılabilir.\n",
    "\n",
    "### `str()` Fonksiyonunun Kullanımı\n",
    "\n",
    "İşte `str()` fonksiyonunun nasıl kullanılacağını gösteren örnekler:\n",
    "\n",
    "#### Tam Sayıyı String'e Dönüştürme\n",
    "\n"
   ]
  },
  {
   "cell_type": "code",
   "execution_count": null,
   "metadata": {},
   "outputs": [],
   "source": [
    "# Bir tam sayı tanımlayalım\n",
    "sayi = 123\n",
    "\n",
    "# str() fonksiyonunu kullanarak tam sayıyı string'e dönüştürelim\n",
    "sayi_str = str(sayi)\n",
    "\n",
    "# Sonucu yazdıralım\n",
    "print(\"Tam Sayı:\", sayi)\n",
    "print(\"String İfade:\", sayi_str)\n",
    "print(\"Türü:\", type(sayi_str))"
   ]
  },
  {
   "cell_type": "markdown",
   "metadata": {},
   "source": [
    "\n",
    "\n",
    "Bu kodun çıktısı şu şekilde olacaktır:\n",
    "\n"
   ]
  },
  {
   "cell_type": "code",
   "execution_count": null,
   "metadata": {
    "vscode": {
     "languageId": ""
    }
   },
   "outputs": [],
   "source": [
    "Tam Sayı: 123\n",
    "String İfade: 123\n",
    "Türü: <class 'str'>"
   ]
  },
  {
   "cell_type": "markdown",
   "metadata": {},
   "source": [
    "\n",
    "\n",
    "#### Ondalıklı Sayıyı String'e Dönüştürme\n",
    "\n"
   ]
  },
  {
   "cell_type": "code",
   "execution_count": null,
   "metadata": {},
   "outputs": [],
   "source": [
    "# Bir ondalıklı sayı tanımlayalım\n",
    "ondalikli_sayi = 123.45\n",
    "\n",
    "# str() fonksiyonunu kullanarak ondalıklı sayıyı string'e dönüştürelim\n",
    "ondalikli_sayi_str = str(ondalikli_sayi)\n",
    "\n",
    "# Sonucu yazdıralım\n",
    "print(\"Ondalıklı Sayı:\", ondalikli_sayi)\n",
    "print(\"String İfade:\", ondalikli_sayi_str)\n",
    "print(\"Türü:\", type(ondalikli_sayi_str))"
   ]
  },
  {
   "cell_type": "markdown",
   "metadata": {},
   "source": [
    "\n",
    "\n",
    "Bu kodun çıktısı şu şekilde olacaktır:\n",
    "\n"
   ]
  },
  {
   "cell_type": "code",
   "execution_count": null,
   "metadata": {
    "vscode": {
     "languageId": ""
    }
   },
   "outputs": [],
   "source": [
    "Ondalıklı Sayı: 123.45\n",
    "String İfade: 123.45\n",
    "Türü: <class 'str'>"
   ]
  },
  {
   "cell_type": "markdown",
   "metadata": {},
   "source": [
    "\n",
    "\n",
    "### Özet\n",
    "- **Amaç**: Bir sayıyı string ifadesine dönüştürmek.\n",
    "- **Kullanım**: `str(sayi)`\n",
    "- **Dönüş Değeri**: Verilen sayının string türüne dönüştürülmüş hali.\n",
    "- **Özellik**: Hem tam sayılar (integers) hem de ondalıklı sayılar (floats) için kullanılabilir.\n",
    "\n",
    "Bu yöntemle, bir sayıyı kolayca string ifadesine dönüştürebilir ve metin işleme işlemlerinde kullanabilirsiniz."
   ]
  },
  {
   "cell_type": "code",
   "execution_count": null,
   "metadata": {},
   "outputs": [],
   "source": []
  },
  {
   "cell_type": "markdown",
   "metadata": {},
   "source": [
    "### **11. Python ile bir ifadedeki boşlukları nasıl silersiniz?**"
   ]
  },
  {
   "cell_type": "markdown",
   "metadata": {},
   "source": [
    "Python'da bir string ifadedeki boşlukları silmek için çeşitli yöntemler kullanabilirsiniz. Bu yöntemler, boşlukları tamamen kaldırmak veya sadece baştaki ve sondaki boşlukları kaldırmak gibi farklı amaçlara hizmet edebilir. İşte bu işlemleri gerçekleştiren bazı yaygın yöntemler:\n",
    "\n",
    "### 1. `strip()`, `lstrip()`, ve `rstrip()` Metodları\n",
    "Bu metodlar, bir string ifadedeki baştaki ve sondaki boşlukları kaldırmak için kullanılır.\n",
    "\n",
    "- **`strip()`**: String'in başındaki ve sonundaki tüm boşlukları kaldırır.\n",
    "- **`lstrip()`**: String'in sadece başındaki boşlukları kaldırır.\n",
    "- **`rstrip()`**: String'in sadece sonundaki boşlukları kaldırır.\n",
    "\n",
    "#### Örnek:\n",
    "\n"
   ]
  },
  {
   "cell_type": "code",
   "execution_count": null,
   "metadata": {},
   "outputs": [],
   "source": [
    "# Bir string tanımlayalım\n",
    "metin = \"   Merhaba Dünya!   \"\n",
    "\n",
    "# Baştaki ve sondaki boşlukları kaldırmak için strip() metodunu kullanalım\n",
    "temizlenmis_metin = metin.strip()\n",
    "print(\"Orijinal Metin:\", repr(metin))\n",
    "print(\"Temizlenmiş Metin:\", repr(temizlenmis_metin))\n",
    "\n",
    "# Sadece baştaki boşlukları kaldırmak için lstrip() metodunu kullanalım\n",
    "bas_bosluklari_temizlenmis_metin = metin.lstrip()\n",
    "print(\"Baş Boşlukları Temizlenmiş Metin:\", repr(bas_bosluklari_temizlenmis_metin))\n",
    "\n",
    "# Sadece sondaki boşlukları kaldırmak için rstrip() metodunu kullanalım\n",
    "son_bosluklari_temizlenmis_metin = metin.rstrip()\n",
    "print(\"Son Boşlukları Temizlenmiş Metin:\", repr(son_bosluklari_temizlenmis_metin))"
   ]
  },
  {
   "cell_type": "markdown",
   "metadata": {},
   "source": [
    "\n",
    "\n",
    "Bu kodun çıktısı şu şekilde olacaktır:\n",
    "\n"
   ]
  },
  {
   "cell_type": "code",
   "execution_count": null,
   "metadata": {
    "vscode": {
     "languageId": ""
    }
   },
   "outputs": [],
   "source": [
    "Orijinal Metin: '   Merhaba Dünya!   '\n",
    "Temizlenmiş Metin: 'Merhaba Dünya!'\n",
    "Baş Boşlukları Temizlenmiş Metin: 'Merhaba Dünya!   '\n",
    "Son Boşlukları Temizlenmiş Metin: '   Merhaba Dünya!'"
   ]
  },
  {
   "cell_type": "markdown",
   "metadata": {},
   "source": [
    "\n",
    "\n",
    "### 2. `replace()` Metodu\n",
    "Bu metod, bir string içindeki belirli bir alt string'i başka bir alt string ile değiştirmek için kullanılır. Tüm boşlukları kaldırmak için boşluk karakterini (`' '`) boş bir string ile (`''`) değiştirebilirsiniz.\n",
    "\n",
    "#### Örnek:\n",
    "\n"
   ]
  },
  {
   "cell_type": "code",
   "execution_count": null,
   "metadata": {},
   "outputs": [],
   "source": [
    "# Bir string tanımlayalım\n",
    "metin = \"Merhaba Dünya! Python harika.\"\n",
    "\n",
    "# Tüm boşlukları kaldırmak için replace() metodunu kullanalım\n",
    "bosluksuz_metin = metin.replace(\" \", \"\")\n",
    "print(\"Orijinal Metin:\", metin)\n",
    "print(\"Boşluksuz Metin:\", bosluksuz_metin)"
   ]
  },
  {
   "cell_type": "markdown",
   "metadata": {},
   "source": [
    "\n",
    "\n",
    "Bu kodun çıktısı şu şekilde olacaktır:\n",
    "\n"
   ]
  },
  {
   "cell_type": "code",
   "execution_count": null,
   "metadata": {
    "vscode": {
     "languageId": ""
    }
   },
   "outputs": [],
   "source": [
    "Orijinal Metin: Merhaba Dünya! Python harika.\n",
    "Boşluksuz Metin: MerhabaDünya!Pythonharika."
   ]
  },
  {
   "cell_type": "markdown",
   "metadata": {},
   "source": [
    "\n",
    "\n",
    "### 3. `split()` ve `join()` Metodları\n",
    "Bu yöntem, string'i boşluklara göre bölüp, ardından tekrar birleştirerek tüm boşlukları kaldırır.\n",
    "\n",
    "#### Örnek:\n",
    "\n"
   ]
  },
  {
   "cell_type": "code",
   "execution_count": null,
   "metadata": {},
   "outputs": [],
   "source": [
    "# Bir string tanımlayalım\n",
    "metin = \"Merhaba Dünya! Python harika.\"\n",
    "\n",
    "# Tüm boşlukları kaldırmak için split() ve join() metodlarını kullanalım\n",
    "bosluksuz_metin = \"\".join(metin.split())\n",
    "print(\"Orijinal Metin:\", metin)\n",
    "print(\"Boşluksuz Metin:\", bosluksuz_metin)"
   ]
  },
  {
   "cell_type": "markdown",
   "metadata": {},
   "source": [
    "\n",
    "\n",
    "Bu kodun çıktısı şu şekilde olacaktır:\n",
    "\n"
   ]
  },
  {
   "cell_type": "code",
   "execution_count": null,
   "metadata": {
    "vscode": {
     "languageId": ""
    }
   },
   "outputs": [],
   "source": [
    "Orijinal Metin: Merhaba Dünya! Python harika.\n",
    "Boşluksuz Metin: MerhabaDünya!Pythonharika."
   ]
  },
  {
   "cell_type": "markdown",
   "metadata": {},
   "source": [
    "\n",
    "\n",
    "### Özet\n",
    "- **Baştaki ve Sondaki Boşlukları Kaldırma**: `strip()`, `lstrip()`, `rstrip()`\n",
    "- **Tüm Boşlukları Kaldırma**: `replace(\" \", \"\")`, `split()` ve `join()`\n",
    "\n",
    "Bu yöntemlerle, bir string ifadedeki boşlukları kolayca kaldırabilirsiniz. Hangi yöntemi kullanacağınız, boşlukları nasıl kaldırmak istediğinize bağlıdır."
   ]
  },
  {
   "cell_type": "code",
   "execution_count": null,
   "metadata": {},
   "outputs": [],
   "source": []
  },
  {
   "cell_type": "markdown",
   "metadata": {},
   "source": [
    "### **12. Pythonda map() fonksiyonu ne işe yarar?**"
   ]
  },
  {
   "cell_type": "markdown",
   "metadata": {},
   "source": [
    "Python'da `map()` fonksiyonu, bir fonksiyonu belirtilen iterable (örneğin, liste, tuple) üzerindeki her bir öğeye uygulayarak yeni bir iterable oluşturur. `map()` fonksiyonu, fonksiyonel programlama paradigmasının bir parçasıdır ve özellikle veri dönüşümleri ve işlemleri için kullanışlıdır.\n",
    "\n",
    "### `map()` Fonksiyonunun Kullanımı\n",
    "\n",
    "`map()` fonksiyonu, iki ana argüman alır:\n",
    "1. Uygulanacak fonksiyon.\n",
    "2. Üzerinde işlem yapılacak iterable (veya iterable'lar).\n",
    "\n",
    "`map()` fonksiyonu, belirtilen fonksiyonu iterable'ın her bir öğesine uygular ve sonuçları içeren bir `map` nesnesi döner. Bu `map` nesnesi, genellikle bir listeye veya başka bir iterable türüne dönüştürülerek kullanılır.\n",
    "\n",
    "#### Temel Kullanım\n",
    "\n"
   ]
  },
  {
   "cell_type": "code",
   "execution_count": null,
   "metadata": {},
   "outputs": [],
   "source": [
    "# Bir fonksiyon tanımlayalım\n",
    "def kare_al(x):\n",
    "    return x * x\n",
    "\n",
    "# Bir liste tanımlayalım\n",
    "sayilar = [1, 2, 3, 4, 5]\n",
    "\n",
    "# map() fonksiyonunu kullanarak her bir sayının karesini alalım\n",
    "sonuclar = map(kare_al, sayilar)\n",
    "\n",
    "# Sonuçları listeye dönüştürelim ve yazdıralım\n",
    "sonuclar_listesi = list(sonuclar)\n",
    "print(sonuclar_listesi)"
   ]
  },
  {
   "cell_type": "markdown",
   "metadata": {},
   "source": [
    "\n",
    "\n",
    "Bu kodun çıktısı şu şekilde olacaktır:\n",
    "\n"
   ]
  },
  {
   "cell_type": "code",
   "execution_count": null,
   "metadata": {
    "vscode": {
     "languageId": ""
    }
   },
   "outputs": [],
   "source": [
    "[1, 4, 9, 16, 25]"
   ]
  },
  {
   "cell_type": "markdown",
   "metadata": {},
   "source": [
    "\n",
    "\n",
    "#### Lambda Fonksiyonu ile Kullanım\n",
    "\n",
    "`map()` fonksiyonu, lambda fonksiyonları ile birlikte de kullanılabilir. Bu, küçük ve basit fonksiyonlar tanımlamak için kullanışlıdır.\n",
    "\n"
   ]
  },
  {
   "cell_type": "code",
   "execution_count": null,
   "metadata": {},
   "outputs": [],
   "source": [
    "# Bir liste tanımlayalım\n",
    "sayilar = [1, 2, 3, 4, 5]\n",
    "\n",
    "# map() fonksiyonunu kullanarak her bir sayının karesini alalım (lambda fonksiyonu ile)\n",
    "sonuclar = map(lambda x: x * x, sayilar)\n",
    "\n",
    "# Sonuçları listeye dönüştürelim ve yazdıralım\n",
    "sonuclar_listesi = list(sonuclar)\n",
    "print(sonuclar_listesi)"
   ]
  },
  {
   "cell_type": "markdown",
   "metadata": {},
   "source": [
    "\n",
    "\n",
    "Bu kodun çıktısı da aynı olacaktır:\n",
    "\n"
   ]
  },
  {
   "cell_type": "code",
   "execution_count": null,
   "metadata": {
    "vscode": {
     "languageId": ""
    }
   },
   "outputs": [],
   "source": [
    "[1, 4, 9, 16, 25]"
   ]
  },
  {
   "cell_type": "markdown",
   "metadata": {},
   "source": [
    "\n",
    "\n",
    "#### Birden Fazla Iterable ile Kullanım\n",
    "\n",
    "`map()` fonksiyonu, birden fazla iterable üzerinde de çalışabilir. Bu durumda, belirtilen fonksiyon, her iterable'ın karşılık gelen öğelerini argüman olarak alır.\n",
    "\n"
   ]
  },
  {
   "cell_type": "code",
   "execution_count": null,
   "metadata": {},
   "outputs": [],
   "source": [
    "# İki liste tanımlayalım\n",
    "liste1 = [1, 2, 3]\n",
    "liste2 = [4, 5, 6]\n",
    "\n",
    "# map() fonksiyonunu kullanarak iki listenin öğelerini toplayalım\n",
    "sonuclar = map(lambda x, y: x + y, liste1, liste2)\n",
    "\n",
    "# Sonuçları listeye dönüştürelim ve yazdıralım\n",
    "sonuclar_listesi = list(sonuclar)\n",
    "print(sonuclar_listesi)"
   ]
  },
  {
   "cell_type": "markdown",
   "metadata": {},
   "source": [
    "\n",
    "\n",
    "Bu kodun çıktısı şu şekilde olacaktır:\n",
    "\n"
   ]
  },
  {
   "cell_type": "code",
   "execution_count": null,
   "metadata": {
    "vscode": {
     "languageId": ""
    }
   },
   "outputs": [],
   "source": [
    "[5, 7, 9]"
   ]
  },
  {
   "cell_type": "markdown",
   "metadata": {},
   "source": [
    "\n",
    "\n",
    "### Özet\n",
    "- **Amaç**: Bir fonksiyonu belirtilen iterable üzerindeki her bir öğeye uygulayarak yeni bir iterable oluşturmak.\n",
    "- **Kullanım**: `map(fonksiyon, iterable, ...)`\n",
    "- **Dönüş Değeri**: Bir `map` nesnesi döner, genellikle bir listeye veya başka bir iterable türüne dönüştürülerek kullanılır.\n",
    "- **Özellikler**: Lambda fonksiyonları ile kullanılabilir, birden fazla iterable üzerinde çalışabilir.\n",
    "\n",
    "`map()` fonksiyonu, veri dönüşümleri ve işlemleri için güçlü ve esnek bir araçtır. Bu fonksiyon, özellikle büyük veri kümeleri üzerinde tekrarlayan işlemler yaparken kullanışlıdır."
   ]
  },
  {
   "cell_type": "code",
   "execution_count": null,
   "metadata": {},
   "outputs": [],
   "source": []
  },
  {
   "cell_type": "markdown",
   "metadata": {},
   "source": [
    "### **13. Python'da bir listedeki elemanları nasıl rastgele karıştırırsınız?**"
   ]
  },
  {
   "cell_type": "markdown",
   "metadata": {},
   "source": [
    "Python'da bir listedeki elemanları rastgele karıştırmak için `random` modülündeki `shuffle()` fonksiyonunu kullanabilirsiniz. `shuffle()` fonksiyonu, verilen listeyi yerinde (in-place) karıştırır, yani orijinal listeyi değiştirir ve yeni bir liste döndürmez.\n",
    "\n",
    "### `shuffle()` Fonksiyonunun Kullanımı\n",
    "\n",
    "İşte `shuffle()` fonksiyonunun nasıl kullanılacağını gösteren bir örnek:\n",
    "\n"
   ]
  },
  {
   "cell_type": "code",
   "execution_count": null,
   "metadata": {},
   "outputs": [],
   "source": [
    "import random\n",
    "\n",
    "# Bir liste tanımlayalım\n",
    "liste = [1, 2, 3, 4, 5]\n",
    "\n",
    "# Listeyi rastgele karıştıralım\n",
    "random.shuffle(liste)\n",
    "\n",
    "# Sonucu yazdıralım\n",
    "print(\"Karıştırılmış Liste:\", liste)"
   ]
  },
  {
   "cell_type": "markdown",
   "metadata": {},
   "source": [
    "\n",
    "\n",
    "Bu kodun çıktısı her çalıştırıldığında farklı olacaktır, çünkü liste elemanları rastgele karıştırılır. Örneğin:\n",
    "\n"
   ]
  },
  {
   "cell_type": "code",
   "execution_count": null,
   "metadata": {
    "vscode": {
     "languageId": ""
    }
   },
   "outputs": [],
   "source": [
    "Karıştırılmış Liste: [3, 1, 5, 2, 4]"
   ]
  },
  {
   "cell_type": "markdown",
   "metadata": {},
   "source": [
    "\n",
    "\n",
    "### Özet\n",
    "- **Amaç**: Bir listedeki elemanları rastgele karıştırmak.\n",
    "- **Kullanım**: `random.shuffle(liste)`\n",
    "- **Özellik**: `shuffle()` fonksiyonu, listeyi yerinde (in-place) karıştırır ve orijinal listeyi değiştirir.\n",
    "\n",
    "Bu yöntemle, bir listedeki elemanları kolayca rastgele karıştırabilirsiniz. `shuffle()` fonksiyonu, özellikle oyunlar, simülasyonlar ve rastgele veri örnekleme gibi uygulamalarda kullanışlıdır."
   ]
  },
  {
   "cell_type": "code",
   "execution_count": null,
   "metadata": {},
   "outputs": [],
   "source": []
  },
  {
   "cell_type": "markdown",
   "metadata": {},
   "source": [
    "## **Python Pratikleri**"
   ]
  },
  {
   "cell_type": "markdown",
   "metadata": {},
   "source": [
    "1. Bir değişken tanımla ve içine kullanıcının yaşını isteyip sakla. Ardından yaşın 10 yıl sonra kaç olacağını hesapla ve ekrana yazdır."
   ]
  },
  {
   "cell_type": "markdown",
   "metadata": {},
   "source": [
    "Tabii, kullanıcının yaşını alıp, 10 yıl sonraki yaşını hesaplayan ve ekrana yazdıran bir Python programı yazalım. Bu program, kullanıcıdan yaşını girmesini isteyecek, ardından bu yaşa 10 ekleyerek sonucu ekrana yazdıracaktır.\n",
    "\n",
    "### Python Kodu\n",
    "\n"
   ]
  },
  {
   "cell_type": "code",
   "execution_count": null,
   "metadata": {},
   "outputs": [],
   "source": [
    "# Kullanıcıdan yaşını girmesini isteyelim\n",
    "yas = int(input(\"Lütfen yaşınızı girin: \"))\n",
    "\n",
    "# 10 yıl sonraki yaşı hesaplayalım\n",
    "on_yil_sonraki_yas = yas + 10\n",
    "\n",
    "# Sonucu ekrana yazdıralım\n",
    "print(\"10 yıl sonra yaşınız:\", on_yil_sonraki_yas)"
   ]
  },
  {
   "cell_type": "markdown",
   "metadata": {},
   "source": [
    "\n",
    "\n",
    "### Açıklama\n",
    "\n",
    "1. **Kullanıcıdan Girdi Alma**:\n",
    "    ```python\n",
    "    yas = int(input(\"Lütfen yaşınızı girin: \"))\n",
    "    ```\n",
    "    - `input()` fonksiyonu, kullanıcıdan girdi alır ve bu girdiyi string olarak döner.\n",
    "    - `int()` fonksiyonu, bu string girdiyi tam sayıya dönüştürür.\n",
    "    - Kullanıcının girdiği yaş, `yas` değişkenine atanır.\n",
    "\n",
    "2. **10 Yıl Sonraki Yaşı Hesaplama**:\n",
    "    ```python\n",
    "    on_yil_sonraki_yas = yas + 10\n",
    "    ```\n",
    "    - Kullanıcının yaşı olan `yas` değişkenine 10 eklenir ve sonuç `on_yil_sonraki_yas` değişkenine atanır.\n",
    "\n",
    "3. **Sonucu Ekrana Yazdırma**:\n",
    "    ```python\n",
    "    print(\"10 yıl sonra yaşınız:\", on_yil_sonraki_yas)\n",
    "    ```\n",
    "    - `print()` fonksiyonu, hesaplanan 10 yıl sonraki yaşı ekrana yazdırır.\n",
    "\n",
    "Bu program, kullanıcıdan yaşını alır, 10 yıl sonraki yaşını hesaplar ve sonucu ekrana yazdırır. Örneğin, kullanıcı 25 yaşında olduğunu girerse, program \"10 yıl sonra yaşınız: 35\" çıktısını verecektir."
   ]
  },
  {
   "cell_type": "markdown",
   "metadata": {},
   "source": [
    "2. Kullanıcıdan bir sayı al ve pozitif mi negatif mi olduğunu ekrana yazdır."
   ]
  },
  {
   "cell_type": "markdown",
   "metadata": {},
   "source": [
    "Kullanıcıdan bir sayı alıp, bu sayının pozitif mi negatif mi olduğunu kontrol eden ve sonucu ekrana yazdıran bir Python programı yazalım. Bu program, kullanıcıdan bir sayı girmesini isteyecek, ardından bu sayının pozitif, negatif veya sıfır olup olmadığını kontrol ederek sonucu ekrana yazdıracaktır.\n",
    "\n",
    "### Python Kodu\n",
    "\n"
   ]
  },
  {
   "cell_type": "code",
   "execution_count": null,
   "metadata": {},
   "outputs": [],
   "source": [
    "# Kullanıcıdan bir sayı girmesini isteyelim\n",
    "sayi = float(input(\"Lütfen bir sayı girin: \"))\n",
    "\n",
    "# Sayının pozitif mi negatif mi olduğunu kontrol edelim\n",
    "if sayi > 0:\n",
    "    print(\"Girdiğiniz sayı pozitiftir.\")\n",
    "elif sayi < 0:\n",
    "    print(\"Girdiğiniz sayı negatiftir.\")\n",
    "else:\n",
    "    print(\"Girdiğiniz sayı sıfırdır.\")"
   ]
  },
  {
   "cell_type": "markdown",
   "metadata": {},
   "source": [
    "\n",
    "\n",
    "### Açıklama\n",
    "\n",
    "1. **Kullanıcıdan Girdi Alma**:\n",
    "    ```python\n",
    "    sayi = float(input(\"Lütfen bir sayı girin: \"))\n",
    "    ```\n",
    "    - `input()` fonksiyonu, kullanıcıdan girdi alır ve bu girdiyi string olarak döner.\n",
    "    - `float()` fonksiyonu, bu string girdiyi ondalıklı sayıya (float) dönüştürür.\n",
    "    - Kullanıcının girdiği sayı, `sayi` değişkenine atanır.\n",
    "\n",
    "2. **Sayının Pozitif mi Negatif mi Olduğunu Kontrol Etme**:\n",
    "    ```python\n",
    "    if sayi > 0:\n",
    "        print(\"Girdiğiniz sayı pozitiftir.\")\n",
    "    elif sayi < 0:\n",
    "        print(\"Girdiğiniz sayı negatiftir.\")\n",
    "    else:\n",
    "        print(\"Girdiğiniz sayı sıfırdır.\")\n",
    "    ```\n",
    "    - `if` ifadesi, sayının pozitif olup olmadığını kontrol eder. Eğer sayı pozitifse, \"Girdiğiniz sayı pozitiftir.\" mesajı ekrana yazdırılır.\n",
    "    - `elif` ifadesi, sayının negatif olup olmadığını kontrol eder. Eğer sayı negatifse, \"Girdiğiniz sayı negatiftir.\" mesajı ekrana yazdırılır.\n",
    "    - `else` ifadesi, sayının sıfır olup olmadığını kontrol eder. Eğer sayı sıfırsa, \"Girdiğiniz sayı sıfırdır.\" mesajı ekrana yazdırılır.\n",
    "\n",
    "Bu program, kullanıcıdan bir sayı alır, bu sayının pozitif, negatif veya sıfır olup olmadığını kontrol eder ve sonucu ekrana yazdırır. Örneğin, kullanıcı 5 girerse, program \"Girdiğiniz sayı pozitiftir.\" çıktısını verecektir. Eğer kullanıcı -3 girerse, program \"Girdiğiniz sayı negatiftir.\" çıktısını verecektir. Eğer kullanıcı 0 girerse, program \"Girdiğiniz sayı sıfırdır.\" çıktısını verecektir."
   ]
  },
  {
   "cell_type": "markdown",
   "metadata": {},
   "source": [
    "3. 1’den 10’a kadar olan sayıların toplamını bir for döngüsüyle hesapla."
   ]
  },
  {
   "cell_type": "markdown",
   "metadata": {},
   "source": [
    "1'den 10'a kadar olan sayıların toplamını bir `for` döngüsü kullanarak hesaplamak için aşağıdaki Python kodunu kullanabilirsiniz. Bu kod, 1'den 10'a kadar olan sayıları toplar ve sonucu ekrana yazdırır.\n",
    "\n",
    "### Python Kodu\n",
    "\n"
   ]
  },
  {
   "cell_type": "code",
   "execution_count": null,
   "metadata": {},
   "outputs": [],
   "source": [
    "# Toplamı saklamak için bir değişken tanımlayalım\n",
    "toplam = 0\n",
    "\n",
    "# 1'den 10'a kadar olan sayıları toplamak için bir for döngüsü kullanalım\n",
    "for sayi in range(1, 11):\n",
    "    toplam += sayi\n",
    "\n",
    "# Sonucu ekrana yazdıralım\n",
    "print(\"1'den 10'a kadar olan sayıların toplamı:\", toplam)"
   ]
  },
  {
   "cell_type": "markdown",
   "metadata": {},
   "source": [
    "\n",
    "\n",
    "### Açıklama\n",
    "\n",
    "1. **Toplamı Saklamak İçin Değişken Tanımlama**:\n",
    "    ```python\n",
    "    toplam = 0\n",
    "    ```\n",
    "    - `toplam` değişkeni, sayıların toplamını saklamak için kullanılır ve başlangıçta 0 olarak ayarlanır.\n",
    "\n",
    "2. **For Döngüsü Kullanarak Sayıları Toplama**:\n",
    "    ```python\n",
    "    for sayi in range(1, 11):\n",
    "        toplam += sayi\n",
    "    ```\n",
    "    - `range(1, 11)` ifadesi, 1'den 10'a kadar olan sayıları (1 ve 10 dahil) üretir.\n",
    "    - `for` döngüsü, bu sayılar üzerinde iterasyon yapar ve her bir sayıyı `sayi` değişkenine atar.\n",
    "    - `toplam += sayi` ifadesi, her iterasyonda `sayi` değişkeninin değerini `toplam` değişkenine ekler.\n",
    "\n",
    "3. **Sonucu Ekrana Yazdırma**:\n",
    "    ```python\n",
    "    print(\"1'den 10'a kadar olan sayıların toplamı:\", toplam)\n",
    "    ```\n",
    "    - `print()` fonksiyonu, hesaplanan toplamı ekrana yazdırır.\n",
    "\n",
    "Bu program, 1'den 10'a kadar olan sayıların toplamını hesaplar ve sonucu ekrana yazdırır. Çıktı şu şekilde olacaktır:\n",
    "\n"
   ]
  },
  {
   "cell_type": "code",
   "execution_count": null,
   "metadata": {
    "vscode": {
     "languageId": ""
    }
   },
   "outputs": [],
   "source": [
    "1'den 10'a kadar olan sayıların toplamı: 55"
   ]
  },
  {
   "cell_type": "markdown",
   "metadata": {},
   "source": [
    "\n",
    "\n",
    "Bu şekilde, `for` döngüsü kullanarak 1'den 10'a kadar olan sayıların toplamını kolayca hesaplayabilirsiniz."
   ]
  },
  {
   "cell_type": "markdown",
   "metadata": {},
   "source": [
    "4. 1’den 10’a kadar olan sayıların toplamını bir while döngüsüyle hesapla."
   ]
  },
  {
   "cell_type": "markdown",
   "metadata": {},
   "source": [
    "1'den 10'a kadar olan sayıların toplamını bir `while` döngüsü kullanarak hesaplamak için aşağıdaki Python kodunu kullanabilirsiniz. Bu kod, 1'den 10'a kadar olan sayıları toplar ve sonucu ekrana yazdırır.\n",
    "\n",
    "### Python Kodu\n",
    "\n"
   ]
  },
  {
   "cell_type": "code",
   "execution_count": null,
   "metadata": {},
   "outputs": [],
   "source": [
    "# Toplamı saklamak için bir değişken tanımlayalım\n",
    "toplam = 0\n",
    "\n",
    "# Döngüde kullanılacak sayacı tanımlayalım\n",
    "sayi = 1\n",
    "\n",
    "# 1'den 10'a kadar olan sayıları toplamak için bir while döngüsü kullanalım\n",
    "while sayi <= 10:\n",
    "    toplam += sayi\n",
    "    sayi += 1\n",
    "\n",
    "# Sonucu ekrana yazdıralım\n",
    "print(\"1'den 10'a kadar olan sayıların toplamı:\", toplam)"
   ]
  },
  {
   "cell_type": "markdown",
   "metadata": {},
   "source": [
    "\n",
    "\n",
    "### Açıklama\n",
    "\n",
    "1. **Toplamı Saklamak İçin Değişken Tanımlama**:\n",
    "    ```python\n",
    "    toplam = 0\n",
    "    ```\n",
    "    - `toplam` değişkeni, sayıların toplamını saklamak için kullanılır ve başlangıçta 0 olarak ayarlanır.\n",
    "\n",
    "2. **Döngüde Kullanılacak Sayaç Tanımlama**:\n",
    "    ```python\n",
    "    sayi = 1\n",
    "    ```\n",
    "    - `sayi` değişkeni, döngüde kullanılacak sayacı temsil eder ve başlangıçta 1 olarak ayarlanır.\n",
    "\n",
    "3. **While Döngüsü Kullanarak Sayıları Toplama**:\n",
    "    ```python\n",
    "    while sayi <= 10:\n",
    "        toplam += sayi\n",
    "        sayi += 1\n",
    "    ```\n",
    "    - `while` döngüsü, `sayi` değişkeni 10'dan küçük veya eşit olduğu sürece çalışır.\n",
    "    - `toplam += sayi` ifadesi, her iterasyonda `sayi` değişkeninin değerini `toplam` değişkenine ekler.\n",
    "    - `sayi += 1` ifadesi, her iterasyonda `sayi` değişkeninin değerini 1 artırır.\n",
    "\n",
    "4. **Sonucu Ekrana Yazdırma**:\n",
    "    ```python\n",
    "    print(\"1'den 10'a kadar olan sayıların toplamı:\", toplam)\n",
    "    ```\n",
    "    - `print()` fonksiyonu, hesaplanan toplamı ekrana yazdırır.\n",
    "\n",
    "Bu program, 1'den 10'a kadar olan sayıların toplamını hesaplar ve sonucu ekrana yazdırır. Çıktı şu şekilde olacaktır:\n",
    "\n"
   ]
  },
  {
   "cell_type": "code",
   "execution_count": null,
   "metadata": {
    "vscode": {
     "languageId": ""
    }
   },
   "outputs": [],
   "source": [
    "1'den 10'a kadar olan sayıların toplamı: 55"
   ]
  },
  {
   "cell_type": "markdown",
   "metadata": {},
   "source": [
    "\n",
    "\n",
    "Bu şekilde, `while` döngüsü kullanarak 1'den 10'a kadar olan sayıların toplamını kolayca hesaplayabilirsiniz."
   ]
  },
  {
   "cell_type": "markdown",
   "metadata": {},
   "source": [
    "5. Kullanıcıdan birkaç şehir ismi al ve bu şehirleri bir listeye ekle. Sonra alfabetik olarak sıralayıp ekrana yazdır."
   ]
  },
  {
   "cell_type": "markdown",
   "metadata": {},
   "source": [
    "Kullanıcıdan birkaç şehir ismi alıp, bu şehirleri bir listeye ekleyen ve ardından alfabetik olarak sıralayıp ekrana yazdıran bir Python programı yazalım. Bu program, kullanıcıdan şehir isimlerini girmesini isteyecek, bu isimleri bir listeye ekleyecek, listeyi alfabetik olarak sıralayacak ve sonucu ekrana yazdıracaktır.\n",
    "\n",
    "### Python Kodu\n",
    "\n"
   ]
  },
  {
   "cell_type": "code",
   "execution_count": null,
   "metadata": {},
   "outputs": [],
   "source": [
    "# Şehir isimlerini saklamak için bir liste tanımlayalım\n",
    "sehirler = []\n",
    "\n",
    "# Kullanıcıdan kaç şehir ismi gireceğini öğrenelim\n",
    "sehir_sayisi = int(input(\"Kaç şehir ismi gireceksiniz? \"))\n",
    "\n",
    "# Kullanıcıdan şehir isimlerini alalım ve listeye ekleyelim\n",
    "for i in range(sehir_sayisi):\n",
    "    sehir = input(f\"{i+1}. şehir ismini girin: \")\n",
    "    sehirler.append(sehir)\n",
    "\n",
    "# Şehir isimlerini alfabetik olarak sıralayalım\n",
    "sehirler.sort()\n",
    "\n",
    "# Sonucu ekrana yazdıralım\n",
    "print(\"Alfabetik olarak sıralanmış şehir isimleri:\")\n",
    "for sehir in sehirler:\n",
    "    print(sehir)"
   ]
  },
  {
   "cell_type": "markdown",
   "metadata": {},
   "source": [
    "\n",
    "\n",
    "### Açıklama\n",
    "\n",
    "1. **Şehir İsimlerini Saklamak İçin Liste Tanımlama**:\n",
    "    ```python\n",
    "    sehirler = []\n",
    "    ```\n",
    "    - `sehirler` adında boş bir liste tanımlanır.\n",
    "\n",
    "2. **Kullanıcıdan Kaç Şehir İsmi Gireceğini Öğrenme**:\n",
    "    ```python\n",
    "    sehir_sayisi = int(input(\"Kaç şehir ismi gireceksiniz? \"))\n",
    "    ```\n",
    "    - `input()` fonksiyonu, kullanıcıdan kaç şehir ismi gireceğini alır ve bu girdiyi string olarak döner.\n",
    "    - `int()` fonksiyonu, bu string girdiyi tam sayıya dönüştürür ve `sehir_sayisi` değişkenine atanır.\n",
    "\n",
    "3. **Kullanıcıdan Şehir İsimlerini Alma ve Listeye Ekleme**:\n",
    "    ```python\n",
    "    for i in range(sehir_sayisi):\n",
    "        sehir = input(f\"{i+1}. şehir ismini girin: \")\n",
    "        sehirler.append(sehir)\n",
    "    ```\n",
    "    - `for` döngüsü, `sehir_sayisi` kadar iterasyon yapar.\n",
    "    - Her iterasyonda, kullanıcıdan bir şehir ismi alınır ve `sehirler` listesine eklenir.\n",
    "\n",
    "4. **Şehir İsimlerini Alfabetik Olarak Sıralama**:\n",
    "    ```python\n",
    "    sehirler.sort()\n",
    "    ```\n",
    "    - `sort()` metodu, `sehirler` listesini alfabetik olarak sıralar.\n",
    "\n",
    "5. **Sonucu Ekrana Yazdırma**:\n",
    "    ```python\n",
    "    print(\"Alfabetik olarak sıralanmış şehir isimleri:\")\n",
    "    for sehir in sehirler:\n",
    "        print(sehir)\n",
    "    ```\n",
    "    - `print()` fonksiyonu, sıralanmış şehir isimlerini ekrana yazdırır.\n",
    "\n",
    "Bu program, kullanıcıdan şehir isimlerini alır, bu isimleri bir listeye ekler, listeyi alfabetik olarak sıralar ve sonucu ekrana yazdırır. Örneğin, kullanıcı \"Ankara\", \"İstanbul\", \"İzmir\" şehir isimlerini girerse, program \"Alfabetik olarak sıralanmış şehir isimleri: Ankara, İstanbul, İzmir\" çıktısını verecektir."
   ]
  },
  {
   "cell_type": "markdown",
   "metadata": {},
   "source": [
    "6. Verilen iki sayının çarpımını hesaplayan ve sonucu döndüren bir fonksiyon tanımla"
   ]
  },
  {
   "cell_type": "markdown",
   "metadata": {},
   "source": [
    "Verilen iki sayının çarpımını hesaplayan ve sonucu döndüren bir Python fonksiyonu tanımlayalım. Bu fonksiyon, iki sayıyı parametre olarak alacak ve bu sayıların çarpımını hesaplayarak sonucu döndürecektir.\n",
    "\n",
    "### Python Kodu\n",
    "\n"
   ]
  },
  {
   "cell_type": "code",
   "execution_count": null,
   "metadata": {},
   "outputs": [],
   "source": [
    "# İki sayının çarpımını hesaplayan fonksiyon\n",
    "def carpim(sayi1, sayi2):\n",
    "    return sayi1 * sayi2\n",
    "\n",
    "# Örnek kullanım\n",
    "sayi1 = float(input(\"Birinci sayıyı girin: \"))\n",
    "sayi2 = float(input(\"İkinci sayıyı girin: \"))\n",
    "\n",
    "# Fonksiyonu çağırarak çarpımı hesaplayalım\n",
    "sonuc = carpim(sayi1, sayi2)\n",
    "\n",
    "# Sonucu ekrana yazdıralım\n",
    "print(\"Çarpım sonucu:\", sonuc)"
   ]
  },
  {
   "cell_type": "markdown",
   "metadata": {},
   "source": [
    "\n",
    "\n",
    "### Açıklama\n",
    "\n",
    "1. **Fonksiyon Tanımlama**:\n",
    "    ```python\n",
    "    def carpim(sayi1, sayi2):\n",
    "        return sayi1 * sayi2\n",
    "    ```\n",
    "    - `carpim` adında bir fonksiyon tanımlanır.\n",
    "    - Fonksiyon, `sayi1` ve `sayi2` adında iki parametre alır.\n",
    "    - Fonksiyon, `sayi1` ve `sayi2` parametrelerinin çarpımını hesaplar ve sonucu döner.\n",
    "\n",
    "2. **Kullanıcıdan Girdi Alma**:\n",
    "    ```python\n",
    "    sayi1 = float(input(\"Birinci sayıyı girin: \"))\n",
    "    sayi2 = float(input(\"İkinci sayıyı girin: \"))\n",
    "    ```\n",
    "    - `input()` fonksiyonu, kullanıcıdan birinci ve ikinci sayıyı alır ve bu girdileri string olarak döner.\n",
    "    - `float()` fonksiyonu, bu string girdileri ondalıklı sayıya (float) dönüştürür ve `sayi1` ve `sayi2` değişkenlerine atar.\n",
    "\n",
    "3. **Fonksiyonu Çağırma ve Çarpımı Hesaplama**:\n",
    "    ```python\n",
    "    sonuc = carpim(sayi1, sayi2)\n",
    "    ```\n",
    "    - `carpim` fonksiyonu, `sayi1` ve `sayi2` parametreleri ile çağrılır.\n",
    "    - Fonksiyon, `sayi1` ve `sayi2` parametrelerinin çarpımını hesaplar ve sonucu `sonuc` değişkenine atar.\n",
    "\n",
    "4. **Sonucu Ekrana Yazdırma**:\n",
    "    ```python\n",
    "    print(\"Çarpım sonucu:\", sonuc)\n",
    "    ```\n",
    "    - `print()` fonksiyonu, hesaplanan çarpım sonucunu ekrana yazdırır.\n",
    "\n",
    "Bu program, kullanıcıdan iki sayı alır, bu sayıların çarpımını hesaplar ve sonucu ekrana yazdırır. Örneğin, kullanıcı 3 ve 4 sayılarını girerse, program \"Çarpım sonucu: 12.0\" çıktısını verecektir."
   ]
  },
  {
   "cell_type": "markdown",
   "metadata": {},
   "source": [
    "7. Verilen iki stringden birini diğerinin ortasına ekleyerek yeni bir string oluşturun."
   ]
  },
  {
   "cell_type": "markdown",
   "metadata": {},
   "source": [
    "Verilen iki stringden birini diğerinin ortasına ekleyerek yeni bir string oluşturmak için aşağıdaki Python kodunu kullanabilirsiniz. Bu kod, iki string alır ve birinci stringi ikinci stringin ortasına ekleyerek yeni bir string oluşturur.\n",
    "\n",
    "### Python Kodu\n",
    "\n"
   ]
  },
  {
   "cell_type": "code",
   "execution_count": null,
   "metadata": {},
   "outputs": [],
   "source": [
    "def ortasina_ekle(str1, str2):\n",
    "    # İkinci stringin uzunluğunu hesaplayalım\n",
    "    uzunluk = len(str2)\n",
    "    \n",
    "    # Ortadaki indeksi bulalım\n",
    "    orta_index = uzunluk // 2\n",
    "    \n",
    "    # Birinci stringi ikinci stringin ortasına ekleyelim\n",
    "    yeni_string = str2[:orta_index] + str1 + str2[orta_index:]\n",
    "    \n",
    "    return yeni_string\n",
    "\n",
    "# Örnek kullanım\n",
    "str1 = input(\"Birinci stringi girin: \")\n",
    "str2 = input(\"İkinci stringi girin: \")\n",
    "\n",
    "# Fonksiyonu çağırarak yeni stringi oluşturalım\n",
    "sonuc = ortasina_ekle(str1, str2)\n",
    "\n",
    "# Sonucu ekrana yazdıralım\n",
    "print(\"Yeni string:\", sonuc)"
   ]
  },
  {
   "cell_type": "markdown",
   "metadata": {},
   "source": [
    "\n",
    "\n",
    "### Açıklama\n",
    "\n",
    "1. **Fonksiyon Tanımlama**:\n",
    "    ```python\n",
    "    def ortasina_ekle(str1, str2):\n",
    "        # İkinci stringin uzunluğunu hesaplayalım\n",
    "        uzunluk = len(str2)\n",
    "        \n",
    "        # Ortadaki indeksi bulalım\n",
    "        orta_index = uzunluk // 2\n",
    "        \n",
    "        # Birinci stringi ikinci stringin ortasına ekleyelim\n",
    "        yeni_string = str2[:orta_index] + str1 + str2[orta_index:]\n",
    "        \n",
    "        return yeni_string\n",
    "    ```\n",
    "    - `ortasina_ekle` adında bir fonksiyon tanımlanır.\n",
    "    - Fonksiyon, `str1` ve `str2` adında iki parametre alır.\n",
    "    - `len(str2)` ifadesi, ikinci stringin uzunluğunu hesaplar.\n",
    "    - `orta_index` değişkeni, ikinci stringin ortadaki indeksini hesaplar.\n",
    "    - `str2[:orta_index] + str1 + str2[orta_index:]` ifadesi, birinci stringi ikinci stringin ortasına ekler ve yeni bir string oluşturur.\n",
    "    - Fonksiyon, oluşturulan yeni stringi döner.\n",
    "\n",
    "2. **Kullanıcıdan Girdi Alma**:\n",
    "    ```python\n",
    "    str1 = input(\"Birinci stringi girin: \")\n",
    "    str2 = input(\"İkinci stringi girin: \")\n",
    "    ```\n",
    "    - `input()` fonksiyonu, kullanıcıdan birinci ve ikinci stringi alır ve bu girdileri `str1` ve `str2` değişkenlerine atar.\n",
    "\n",
    "3. **Fonksiyonu Çağırma ve Yeni Stringi Oluşturma**:\n",
    "    ```python\n",
    "    sonuc = ortasina_ekle(str1, str2)\n",
    "    ```\n",
    "    - `ortasina_ekle` fonksiyonu, `str1` ve `str2` parametreleri ile çağrılır.\n",
    "    - Fonksiyon, birinci stringi ikinci stringin ortasına ekler ve sonucu `sonuc` değişkenine atar.\n",
    "\n",
    "4. **Sonucu Ekrana Yazdırma**:\n",
    "    ```python\n",
    "    print(\"Yeni string:\", sonuc)\n",
    "    ```\n",
    "    - `print()` fonksiyonu, oluşturulan yeni stringi ekrana yazdırır.\n",
    "\n",
    "Bu program, kullanıcıdan iki string alır, birinci stringi ikinci stringin ortasına ekler ve sonucu ekrana yazdırır. Örneğin, kullanıcı \"abc\" ve \"12345\" stringlerini girerse, program \"Yeni string: 12abc345\" çıktısını verecektir."
   ]
  },
  {
   "cell_type": "markdown",
   "metadata": {},
   "source": [
    "8. Kullanıcıdan aldığınız bir dizenin ilk 2 ve son 2 karakterinden oluşan bir dize döndürün. Dize uzunluğu 4’den az ise \"boş string” döndürün."
   ]
  },
  {
   "cell_type": "markdown",
   "metadata": {},
   "source": [
    "Kullanıcıdan alınan bir dizenin ilk 2 ve son 2 karakterinden oluşan bir dize döndüren ve dize uzunluğu 4'ten az ise \"boş string\" döndüren bir Python programı yazalım.\n",
    "\n",
    "### Python Kodu\n",
    "\n"
   ]
  },
  {
   "cell_type": "code",
   "execution_count": null,
   "metadata": {},
   "outputs": [],
   "source": [
    "def ilk_ve_son_iki_karakter(dize):\n",
    "    # Dize uzunluğunu kontrol edelim\n",
    "    if len(dize) < 4:\n",
    "        return \"\"\n",
    "    else:\n",
    "        # İlk 2 ve son 2 karakteri birleştirelim\n",
    "        yeni_dize = dize[:2] + dize[-2:]\n",
    "        return yeni_dize\n",
    "\n",
    "# Kullanıcıdan bir dize alalım\n",
    "kullanici_dizesi = input(\"Bir dize girin: \")\n",
    "\n",
    "# Fonksiyonu çağırarak sonucu alalım\n",
    "sonuc = ilk_ve_son_iki_karakter(kullanici_dizesi)\n",
    "\n",
    "# Sonucu ekrana yazdıralım\n",
    "print(\"Sonuç:\", sonuc)"
   ]
  },
  {
   "cell_type": "markdown",
   "metadata": {},
   "source": [
    "\n",
    "\n",
    "### Açıklama\n",
    "\n",
    "1. **Fonksiyon Tanımlama**:\n",
    "    ```python\n",
    "    def ilk_ve_son_iki_karakter(dize):\n",
    "        # Dize uzunluğunu kontrol edelim\n",
    "        if len(dize) < 4:\n",
    "            return \"\"\n",
    "        else:\n",
    "            # İlk 2 ve son 2 karakteri birleştirelim\n",
    "            yeni_dize = dize[:2] + dize[-2:]\n",
    "            return yeni_dize\n",
    "    ```\n",
    "    - `ilk_ve_son_iki_karakter` adında bir fonksiyon tanımlanır.\n",
    "    - Fonksiyon, `dize` adında bir parametre alır.\n",
    "    - `if len(dize) < 4:` ifadesi, dizenin uzunluğunu kontrol eder. Eğer dize uzunluğu 4'ten az ise, fonksiyon boş bir string döner.\n",
    "    - `dize[:2] + dize[-2:]` ifadesi, dizenin ilk 2 ve son 2 karakterini birleştirir ve yeni bir dize oluşturur.\n",
    "    - Fonksiyon, oluşturulan yeni dizeyi döner.\n",
    "\n",
    "2. **Kullanıcıdan Girdi Alma**:\n",
    "    ```python\n",
    "    kullanici_dizesi = input(\"Bir dize girin: \")\n",
    "    ```\n",
    "    - `input()` fonksiyonu, kullanıcıdan bir dize alır ve bu girdiyi `kullanici_dizesi` değişkenine atar.\n",
    "\n",
    "3. **Fonksiyonu Çağırma ve Sonucu Alma**:\n",
    "    ```python\n",
    "    sonuc = ilk_ve_son_iki_karakter(kullanici_dizesi)\n",
    "    ```\n",
    "    - `ilk_ve_son_iki_karakter` fonksiyonu, `kullanici_dizesi` parametresi ile çağrılır.\n",
    "    - Fonksiyon, dizenin ilk 2 ve son 2 karakterini birleştirir ve sonucu `sonuc` değişkenine atar.\n",
    "\n",
    "4. **Sonucu Ekrana Yazdırma**:\n",
    "    ```python\n",
    "    print(\"Sonuç:\", sonuc)\n",
    "    ```\n",
    "    - `print()` fonksiyonu, oluşturulan yeni dizeyi ekrana yazdırır.\n",
    "\n",
    "Bu program, kullanıcıdan bir dize alır, dizenin ilk 2 ve son 2 karakterini birleştirir ve sonucu ekrana yazdırır. Eğer dize uzunluğu 4'ten az ise, program \"boş string\" döndürür. Örneğin, kullanıcı \"Python\" dizisini girerse, program \"Sonuç: Pyon\" çıktısını verecektir. Eğer kullanıcı \"abc\" dizisini girerse, program \"Sonuç: \" (boş string) çıktısını verecektir."
   ]
  },
  {
   "cell_type": "markdown",
   "metadata": {},
   "source": [
    "9. Verilen dizedeki bir alt dizenin kaç kez geçtiğini bulan programı yazın."
   ]
  },
  {
   "cell_type": "markdown",
   "metadata": {},
   "source": [
    "Verilen bir dizedeki bir alt dizenin kaç kez geçtiğini bulan bir Python programı yazalım. Bu program, kullanıcıdan bir ana dize ve bir alt dize alacak ve alt dizenin ana dizede kaç kez geçtiğini hesaplayarak sonucu ekrana yazdıracaktır.\n",
    "\n",
    "### Python Kodu\n",
    "\n"
   ]
  },
  {
   "cell_type": "code",
   "execution_count": null,
   "metadata": {},
   "outputs": [],
   "source": [
    "# Kullanıcıdan ana dizeyi alalım\n",
    "ana_dize = input(\"Ana dizeyi girin: \")\n",
    "\n",
    "# Kullanıcıdan alt dizeyi alalım\n",
    "alt_dize = input(\"Alt dizeyi girin: \")\n",
    "\n",
    "# Alt dizenin ana dizede kaç kez geçtiğini hesaplayalım\n",
    "gecis_sayisi = ana_dize.count(alt_dize)\n",
    "\n",
    "# Sonucu ekrana yazdıralım\n",
    "print(f\"'{alt_dize}' alt dizisi, '{ana_dize}' ana dizisinde {gecis_sayisi} kez geçiyor.\")"
   ]
  },
  {
   "cell_type": "markdown",
   "metadata": {},
   "source": [
    "\n",
    "\n",
    "### Açıklama\n",
    "\n",
    "1. **Kullanıcıdan Ana Dizeyi Alma**:\n",
    "    ```python\n",
    "    ana_dize = input(\"Ana dizeyi girin: \")\n",
    "    ```\n",
    "    - `input()` fonksiyonu, kullanıcıdan ana dizeyi alır ve bu girdiyi `ana_dize` değişkenine atar.\n",
    "\n",
    "2. **Kullanıcıdan Alt Dizeyi Alma**:\n",
    "    ```python\n",
    "    alt_dize = input(\"Alt dizeyi girin: \")\n",
    "    ```\n",
    "    - `input()` fonksiyonu, kullanıcıdan alt dizeyi alır ve bu girdiyi `alt_dize` değişkenine atar.\n",
    "\n",
    "3. **Alt Dizinin Ana Dizede Kaç Kez Geçtiğini Hesaplama**:\n",
    "    ```python\n",
    "    gecis_sayisi = ana_dize.count(alt_dize)\n",
    "    ```\n",
    "    - `count()` metodu, `alt_dize` alt dizisinin `ana_dize` ana dizisinde kaç kez geçtiğini hesaplar ve sonucu `gecis_sayisi` değişkenine atar.\n",
    "\n",
    "4. **Sonucu Ekrana Yazdırma**:\n",
    "    ```python\n",
    "    print(f\"'{alt_dize}' alt dizisi, '{ana_dize}' ana dizisinde {gecis_sayisi} kez geçiyor.\")\n",
    "    ```\n",
    "    - `print()` fonksiyonu, alt dizenin ana dizede kaç kez geçtiğini ekrana yazdırır.\n",
    "\n",
    "Bu program, kullanıcıdan bir ana dize ve bir alt dize alır, alt dizenin ana dizede kaç kez geçtiğini hesaplar ve sonucu ekrana yazdırır. Örneğin, kullanıcı \"Python programming is fun\" ana dizisini ve \"is\" alt dizisini girerse, program \"is alt dizisi, Python programming is fun ana dizisinde 1 kez geçiyor.\" çıktısını verecektir. Eğer kullanıcı \"banana\" ana dizisini ve \"na\" alt dizisini girerse, program \"na alt dizisi, banana ana dizisinde 2 kez geçiyor.\" çıktısını verecektir."
   ]
  },
  {
   "cell_type": "markdown",
   "metadata": {},
   "source": [
    "10. Öğrencilerin isim ve notlarını içeren bir sözlük oluştur. Bir öğrencinin notunu arama ve yazdırma işlemi yap."
   ]
  },
  {
   "cell_type": "markdown",
   "metadata": {},
   "source": [
    "Öğrencilerin isim ve notlarını içeren bir sözlük oluşturup, bir öğrencinin notunu arama ve yazdırma işlemi yapan bir Python programı yazalım. Bu program, kullanıcıdan bir öğrencinin adını alacak ve bu öğrencinin notunu sözlükten arayarak ekrana yazdıracaktır.\n",
    "\n",
    "### Python Kodu\n",
    "\n"
   ]
  },
  {
   "cell_type": "code",
   "execution_count": null,
   "metadata": {},
   "outputs": [],
   "source": [
    "# Öğrencilerin isim ve notlarını içeren sözlük\n",
    "ogrenci_notlari = {\n",
    "    \"Ali\": 85,\n",
    "    \"Ayşe\": 90,\n",
    "    \"Mehmet\": 78,\n",
    "    \"Fatma\": 92,\n",
    "    \"Ahmet\": 88\n",
    "}\n",
    "\n",
    "# Bir öğrencinin notunu arama ve yazdırma fonksiyonu\n",
    "def notu_yazdir(ogrenci_adi):\n",
    "    if ogrenci_adi in ogrenci_notlari:\n",
    "        print(f\"{ogrenci_adi} adlı öğrencinin notu: {ogrenci_notlari[ogrenci_adi]}\")\n",
    "    else:\n",
    "        print(f\"{ogrenci_adi} adlı öğrenci bulunamadı.\")\n",
    "\n",
    "# Kullanıcıdan bir öğrencinin adını alalım\n",
    "ogrenci_adi = input(\"Notunu öğrenmek istediğiniz öğrencinin adını girin: \")\n",
    "\n",
    "# Fonksiyonu çağırarak öğrencinin notunu yazdıralım\n",
    "notu_yazdir(ogrenci_adi)"
   ]
  },
  {
   "cell_type": "markdown",
   "metadata": {},
   "source": [
    "\n",
    "\n",
    "### Açıklama\n",
    "\n",
    "1. **Öğrencilerin İsim ve Notlarını İçeren Sözlük**:\n",
    "    ```python\n",
    "    ogrenci_notlari = {\n",
    "        \"Ali\": 85,\n",
    "        \"Ayşe\": 90,\n",
    "        \"Mehmet\": 78,\n",
    "        \"Fatma\": 92,\n",
    "        \"Ahmet\": 88\n",
    "    }\n",
    "    ```\n",
    "    - `ogrenci_notlari` adında bir sözlük tanımlanır ve bu sözlükte öğrencilerin isimleri anahtar (key) olarak, notları ise değer (value) olarak saklanır.\n",
    "\n",
    "2. **Bir Öğrencinin Notunu Arama ve Yazdırma Fonksiyonu**:\n",
    "    ```python\n",
    "    def notu_yazdir(ogrenci_adi):\n",
    "        if ogrenci_adi in ogrenci_notlari:\n",
    "            print(f\"{ogrenci_adi} adlı öğrencinin notu: {ogrenci_notlari[ogrenci_adi]}\")\n",
    "        else:\n",
    "            print(f\"{ogrenci_adi} adlı öğrenci bulunamadı.\")\n",
    "    ```\n",
    "    - `notu_yazdir` adında bir fonksiyon tanımlanır.\n",
    "    - Fonksiyon, `ogrenci_adi` adında bir parametre alır.\n",
    "    - `if ogrenci_adi in ogrenci_notlari:` ifadesi, öğrencinin adının sözlükte olup olmadığını kontrol eder.\n",
    "    - Eğer öğrenci sözlükte bulunuyorsa, öğrencinin notu ekrana yazdırılır.\n",
    "    - Eğer öğrenci sözlükte bulunmuyorsa, \"öğrenci bulunamadı\" mesajı ekrana yazdırılır.\n",
    "\n",
    "3. **Kullanıcıdan Bir Öğrencinin Adını Alma**:\n",
    "    ```python\n",
    "    ogrenci_adi = input(\"Notunu öğrenmek istediğiniz öğrencinin adını girin: \")\n",
    "    ```\n",
    "    - `input()` fonksiyonu, kullanıcıdan bir öğrencinin adını alır ve bu girdiyi `ogrenci_adi` değişkenine atar.\n",
    "\n",
    "4. **Fonksiyonu Çağırma ve Öğrencinin Notunu Yazdırma**:\n",
    "    ```python\n",
    "    notu_yazdir(ogrenci_adi)\n",
    "    ```\n",
    "    - `notu_yazdir` fonksiyonu, `ogrenci_adi` parametresi ile çağrılır.\n",
    "    - Fonksiyon, öğrencinin notunu arar ve sonucu ekrana yazdırır.\n",
    "\n",
    "Bu program, kullanıcıdan bir öğrencinin adını alır, bu öğrencinin notunu sözlükten arar ve sonucu ekrana yazdırır. Örneğin, kullanıcı \"Ayşe\" adını girerse, program \"Ayşe adlı öğrencinin notu: 90\" çıktısını verecektir. Eğer kullanıcı \"Veli\" adını girerse, program \"Veli adlı öğrenci bulunamadı\" çıktısını verecektir."
   ]
  },
  {
   "cell_type": "markdown",
   "metadata": {},
   "source": [
    "# <p style=\"background-color:green;font-family:newtimeroman;font-size:100%;color:white;text-align:center;border-radius:20px 20px;\"><b>Faydalı Olması Temennisiyle Teşekkürler</b></p>\n",
    "![](https://www.techproeducation.com/logo/headerlogo.svg)\n",
    "\n",
    "<b>Yeniliklerden ilk siz haberdar olmak istiyorsanız lütfen bizi takip etmeyi unutmayın </b>[YouTube](https://www.youtube.com/c/techproeducation) | [Instagram](https://www.instagram.com/techproeducation) | [Facebook](https://www.facebook.com/techproeducation) | [Telegram](https://t.me/joinchat/HH2qRvA-ulh4OWbb) | [Whatsapp](https://api.whatsapp.com/send/?phone=%2B15853042959&text&type=phone_number&app_absent=0) | [LinkedIn](https://www.linkedin.com/company/techproeducation/mycompany/) |"
   ]
  }
 ],
 "metadata": {
  "kernelspec": {
   "display_name": "Python 3 (ipykernel)",
   "language": "python",
   "name": "python3"
  },
  "language_info": {
   "codemirror_mode": {
    "name": "ipython",
    "version": 3
   },
   "file_extension": ".py",
   "mimetype": "text/x-python",
   "name": "python",
   "nbconvert_exporter": "python",
   "pygments_lexer": "ipython3",
   "version": "3.11.3"
  }
 },
 "nbformat": 4,
 "nbformat_minor": 2
}
