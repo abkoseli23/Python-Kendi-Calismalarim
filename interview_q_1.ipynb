{
 "cells": [
  {
   "cell_type": "markdown",
   "metadata": {},
   "source": [
    "### **1. Python'daki farklı veri tipleri nelerdir?**"
   ]
  },
  {
   "cell_type": "markdown",
   "metadata": {},
   "source": [
    "Python'da çeşitli veri tipleri bulunmaktadır. İşte Python'daki temel veri tipleri ve kısa açıklamaları:\n",
    "\n",
    "1. **Sayısal Veri Tipleri (Numeric Types)**:\n",
    "    - **int**: Tam sayılar. Örnek: `5`, `-3`, `42`\n",
    "    - **float**: Ondalıklı sayılar. Örnek: `3.14`, `-0.001`, `2.0`\n",
    "    - **complex**: Karmaşık sayılar. Örnek: `1+2j`, `3-4j`\n",
    "\n",
    "2. **Dizi Veri Tipleri (Sequence Types)**:\n",
    "    - **str**: Metin (string) verileri. Örnek: `\"Merhaba\"`, `'Python'`\n",
    "    - **list**: Liste veri tipi. Değiştirilebilir ve sıralı bir koleksiyon. Örnek: `[1, 2, 3]`, `['elma', 'armut']`\n",
    "    - **tuple**: Demet veri tipi. Değiştirilemez ve sıralı bir koleksiyon. Örnek: `(1, 2, 3)`, `('elma', 'armut')`\n",
    "\n",
    "3. **Küme Veri Tipleri (Set Types)**:\n",
    "    - **set**: Değiştirilebilir ve sırasız bir koleksiyon. Örnek: `{1, 2, 3}`, `{'elma', 'armut'}`\n",
    "    - **frozenset**: Değiştirilemez ve sırasız bir koleksiyon. Örnek: `frozenset([1, 2, 3])`\n",
    "\n",
    "4. **Sözlük Veri Tipleri (Mapping Types)**:\n",
    "    - **dict**: Anahtar-değer çiftlerinden oluşan değiştirilebilir ve sıralı bir koleksiyon. Örnek: `{'ad': 'Ali', 'yaş': 25}`, `{1: 'bir', 2: 'iki'}`\n",
    "\n",
    "5. **Boolean Veri Tipi (Boolean Type)**:\n",
    "    - **bool**: Doğru veya yanlış değerleri temsil eder. Örnek: `True`, `False`\n",
    "\n",
    "6. **Binary Veri Tipleri (Binary Types)**:\n",
    "    - **bytes**: Değiştirilemez bayt dizisi. Örnek: `b'hello'`\n",
    "    - **bytearray**: Değiştirilebilir bayt dizisi. Örnek: `bytearray(b'hello')`\n",
    "    - **memoryview**: Bellek görünümü. Örnek: `memoryview(b'hello')`\n",
    "\n",
    "7. **None Type**:\n",
    "    - **None**: Hiçbir değeri temsil etmez. Örnek: `None`\n",
    "\n",
    "Bu veri tipleri, Python'da veri saklama ve işleme işlemlerinde kullanılır. Her bir veri tipi, belirli bir kullanım amacı ve özelliklere sahiptir."
   ]
  },
  {
   "cell_type": "markdown",
   "metadata": {},
   "source": []
  },
  {
   "cell_type": "markdown",
   "metadata": {},
   "source": []
  },
  {
   "cell_type": "markdown",
   "metadata": {},
   "source": [
    "### **2. Python'da is ve == operatörleri arasındaki farkı açıklayınız.**"
   ]
  },
  {
   "cell_type": "markdown",
   "metadata": {},
   "source": [
    "Python'da `is` ve `==` operatörleri, iki değeri karşılaştırmak için kullanılır, ancak farklı amaçlara hizmet ederler ve farklı şekilde çalışırlar. İşte bu iki operatör arasındaki farklar:\n",
    "\n",
    "### `==` Operatörü\n",
    "- **Anlamı**: Eşitlik operatörü olarak bilinir.\n",
    "- **Kullanım Amacı**: İki değerin eşit olup olmadığını kontrol eder. Yani, iki değerin aynı içeriğe sahip olup olmadığını karşılaştırır.\n",
    "- **Örnek**:\n",
    "    ```python\n",
    "    a = [1, 2, 3]\n",
    "    b = [1, 2, 3]\n",
    "    print(a == b)  # True, çünkü a ve b aynı içeriğe sahip\n",
    "    ```\n",
    "\n",
    "### `is` Operatörü\n",
    "- **Anlamı**: Kimlik operatörü olarak bilinir.\n",
    "- **Kullanım Amacı**: İki değerin aynı nesne olup olmadığını kontrol eder. Yani, iki değerin bellekte aynı konumu işaret edip etmediğini karşılaştırır.\n",
    "- **Örnek**:\n",
    "    ```python\n",
    "    a = [1, 2, 3]\n",
    "    b = [1, 2, 3]\n",
    "    print(a is b)  # False, çünkü a ve b farklı nesneler (farklı bellek adreslerinde)\n",
    "\n",
    "    c = a\n",
    "    print(a is c)  # True, çünkü c ve a aynı nesneyi işaret ediyor\n",
    "    ```\n",
    "\n",
    "### Özet\n",
    "- `==` operatörü, iki değerin eşit olup olmadığını kontrol eder (değer karşılaştırması).\n",
    "- `is` operatörü, iki değerin aynı nesne olup olmadığını kontrol eder (kimlik karşılaştırması).\n",
    "\n",
    "Bu fark, özellikle mutable (değiştirilebilir) veri tipleri (örneğin listeler, sözlükler) ile çalışırken önemlidir. İki liste aynı içeriğe sahip olabilir, ancak farklı bellek adreslerinde saklanabilirler, bu durumda `==` operatörü `True` dönerken, `is` operatörü `False` dönecektir."
   ]
  },
  {
   "cell_type": "markdown",
   "metadata": {},
   "source": [
    "### **3. Bir string ifadedeki tüm karakterlerin alfanümerik olup olmadığını nasıl kontrol edersiniz?**"
   ]
  },
  {
   "cell_type": "markdown",
   "metadata": {},
   "source": [
    "Python'da bir string ifadedeki tüm karakterlerin alfanümerik olup olmadığını kontrol etmek için `str` sınıfının `isalnum()` metodunu kullanabilirsiniz. Bu metod, string ifadedeki tüm karakterlerin alfanümerik (yani harf veya rakam) olup olmadığını kontrol eder ve eğer öyleyse `True`, aksi takdirde `False` döner.\n",
    "\n",
    "İşte `isalnum()` metodunun nasıl kullanılacağını gösteren bir örnek:\n",
    "\n"
   ]
  },
  {
   "cell_type": "code",
   "execution_count": null,
   "metadata": {},
   "outputs": [],
   "source": [
    "# Bir string ifade tanımlayalım\n",
    "string_ifade = \"Python3\"\n",
    "\n",
    "# String ifadedeki tüm karakterlerin alfanümerik olup olmadığını kontrol edelim\n",
    "if string_ifade.isalnum():\n",
    "    print(\"Tüm karakterler alfanümerik.\")\n",
    "else:\n",
    "    print(\"Tüm karakterler alfanümerik değil.\")"
   ]
  },
  {
   "cell_type": "markdown",
   "metadata": {},
   "source": [
    "\n",
    "\n",
    "Bu kodun çıktısı şu şekilde olacaktır:\n",
    "\n"
   ]
  },
  {
   "cell_type": "code",
   "execution_count": null,
   "metadata": {
    "vscode": {
     "languageId": ""
    }
   },
   "outputs": [],
   "source": [
    "Tüm karakterler alfanümerik."
   ]
  },
  {
   "cell_type": "markdown",
   "metadata": {},
   "source": [
    "\n",
    "\n",
    "Başka bir örnek:\n",
    "\n"
   ]
  },
  {
   "cell_type": "code",
   "execution_count": null,
   "metadata": {},
   "outputs": [],
   "source": [
    "# Bir string ifade tanımlayalım\n",
    "string_ifade = \"Python 3\"\n",
    "\n",
    "# String ifadedeki tüm karakterlerin alfanümerik olup olmadığını kontrol edelim\n",
    "if string_ifade.isalnum():\n",
    "    print(\"Tüm karakterler alfanümerik.\")\n",
    "else:\n",
    "    print(\"Tüm karakterler alfanümerik değil.\")"
   ]
  },
  {
   "cell_type": "markdown",
   "metadata": {},
   "source": [
    "\n",
    "\n",
    "Bu kodun çıktısı şu şekilde olacaktır:\n",
    "\n"
   ]
  },
  {
   "cell_type": "code",
   "execution_count": null,
   "metadata": {
    "vscode": {
     "languageId": ""
    }
   },
   "outputs": [],
   "source": [
    "Tüm karakterler alfanümerik değil."
   ]
  },
  {
   "cell_type": "markdown",
   "metadata": {},
   "source": [
    "\n",
    "\n",
    "Bu örnekte, `string_ifade` değişkeni \"Python 3\" değerine sahiptir ve bu string içinde bir boşluk karakteri bulunduğu için `isalnum()` metodu `False` dönecektir. Bu nedenle, \"Tüm karakterler alfanümerik değil.\" mesajı ekrana yazdırılır.\n",
    "\n",
    "Özetle, `isalnum()` metodu, bir string ifadedeki tüm karakterlerin alfanümerik olup olmadığını kontrol etmek için kullanılır."
   ]
  },
  {
   "cell_type": "code",
   "execution_count": null,
   "metadata": {},
   "outputs": [],
   "source": []
  },
  {
   "cell_type": "markdown",
   "metadata": {},
   "source": [
    "### **4. Bir listedeki string elemanları nasıl birleştirirsiniz?**"
   ]
  },
  {
   "cell_type": "markdown",
   "metadata": {},
   "source": [
    "Python'da bir listedeki string elemanları birleştirmek için `join()` metodunu kullanabilirsiniz. `join()` metodu, bir iterable (örneğin bir liste) içindeki string elemanları birleştirerek tek bir string oluşturur. Bu metodu kullanırken, elemanlar arasına koymak istediğiniz ayırıcıyı (örneğin bir boşluk, virgül veya başka bir karakter) belirtebilirsiniz.\n",
    "\n",
    "İşte `join()` metodunun nasıl kullanılacağını gösteren bir örnek:\n",
    "\n"
   ]
  },
  {
   "cell_type": "code",
   "execution_count": null,
   "metadata": {},
   "outputs": [],
   "source": [
    "# Bir liste tanımlayalım\n",
    "string_listesi = [\"Merhaba\", \"dünya\", \"Python\", \"harika\"]\n",
    "\n",
    "# Liste elemanlarını birleştirelim\n",
    "birlesmis_string = \" \".join(string_listesi)\n",
    "\n",
    "# Sonucu yazdıralım\n",
    "print(birlesmis_string)"
   ]
  },
  {
   "cell_type": "markdown",
   "metadata": {},
   "source": [
    "\n",
    "\n",
    "Bu kodun çıktısı şu şekilde olacaktır:\n",
    "\n"
   ]
  },
  {
   "cell_type": "code",
   "execution_count": null,
   "metadata": {
    "vscode": {
     "languageId": ""
    }
   },
   "outputs": [],
   "source": [
    "Merhaba dünya Python harika"
   ]
  },
  {
   "cell_type": "markdown",
   "metadata": {},
   "source": [
    "\n",
    "\n",
    "Bu örnekte, `\" \".join(string_listesi)` ifadesi, `string_listesi` içindeki elemanları bir boşluk karakteri ile birleştirir.\n",
    "\n",
    "Başka bir örnek:\n",
    "\n"
   ]
  },
  {
   "cell_type": "code",
   "execution_count": null,
   "metadata": {},
   "outputs": [],
   "source": [
    "# Bir liste tanımlayalım\n",
    "string_listesi = [\"elma\", \"armut\", \"kiraz\"]\n",
    "\n",
    "# Liste elemanlarını virgül ile birleştirelim\n",
    "birlesmis_string = \", \".join(string_listesi)\n",
    "\n",
    "# Sonucu yazdıralım\n",
    "print(birlesmis_string)"
   ]
  },
  {
   "cell_type": "markdown",
   "metadata": {},
   "source": [
    "\n",
    "\n",
    "Bu kodun çıktısı şu şekilde olacaktır:\n",
    "\n"
   ]
  },
  {
   "cell_type": "code",
   "execution_count": null,
   "metadata": {
    "vscode": {
     "languageId": ""
    }
   },
   "outputs": [],
   "source": [
    "elma, armut, kiraz"
   ]
  },
  {
   "cell_type": "markdown",
   "metadata": {},
   "source": [
    "\n",
    "\n",
    "Bu örnekte, `\", \".join(string_listesi)` ifadesi, `string_listesi` içindeki elemanları bir virgül ve boşluk karakteri ile birleştirir.\n",
    "\n",
    "Özetle, `join()` metodu, bir listedeki string elemanları birleştirmek için kullanılır. Ayırıcı olarak kullanmak istediğiniz karakteri belirterek, listedeki elemanları tek bir string haline getirebilirsiniz."
   ]
  },
  {
   "cell_type": "code",
   "execution_count": null,
   "metadata": {},
   "outputs": [],
   "source": []
  },
  {
   "cell_type": "markdown",
   "metadata": {},
   "source": [
    "### **5. Python'da kapsam (scope) kavramını açıklayın.**"
   ]
  },
  {
   "cell_type": "markdown",
   "metadata": {},
   "source": [
    "Python'da kapsam (scope), bir değişkenin veya isimlendirmenin (identifier) erişilebilir olduğu kod bölgesini tanımlar. Kapsam, değişkenlerin ve fonksiyonların nerede tanımlandığını ve bu tanımlamaların nerede kullanılabileceğini belirler. Python'da dört ana kapsam türü vardır:\n",
    "\n",
    "1. **Yerel Kapsam (Local Scope)**:\n",
    "    - Bir fonksiyon veya metodun içinde tanımlanan değişkenler yerel kapsamda bulunur.\n",
    "    - Bu değişkenler sadece tanımlandıkları fonksiyon veya metod içinde erişilebilir.\n",
    "    - Fonksiyon veya metod tamamlandığında, yerel değişkenler bellekten silinir.\n",
    "\n",
    "    ```python\n",
    "    def fonksiyon():\n",
    "        yerel_degisken = 10\n",
    "        print(yerel_degisken)  # Bu, yerel_degisken'e erişebilir\n",
    "\n",
    "    fonksiyon()\n",
    "    # print(yerel_degisken)  # Bu, hata verir çünkü yerel_degisken yerel kapsamda tanımlıdır\n",
    "    ```\n",
    "\n",
    "2. **Enclosing (Kapsayıcı) Kapsam**:\n",
    "    - Bir iç içe fonksiyon yapısında, iç fonksiyonun dışındaki fonksiyonun kapsamıdır.\n",
    "    - İç fonksiyon, dış fonksiyonun değişkenlerine erişebilir.\n",
    "\n",
    "    ```python\n",
    "    def dis_fonksiyon():\n",
    "        kapsayici_degisken = 20\n",
    "\n",
    "        def ic_fonksiyon():\n",
    "            print(kapsayici_degisken)  # Bu, kapsayici_degisken'e erişebilir\n",
    "\n",
    "        ic_fonksiyon()\n",
    "\n",
    "    dis_fonksiyon()\n",
    "    ```\n",
    "\n",
    "3. **Global Kapsam (Global Scope)**:\n",
    "    - Modül seviyesinde (fonksiyonların ve sınıfların dışında) tanımlanan değişkenler global kapsamda bulunur.\n",
    "    - Bu değişkenler, modülün herhangi bir yerinde erişilebilir.\n",
    "\n",
    "    ```python\n",
    "    global_degisken = 30\n",
    "\n",
    "    def fonksiyon():\n",
    "        print(global_degisken)  # Bu, global_degisken'e erişebilir\n",
    "\n",
    "    fonksiyon()\n",
    "    print(global_degisken)  # Bu da, global_degisken'e erişebilir\n",
    "    ```\n",
    "\n",
    "4. **Yerleşik Kapsam (Built-in Scope)**:\n",
    "    - Python tarafından sağlanan yerleşik isimlerdir (örneğin, `print`, `len`, `range`).\n",
    "    - Bu isimler, Python dilinin her yerinde kullanılabilir.\n",
    "\n",
    "    ```python\n",
    "    print(\"Merhaba, dünya!\")  # print, yerleşik bir fonksiyondur\n",
    "    ```\n",
    "\n",
    "### LEGB Kuralı\n",
    "Python'da kapsam çözümlemesi LEGB (Local, Enclosing, Global, Built-in) kuralına göre yapılır. Bu kural, bir isim arandığında Python'ın hangi sırayla kapsamları kontrol ettiğini belirtir:\n",
    "1. **Local (Yerel)**: İlk olarak, yerel kapsamda (fonksiyon veya metod içinde) aranır.\n",
    "2. **Enclosing (Kapsayıcı)**: Eğer yerel kapsamda bulunamazsa, kapsayıcı kapsamda (dış fonksiyon) aranır.\n",
    "3. **Global (Global)**: Eğer kapsayıcı kapsamda da bulunamazsa, global kapsamda aranır.\n",
    "4. **Built-in (Yerleşik)**: Eğer global kapsamda da bulunamazsa, yerleşik kapsamda aranır.\n",
    "\n",
    "Örnek:\n",
    "\n"
   ]
  },
  {
   "cell_type": "code",
   "execution_count": null,
   "metadata": {},
   "outputs": [],
   "source": [
    "x = \"global\"\n",
    "\n",
    "def dış_fonksiyon():\n",
    "    x = \"enclosing\"\n",
    "\n",
    "    def iç_fonksiyon():\n",
    "        x = \"local\"\n",
    "        print(x)  # Bu, \"local\" yazdırır çünkü yerel kapsamda x tanımlıdır\n",
    "\n",
    "    iç_fonksiyon()\n",
    "\n",
    "dış_fonksiyon()\n",
    "print(x)  # Bu, \"global\" yazdırır çünkü global kapsamda x tanımlıdır"
   ]
  },
  {
   "cell_type": "markdown",
   "metadata": {},
   "source": [
    "\n",
    "\n",
    "Bu örnekte, `iç_fonksiyon` içinde `x` değişkeni yerel kapsamda tanımlıdır ve bu nedenle `print(x)` ifadesi \"local\" yazdırır. `dış_fonksiyon` tamamlandığında, global kapsamda tanımlı olan `x` değişkeni \"global\" olarak yazdırılır."
   ]
  },
  {
   "cell_type": "markdown",
   "metadata": {},
   "source": []
  },
  {
   "cell_type": "markdown",
   "metadata": {},
   "source": [
    "### **6. Listelerdeki del ve remove() arasındaki fark nedir?**"
   ]
  },
  {
   "cell_type": "markdown",
   "metadata": {},
   "source": [
    "Python'da listeler üzerinde eleman silmek için kullanılan `del` ve `remove()` yöntemleri farklı amaçlara hizmet eder ve farklı şekillerde çalışırlar. İşte bu iki yöntem arasındaki farklar:\n",
    "\n",
    "### `del` Anahtar Kelimesi\n",
    "- **Kullanım Amacı**: `del` anahtar kelimesi, bir listeden belirli bir indeksdeki elemanı silmek için kullanılır. Ayrıca, bir değişkeni tamamen silmek için de kullanılabilir.\n",
    "- **Çalışma Şekli**: `del` anahtar kelimesi, belirtilen indeksdeki elemanı listeden kaldırır. Eğer indeks belirtilmezse, değişkeni tamamen siler.\n",
    "- **Örnek**:\n",
    "    ```python\n",
    "    # Bir liste oluşturalım\n",
    "    liste = [1, 2, 3, 4, 5]\n",
    "\n",
    "    # 2. indeksdeki (3. eleman) elemanı silelim\n",
    "    del liste[2]\n",
    "    print(liste)  # Çıktı: [1, 2, 4, 5]\n",
    "\n",
    "    # Bir değişkeni tamamen silelim\n",
    "    x = 10\n",
    "    del x\n",
    "    # print(x)  # Bu, hata verir çünkü x artık tanımlı değil\n",
    "    ```\n",
    "\n",
    "### `remove()` Metodu\n",
    "- **Kullanım Amacı**: `remove()` metodu, bir listeden belirli bir değere sahip ilk elemanı silmek için kullanılır.\n",
    "- **Çalışma Şekli**: `remove()` metodu, belirtilen değere sahip ilk elemanı listeden kaldırır. Eğer belirtilen değer listede bulunmazsa, `ValueError` hatası verir.\n",
    "- **Örnek**:\n",
    "    ```python\n",
    "    # Bir liste oluşturalım\n",
    "    liste = [1, 2, 3, 4, 5, 3]\n",
    "\n",
    "    # İlk 3 değerine sahip elemanı silelim\n",
    "    liste.remove(3)\n",
    "    print(liste)  # Çıktı: [1, 2, 4, 5, 3]\n",
    "\n",
    "    # Listede olmayan bir değeri silmeye çalışalım\n",
    "    # liste.remove(10)  # Bu, ValueError hatası verir çünkü 10 listede yok\n",
    "    ```\n",
    "\n",
    "### Özet\n",
    "- **`del` Anahtar Kelimesi**:\n",
    "  - Belirli bir indeksdeki elemanı siler.\n",
    "  - Değişkeni tamamen silebilir.\n",
    "  - İndeks belirtilir.\n",
    "  - Örnek: `del liste[2]`\n",
    "\n",
    "- **`remove()` Metodu**:\n",
    "  - Belirli bir değere sahip ilk elemanı siler.\n",
    "  - Değer belirtilir.\n",
    "  - Eğer değer listede yoksa `ValueError` hatası verir.\n",
    "  - Örnek: `liste.remove(3)`\n",
    "\n",
    "Bu iki yöntem, farklı durumlarda liste elemanlarını silmek için kullanılır. `del` anahtar kelimesi, belirli bir indeksdeki elemanı silmek için kullanılırken, `remove()` metodu belirli bir değere sahip ilk elemanı silmek için kullanılır."
   ]
  },
  {
   "cell_type": "code",
   "execution_count": null,
   "metadata": {},
   "outputs": [],
   "source": []
  },
  {
   "cell_type": "markdown",
   "metadata": {},
   "source": [
    "### **7. Değişken sayıda argüman alan bir fonksiyon prototipi yazın.**"
   ]
  },
  {
   "cell_type": "markdown",
   "metadata": {},
   "source": [
    "Python'da değişken sayıda argüman alan bir fonksiyon yazmak için `*args` ve `**kwargs` kullanabilirsiniz. `*args`, pozisyonel argümanları bir tuple olarak alırken, `**kwargs` anahtar-değer çiftlerini bir sözlük (dictionary) olarak alır. İşte bu iki yöntemi kullanarak değişken sayıda argüman alan fonksiyon prototipleri:\n",
    "\n",
    "### `*args` Kullanarak Değişken Sayıda Pozisyonel Argüman Alan Fonksiyon\n",
    "`*args`, fonksiyona değişken sayıda pozisyonel argüman geçirmemizi sağlar. Bu argümanlar bir tuple olarak fonksiyon içinde kullanılabilir.\n",
    "\n"
   ]
  },
  {
   "cell_type": "code",
   "execution_count": null,
   "metadata": {},
   "outputs": [],
   "source": [
    "def fonksiyon(*args):\n",
    "    for arg in args:\n",
    "        print(arg)\n",
    "\n",
    "# Fonksiyonu farklı sayıda argümanla çağırabiliriz\n",
    "fonksiyon(1, 2, 3)\n",
    "# Çıktı:\n",
    "# 1\n",
    "# 2\n",
    "# 3\n",
    "\n",
    "fonksiyon('a', 'b', 'c', 'd')\n",
    "# Çıktı:\n",
    "# a\n",
    "# b\n",
    "# c\n",
    "# d"
   ]
  },
  {
   "cell_type": "markdown",
   "metadata": {},
   "source": [
    "\n",
    "\n",
    "### `**kwargs` Kullanarak Değişken Sayıda Anahtar-Değer Çifti Alan Fonksiyon\n",
    "`**kwargs`, fonksiyona değişken sayıda anahtar-değer çifti (keyword arguments) geçirmemizi sağlar. Bu argümanlar bir sözlük (dictionary) olarak fonksiyon içinde kullanılabilir.\n",
    "\n"
   ]
  },
  {
   "cell_type": "code",
   "execution_count": null,
   "metadata": {},
   "outputs": [],
   "source": [
    "def fonksiyon(**kwargs):\n",
    "    for key, value in kwargs.items():\n",
    "        print(f\"{key}: {value}\")\n",
    "\n",
    "# Fonksiyonu farklı sayıda anahtar-değer çifti ile çağırabiliriz\n",
    "fonksiyon(ad=\"Ali\", yas=25, sehir=\"İstanbul\")\n",
    "# Çıktı:\n",
    "# ad: Ali\n",
    "# yas: 25\n",
    "# sehir: İstanbul\n",
    "\n",
    "fonksiyon(marka=\"Toyota\", model=\"Corolla\", yil=2020)\n",
    "# Çıktı:\n",
    "# marka: Toyota\n",
    "# model: Corolla\n",
    "# yil: 2020"
   ]
  },
  {
   "cell_type": "markdown",
   "metadata": {},
   "source": [
    "\n",
    "\n",
    "### Hem `*args` Hem de `**kwargs` Kullanarak Değişken Sayıda Argüman Alan Fonksiyon\n",
    "Bir fonksiyonda hem `*args` hem de `**kwargs` kullanarak, değişken sayıda pozisyonel ve anahtar-değer çifti argümanları aynı anda alabilirsiniz.\n",
    "\n"
   ]
  },
  {
   "cell_type": "code",
   "execution_count": null,
   "metadata": {},
   "outputs": [],
   "source": [
    "def fonksiyon(*args, **kwargs):\n",
    "    print(\"Pozisyonel argümanlar:\")\n",
    "    for arg in args:\n",
    "        print(arg)\n",
    "    \n",
    "    print(\"\\nAnahtar-değer çiftleri:\")\n",
    "    for key, value in kwargs.items():\n",
    "        print(f\"{key}: {value}\")\n",
    "\n",
    "# Fonksiyonu farklı sayıda pozisyonel ve anahtar-değer çifti ile çağırabiliriz\n",
    "fonksiyon(1, 2, 3, ad=\"Ali\", yas=25)\n",
    "# Çıktı:\n",
    "# Pozisyonel argümanlar:\n",
    "# 1\n",
    "# 2\n",
    "# 3\n",
    "#\n",
    "# Anahtar-değer çiftleri:\n",
    "# ad: Ali\n",
    "# yas: 25"
   ]
  },
  {
   "cell_type": "markdown",
   "metadata": {},
   "source": [
    "\n",
    "\n",
    "Bu örneklerde, `*args` ve `**kwargs` kullanarak değişken sayıda argüman alan fonksiyonlar tanımladık. Bu yöntemler, fonksiyonlarınızı daha esnek ve yeniden kullanılabilir hale getirir."
   ]
  },
  {
   "cell_type": "code",
   "execution_count": null,
   "metadata": {},
   "outputs": [],
   "source": []
  },
  {
   "cell_type": "markdown",
   "metadata": {},
   "source": [
    "### **Python Practice 1:** Verilen bir sayının palindrom olup olmadığını veren python kodunu yazınız."
   ]
  },
  {
   "cell_type": "markdown",
   "metadata": {},
   "source": [
    "Bir sayının palindrom olup olmadığını kontrol etmek için, sayıyı string'e çevirip tersini alabilir ve orijinal haliyle karşılaştırabiliriz. Eğer sayı ve ters çevrilmiş hali aynıysa, sayı palindromdur.\n",
    "\n",
    "İşte bu işlemi gerçekleştiren Python kodu:\n",
    "\n"
   ]
  },
  {
   "cell_type": "code",
   "execution_count": null,
   "metadata": {},
   "outputs": [],
   "source": [
    "def palindrom_mu(sayi):\n",
    "    # Sayıyı string'e çevir\n",
    "    sayi_str = str(sayi)\n",
    "    \n",
    "    # Sayının tersini al\n",
    "    ters_sayi_str = sayi_str[::-1]\n",
    "    \n",
    "    # Sayının orijinal hali ile tersini karşılaştır\n",
    "    if sayi_str == ters_sayi_str:\n",
    "        return True\n",
    "    else:\n",
    "        return False\n",
    "\n",
    "# Kullanıcıdan bir sayı al\n",
    "sayi = int(input(\"Bir sayı girin: \"))\n",
    "\n",
    "# Sayının palindrom olup olmadığını kontrol et\n",
    "if palindrom_mu(sayi):\n",
    "    print(f\"{sayi} bir palindrom sayıdır.\")\n",
    "else:\n",
    "    print(f\"{sayi} bir palindrom sayı değildir.\")"
   ]
  },
  {
   "cell_type": "markdown",
   "metadata": {},
   "source": [
    "\n",
    "\n",
    "Bu kodun adım adım açıklaması:\n",
    "\n",
    "1. **Fonksiyon Tanımlama**: `palindrom_mu` adında bir fonksiyon tanımlıyoruz. Bu fonksiyon, bir sayının palindrom olup olmadığını kontrol eder.\n",
    "    ```python\n",
    "    def palindrom_mu(sayi):\n",
    "    ```\n",
    "\n",
    "2. **Sayıyı String'e Çevirme**: Fonksiyon içinde, verilen sayıyı string'e çeviriyoruz.\n",
    "    ```python\n",
    "    sayi_str = str(sayi)\n",
    "    ```\n",
    "\n",
    "3. **Sayının Tersini Alma**: String'in tersini almak için dilimleme (slicing) kullanıyoruz.\n",
    "    ```python\n",
    "    ters_sayi_str = sayi_str[::-1]\n",
    "    ```\n",
    "\n",
    "4. **Karşılaştırma**: Orijinal string ile ters çevrilmiş string'i karşılaştırıyoruz. Eğer aynıysa, sayı palindromdur.\n",
    "    ```python\n",
    "    if sayi_str == ters_sayi_str:\n",
    "        return True\n",
    "    else:\n",
    "        return False\n",
    "    ```\n",
    "\n",
    "5. **Kullanıcıdan Girdi Alma**: Kullanıcıdan bir sayı alıyoruz.\n",
    "    ```python\n",
    "    sayi = int(input(\"Bir sayı girin: \"))\n",
    "    ```\n",
    "\n",
    "6. **Sonucu Yazdırma**: Fonksiyonu çağırarak sayının palindrom olup olmadığını kontrol ediyoruz ve sonucu ekrana yazdırıyoruz.\n",
    "    ```python\n",
    "    if palindrom_mu(sayi):\n",
    "        print(f\"{sayi} bir palindrom sayıdır.\")\n",
    "    else:\n",
    "        print(f\"{sayi} bir palindrom sayı değildir.\")\n",
    "    ```\n",
    "\n",
    "Bu kodu çalıştırdığınızda, kullanıcıdan bir sayı girmesi istenir ve girilen sayının palindrom olup olmadığı kontrol edilerek sonuç ekrana yazdırılır."
   ]
  },
  {
   "cell_type": "code",
   "execution_count": null,
   "metadata": {},
   "outputs": [],
   "source": []
  },
  {
   "cell_type": "markdown",
   "metadata": {},
   "source": [
    "### **Python Practice 2:**  İki string ifadenin birbirinin anagramı olup olmadığını kontrol eden bir Python fonksiyonu yazın."
   ]
  },
  {
   "cell_type": "markdown",
   "metadata": {},
   "source": [
    "İki string ifadenin birbirinin anagramı olup olmadığını kontrol etmek için, her iki string'in de aynı karakterlere ve aynı sayıda karaktere sahip olup olmadığını kontrol edebiliriz. Bunu yapmak için, string'leri sıralayabilir ve sıralanmış hallerini karşılaştırabiliriz. Eğer sıralanmış haller aynıysa, string'ler anagramdır.\n",
    "\n",
    "İşte bu işlemi gerçekleştiren Python kodu:\n",
    "\n"
   ]
  },
  {
   "cell_type": "code",
   "execution_count": null,
   "metadata": {},
   "outputs": [],
   "source": [
    "def anagram_mi(str1, str2):\n",
    "    # String'leri küçük harfe çevir ve sıralayarak karşılaştır\n",
    "    return sorted(str1.lower()) == sorted(str2.lower())\n",
    "\n",
    "# Kullanıcıdan iki string ifade al\n",
    "str1 = input(\"Birinci string ifadeyi girin: \")\n",
    "str2 = input(\"İkinci string ifadeyi girin: \")\n",
    "\n",
    "# String'lerin anagram olup olmadığını kontrol et\n",
    "if anagram_mi(str1, str2):\n",
    "    print(f\"'{str1}' ve '{str2}' anagramdır.\")\n",
    "else:\n",
    "    print(f\"'{str1}' ve '{str2}' anagram değildir.\")"
   ]
  },
  {
   "cell_type": "markdown",
   "metadata": {},
   "source": [
    "\n",
    "\n",
    "Bu kodun adım adım açıklaması:\n",
    "\n",
    "1. **Fonksiyon Tanımlama**: `anagram_mi` adında bir fonksiyon tanımlıyoruz. Bu fonksiyon, iki string'in anagram olup olmadığını kontrol eder.\n",
    "    ```python\n",
    "    def anagram_mi(str1, str2):\n",
    "    ```\n",
    "\n",
    "2. **String'leri Küçük Harfe Çevirme ve Sıralama**: Fonksiyon içinde, verilen string'leri küçük harfe çeviriyoruz ve sıralıyoruz. Sıralanmış hallerini karşılaştırıyoruz.\n",
    "    ```python\n",
    "    return sorted(str1.lower()) == sorted(str2.lower())\n",
    "    ```\n",
    "\n",
    "3. **Kullanıcıdan Girdi Alma**: Kullanıcıdan iki string ifade alıyoruz.\n",
    "    ```python\n",
    "    str1 = input(\"Birinci string ifadeyi girin: \")\n",
    "    str2 = input(\"İkinci string ifadeyi girin: \")\n",
    "    ```\n",
    "\n",
    "4. **Sonucu Yazdırma**: Fonksiyonu çağırarak string'lerin anagram olup olmadığını kontrol ediyoruz ve sonucu ekrana yazdırıyoruz.\n",
    "    ```python\n",
    "    if anagram_mi(str1, str2):\n",
    "        print(f\"'{str1}' ve '{str2}' anagramdır.\")\n",
    "    else:\n",
    "        print(f\"'{str1}' ve '{str2}' anagram değildir.\")\n",
    "    ```\n",
    "\n",
    "Bu kodu çalıştırdığınızda, kullanıcıdan iki string ifade girmesi istenir ve girilen string'lerin anagram olup olmadığı kontrol edilerek sonuç ekrana yazdırılır."
   ]
  },
  {
   "cell_type": "code",
   "execution_count": null,
   "metadata": {},
   "outputs": [],
   "source": []
  },
  {
   "cell_type": "markdown",
   "metadata": {},
   "source": [
    "# <p style=\"background-color:green;font-family:newtimeroman;font-size:100%;color:white;text-align:center;border-radius:20px 20px;\"><b>Faydalı Olması Temennisiyle Teşekkürler</b></p>\n",
    "![](https://www.techproeducation.com/logo/headerlogo.svg)\n",
    "\n",
    "<b>Yeniliklerden ilk siz haberdar olmak istiyorsanız lütfen bizi takip etmeyi unutmayın </b>[YouTube](https://www.youtube.com/c/techproeducation) | [Instagram](https://www.instagram.com/techproeducation) | [Facebook](https://www.facebook.com/techproeducation) | [Telegram](https://t.me/joinchat/HH2qRvA-ulh4OWbb) | [Whatsapp](https://api.whatsapp.com/send/?phone=%2B15853042959&text&type=phone_number&app_absent=0) | [LinkedIn](https://www.linkedin.com/company/techproeducation/mycompany/) |"
   ]
  }
 ],
 "metadata": {
  "kernelspec": {
   "display_name": "Python 3",
   "language": "python",
   "name": "python3"
  },
  "language_info": {
   "codemirror_mode": {
    "name": "ipython",
    "version": 3
   },
   "file_extension": ".py",
   "mimetype": "text/x-python",
   "name": "python",
   "nbconvert_exporter": "python",
   "pygments_lexer": "ipython3",
   "version": "3.11.4"
  }
 },
 "nbformat": 4,
 "nbformat_minor": 2
}
