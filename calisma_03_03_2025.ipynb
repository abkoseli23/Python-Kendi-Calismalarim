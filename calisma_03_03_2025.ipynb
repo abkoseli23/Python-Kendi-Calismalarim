{
 "cells": [
  {
   "cell_type": "markdown",
   "metadata": {},
   "source": [
    "# Rastgele sayilardan olusan bir listenin icinden 15 ve 30 arasinda olan (iki sayida dahil) sayilari ayiklayan kodu yazin.\n",
    "# (filter ve lambda fonksiyonlari kullanin)\n",
    "\n",
    "Tabii, rastgele sayılardan oluşan bir listenin içinden 15 ve 30 arasında olan (iki sayı da dahil) sayıları ayıklayan bir Python kodunu `filter` ve `lambda` fonksiyonları kullanarak yazalım ve adım adım açıklayalım.\n",
    "\n",
    "### Python Kodu\n",
    "\n"
   ]
  },
  {
   "cell_type": "code",
   "execution_count": 1,
   "metadata": {},
   "outputs": [
    {
     "name": "stdout",
     "output_type": "stream",
     "text": [
      "Rastgele Sayılar: [12, 43, 35, 10, 5, 40, 38, 34, 12, 14, 17, 4, 41, 30, 31, 21, 48, 2, 3, 25]\n",
      "15 ve 30 arasında olan sayılar: [17, 30, 21, 25]\n"
     ]
    }
   ],
   "source": [
    "import random\n",
    "\n",
    "# Rastgele sayılardan oluşan bir liste oluşturalım\n",
    "rastgele_sayilar = [random.randint(1, 50) for _ in range(20)]\n",
    "\n",
    "# 15 ve 30 arasında olan sayıları ayıklamak için filter ve lambda fonksiyonlarını kullanalım\n",
    "ayiklanmis_sayilar = list(filter(lambda x: 15 <= x <= 30, rastgele_sayilar))\n",
    "\n",
    "# Sonuçları ekrana yazdıralım\n",
    "print(\"Rastgele Sayılar:\", rastgele_sayilar)\n",
    "print(\"15 ve 30 arasında olan sayılar:\", ayiklanmis_sayilar)"
   ]
  },
  {
   "cell_type": "markdown",
   "metadata": {},
   "source": [
    "\n",
    "\n",
    "### Açıklama\n",
    "\n",
    "1. **Rastgele Sayılardan Oluşan Bir Liste Oluşturma**:\n",
    "    ```python\n",
    "    import random\n",
    "\n",
    "    rastgele_sayilar = [random.randint(1, 50) for _ in range(20)]\n",
    "    ```\n",
    "    - `import random`: Python'un `random` modülünü içe aktarır.\n",
    "    - `random.randint(1, 50)`: 1 ile 50 arasında (her iki sayı da dahil) rastgele bir tam sayı üretir.\n",
    "    - `[random.randint(1, 50) for _ in range(20)]`: List comprehension kullanarak, 1 ile 50 arasında rastgele 20 tam sayıdan oluşan bir liste oluşturur.\n",
    "\n",
    "2. **Filter ve Lambda Fonksiyonlarını Kullanarak Sayıları Ayıklama**:\n",
    "    ```python\n",
    "    ayiklanmis_sayilar = list(filter(lambda x: 15 <= x <= 30, rastgele_sayilar))\n",
    "    ```\n",
    "    - `filter(lambda x: 15 <= x <= 30, rastgele_sayilar)`: `filter` fonksiyonu, verilen lambda fonksiyonunu kullanarak `rastgele_sayilar` listesindeki elemanları filtreler. Lambda fonksiyonu, her elemanın 15 ile 30 arasında olup olmadığını kontrol eder.\n",
    "    - `list(...)`: `filter` fonksiyonu bir `filter` nesnesi döner, bu nesneyi bir listeye dönüştürmek için `list()` fonksiyonunu kullanırız.\n",
    "\n",
    "3. **Sonuçları Ekrana Yazdırma**:\n",
    "    ```python\n",
    "    print(\"Rastgele Sayılar:\", rastgele_sayilar)\n",
    "    print(\"15 ve 30 arasında olan sayılar:\", ayiklanmis_sayilar)\n",
    "    ```\n",
    "    - `print(\"Rastgele Sayılar:\", rastgele_sayilar)`: Rastgele oluşturulan sayıları ekrana yazdırır.\n",
    "    - `print(\"15 ve 30 arasında olan sayılar:\", ayiklanmis_sayilar)`: 15 ve 30 arasında olan sayıları ekrana yazdırır.\n",
    "\n",
    "Bu program, rastgele sayılardan oluşan bir liste oluşturur, bu listedeki 15 ile 30 arasında olan sayıları ayıklar ve sonucu ekrana yazdırır. Örneğin, rastgele sayılar `[12, 25, 30, 7, 18, 29, 15, 22, 5, 33, 19, 27, 14, 21, 16, 28, 20, 24, 31, 26]` olarak oluşturulursa, program \"15 ve 30 arasında olan sayılar: [25, 30, 18, 29, 15, 22, 19, 27, 21, 16, 20, 24, 26]\" çıktısını verecektir."
   ]
  },
  {
   "cell_type": "markdown",
   "metadata": {},
   "source": [
    "yukarıdaki sorunun çözümünü anlamadım.çok daha basit ve anlaşlılır çöz\n",
    "\n"
   ]
  },
  {
   "cell_type": "markdown",
   "metadata": {},
   "source": [
    "Tabii, daha basit ve anlaşılır bir çözüm sunabilirim. Rastgele sayılardan oluşan bir listenin içinden 15 ve 30 arasında olan (iki sayı da dahil) sayıları ayıklamak için `filter` ve `lambda` fonksiyonlarını kullanarak basit bir Python kodu yazalım.\n",
    "\n",
    "### Python Kodu\n",
    "\n"
   ]
  },
  {
   "cell_type": "code",
   "execution_count": null,
   "metadata": {},
   "outputs": [],
   "source": [
    "import random\n",
    "\n",
    "# Rastgele sayılardan oluşan bir liste oluşturalım\n",
    "rastgele_sayilar = [random.randint(1, 50) for _ in range(20)]\n",
    "\n",
    "# 15 ve 30 arasında olan sayıları ayıklamak için filter ve lambda fonksiyonlarını kullanalım\n",
    "ayiklanmis_sayilar = list(filter(lambda x: 15 <= x <= 30, rastgele_sayilar))\n",
    "\n",
    "# Sonuçları ekrana yazdıralım\n",
    "print(\"Rastgele Sayılar:\", rastgele_sayilar)\n",
    "print(\"15 ve 30 arasında olan sayılar:\", ayiklanmis_sayilar)"
   ]
  },
  {
   "cell_type": "markdown",
   "metadata": {},
   "source": [
    "\n",
    "\n",
    "### Açıklama\n",
    "\n",
    "1. **Rastgele Sayılardan Oluşan Bir Liste Oluşturma**:\n",
    "    ```python\n",
    "    import random\n",
    "\n",
    "    rastgele_sayilar = [random.randint(1, 50) for _ in range(20)]\n",
    "    ```\n",
    "    - `import random`: Python'un `random` modülünü içe aktarır.\n",
    "    - `random.randint(1, 50)`: 1 ile 50 arasında (her iki sayı da dahil) rastgele bir tam sayı üretir.\n",
    "    - `[random.randint(1, 50) for _ in range(20)]`: List comprehension kullanarak, 1 ile 50 arasında rastgele 20 tam sayıdan oluşan bir liste oluşturur.\n",
    "\n",
    "2. **Filter ve Lambda Fonksiyonlarını Kullanarak Sayıları Ayıklama**:\n",
    "    ```python\n",
    "    ayiklanmis_sayilar = list(filter(lambda x: 15 <= x <= 30, rastgele_sayilar))\n",
    "    ```\n",
    "    - `filter(lambda x: 15 <= x <= 30, rastgele_sayilar)`: `filter` fonksiyonu, verilen lambda fonksiyonunu kullanarak `rastgele_sayilar` listesindeki elemanları filtreler. Lambda fonksiyonu, her elemanın 15 ile 30 arasında olup olmadığını kontrol eder.\n",
    "    - `list(...)`: `filter` fonksiyonu bir `filter` nesnesi döner, bu nesneyi bir listeye dönüştürmek için `list()` fonksiyonunu kullanırız.\n",
    "\n",
    "3. **Sonuçları Ekrana Yazdırma**:\n",
    "    ```python\n",
    "    print(\"Rastgele Sayılar:\", rastgele_sayilar)\n",
    "    print(\"15 ve 30 arasında olan sayılar:\", ayiklanmis_sayilar)\n",
    "    ```\n",
    "    - `print(\"Rastgele Sayılar:\", rastgele_sayilar)`: Rastgele oluşturulan sayıları ekrana yazdırır.\n",
    "    - `print(\"15 ve 30 arasında olan sayılar:\", ayiklanmis_sayilar)`: 15 ve 30 arasında olan sayıları ekrana yazdırır.\n",
    "\n",
    "Bu program, rastgele sayılardan oluşan bir liste oluşturur, bu listedeki 15 ile 30 arasında olan sayıları ayıklar ve sonucu ekrana yazdırır. Örneğin, rastgele sayılar `[12, 25, 30, 7, 18, 29, 15, 22, 5, 33, 19, 27, 14, 21, 16, 28, 20, 24, 31, 26]` olarak oluşturulursa, program \"15 ve 30 arasında olan sayılar: [25, 30, 18, 29, 15, 22, 19, 27, 21, 16, 20, 24, 26]\" çıktısını verecektir."
   ]
  },
  {
   "cell_type": "markdown",
   "metadata": {},
   "source": [
    "Python'da list comprehension konusunu çok kapsamlı ve çok ayrıntılı bol örneklerle anlatır mısın?"
   ]
  },
  {
   "cell_type": "markdown",
   "metadata": {},
   "source": [
    "Tabii, Python'da list comprehension (liste kavrama) konusunu kapsamlı ve ayrıntılı bir şekilde bol örneklerle açıklayalım.\n",
    "\n",
    "### List Comprehension Nedir?\n",
    "\n",
    "List comprehension, Python'da bir listeyi daha kısa ve okunabilir bir şekilde oluşturmanın bir yoludur. Geleneksel `for` döngüleri ve `append()` metodları kullanılarak oluşturulan listelerin yerine, tek bir satırda liste oluşturmayı sağlar. List comprehension, bir listeyi başka bir listeye dönüştürmek veya belirli bir koşulu sağlayan elemanları seçmek için kullanılır.\n",
    "\n",
    "### Temel Yapı\n",
    "\n",
    "List comprehension'ın temel yapısı şu şekildedir:\n",
    "\n"
   ]
  },
  {
   "cell_type": "code",
   "execution_count": null,
   "metadata": {},
   "outputs": [],
   "source": [
    "[expression for item in iterable if condition]"
   ]
  },
  {
   "cell_type": "markdown",
   "metadata": {},
   "source": []
  },
  {
   "cell_type": "markdown",
   "metadata": {},
   "source": [
    "\n",
    "\n",
    "- **expression**: Her bir eleman için uygulanacak ifade.\n",
    "- **item**: Döngüdeki her bir eleman.\n",
    "- **iterable**: Üzerinde döngü yapılan iterable (örneğin, liste).\n",
    "- **condition**: (Opsiyonel) Her bir elemanın karşılaması gereken koşul.\n",
    "\n",
    "### Örnekler\n",
    "\n",
    "#### Basit List Comprehension\n",
    "\n",
    "Bir listenin her bir elemanını ikiyle çarparak yeni bir liste oluşturma:\n",
    "\n"
   ]
  },
  {
   "cell_type": "code",
   "execution_count": null,
   "metadata": {},
   "outputs": [],
   "source": [
    "# Geleneksel yöntem\n",
    "numbers = [1, 2, 3, 4, 5]\n",
    "doubled_numbers = []\n",
    "for n in numbers:\n",
    "    doubled_numbers.append(n * 2)\n",
    "print(doubled_numbers)  # Çıktı: [2, 4, 6, 8, 10]\n",
    "\n",
    "# List comprehension ile\n",
    "doubled_numbers = [n * 2 for n in numbers]\n",
    "print(doubled_numbers)  # Çıktı: [2, 4, 6, 8, 10]"
   ]
  },
  {
   "cell_type": "markdown",
   "metadata": {},
   "source": [
    "\n",
    "\n",
    "#### Koşullu List Comprehension\n",
    "\n",
    "Bir listeden sadece çift sayıları seçerek yeni bir liste oluşturma:\n",
    "\n"
   ]
  },
  {
   "cell_type": "code",
   "execution_count": null,
   "metadata": {},
   "outputs": [],
   "source": [
    "# Geleneksel yöntem\n",
    "numbers = [1, 2, 3, 4, 5, 6, 7, 8, 9, 10]\n",
    "even_numbers = []\n",
    "for n in numbers:\n",
    "    if n % 2 == 0:\n",
    "        even_numbers.append(n)\n",
    "print(even_numbers)  # Çıktı: [2, 4, 6, 8, 10]\n",
    "\n",
    "# List comprehension ile\n",
    "even_numbers = [n for n in numbers if n % 2 == 0]\n",
    "print(even_numbers)  # Çıktı: [2, 4, 6, 8, 10]"
   ]
  },
  {
   "cell_type": "markdown",
   "metadata": {},
   "source": [
    "\n",
    "\n",
    "#### İç İçe Döngülerle List Comprehension\n",
    "\n",
    "İki listeyi birleştirerek tüm kombinasyonları içeren bir liste oluşturma:\n",
    "\n"
   ]
  },
  {
   "cell_type": "code",
   "execution_count": null,
   "metadata": {},
   "outputs": [],
   "source": [
    "# Geleneksel yöntem\n",
    "list1 = [1, 2, 3]\n",
    "list2 = ['a', 'b', 'c']\n",
    "combinations = []\n",
    "for x in list1:\n",
    "    for y in list2:\n",
    "        combinations.append((x, y))\n",
    "print(combinations)  # Çıktı: [(1, 'a'), (1, 'b'), (1, 'c'), (2, 'a'), (2, 'b'), (2, 'c'), (3, 'a'), (3, 'b'), (3, 'c')]\n",
    "\n",
    "# List comprehension ile\n",
    "combinations = [(x, y) for x in list1 for y in list2]\n",
    "print(combinations)  # Çıktı: [(1, 'a'), (1, 'b'), (1, 'c'), (2, 'a'), (2, 'b'), (2, 'c'), (3, 'a'), (3, 'b'), (3, 'c')]"
   ]
  },
  {
   "cell_type": "markdown",
   "metadata": {},
   "source": [
    "\n",
    "\n",
    "#### Koşullu İç İçe Döngülerle List Comprehension\n",
    "\n",
    "İki listeyi birleştirerek belirli bir koşulu sağlayan kombinasyonları içeren bir liste oluşturma:\n",
    "\n"
   ]
  },
  {
   "cell_type": "code",
   "execution_count": null,
   "metadata": {},
   "outputs": [],
   "source": [
    "# Geleneksel yöntem\n",
    "list1 = [1, 2, 3]\n",
    "list2 = ['a', 'b', 'c']\n",
    "filtered_combinations = []\n",
    "for x in list1:\n",
    "    for y in list2:\n",
    "        if x % 2 == 0:\n",
    "            filtered_combinations.append((x, y))\n",
    "print(filtered_combinations)  # Çıktı: [(2, 'a'), (2, 'b'), (2, 'c')]\n",
    "\n",
    "# List comprehension ile\n",
    "filtered_combinations = [(x, y) for x in list1 for y in list2 if x % 2 == 0]\n",
    "print(filtered_combinations)  # Çıktı: [(2, 'a'), (2, 'b'), (2, 'c')]"
   ]
  },
  {
   "cell_type": "markdown",
   "metadata": {},
   "source": [
    "\n",
    "\n",
    "### List Comprehension ile Rastgele Sayıları Filtreleme\n",
    "\n",
    "Şimdi, rastgele sayılardan oluşan bir listenin içinden 15 ve 30 arasında olan (iki sayı da dahil) sayıları ayıklayan bir list comprehension örneği yapalım:\n",
    "\n"
   ]
  },
  {
   "cell_type": "code",
   "execution_count": null,
   "metadata": {},
   "outputs": [],
   "source": [
    "import random\n",
    "\n",
    "# Rastgele sayılardan oluşan bir liste oluşturalım\n",
    "rastgele_sayilar = [random.randint(1, 50) for _ in range(20)]\n",
    "\n",
    "# 15 ve 30 arasında olan sayıları ayıklamak için list comprehension kullanalım\n",
    "ayiklanmis_sayilar = [x for x in rastgele_sayilar if 15 <= x <= 30]\n",
    "\n",
    "# Sonuçları ekrana yazdıralım\n",
    "print(\"Rastgele Sayılar:\", rastgele_sayilar)\n",
    "print(\"15 ve 30 arasında olan sayılar:\", ayiklanmis_sayilar)"
   ]
  },
  {
   "cell_type": "markdown",
   "metadata": {},
   "source": [
    "\n",
    "\n",
    "### Açıklama\n",
    "\n",
    "1. **Rastgele Sayılardan Oluşan Bir Liste Oluşturma**:\n",
    "    ```python\n",
    "    import random\n",
    "\n",
    "    rastgele_sayilar = [random.randint(1, 50) for _ in range(20)]\n",
    "    ```\n",
    "    - `import random`: Python'un `random` modülünü içe aktarır.\n",
    "    - `random.randint(1, 50)`: 1 ile 50 arasında (her iki sayı da dahil) rastgele bir tam sayı üretir.\n",
    "    - `[random.randint(1, 50) for _ in range(20)]`: List comprehension kullanarak, 1 ile 50 arasında rastgele 20 tam sayıdan oluşan bir liste oluşturur.\n",
    "\n",
    "2. **List Comprehension ile Sayıları Ayıklama**:\n",
    "    ```python\n",
    "    ayiklanmis_sayilar = [x for x in rastgele_sayilar if 15 <= x <= 30]\n",
    "    ```\n",
    "    - `x for x in rastgele_sayilar if 15 <= x <= 30`: List comprehension kullanarak, `rastgele_sayilar` listesindeki her bir elemanı kontrol eder ve 15 ile 30 arasında olanları yeni bir listeye ekler.\n",
    "\n",
    "3. **Sonuçları Ekrana Yazdırma**:\n",
    "    ```python\n",
    "    print(\"Rastgele Sayılar:\", rastgele_sayilar)\n",
    "    print(\"15 ve 30 arasında olan sayılar:\", ayiklanmis_sayilar)\n",
    "    ```\n",
    "    - `print(\"Rastgele Sayılar:\", rastgele_sayilar)`: Rastgele oluşturulan sayıları ekrana yazdırır.\n",
    "    - `print(\"15 ve 30 arasında olan sayılar:\", ayiklanmis_sayilar)`: 15 ve 30 arasında olan sayıları ekrana yazdırır.\n",
    "\n",
    "Bu şekilde, list comprehension kullanarak rastgele sayılardan oluşan bir listeyi filtreleyebilir ve belirli bir koşulu sağlayan elemanları seçebilirsiniz. List comprehension, Python'da daha kısa ve okunabilir kod yazmanıza yardımcı olur.\n",
    "\n",
    "Similar code found with 1 license type"
   ]
  },
  {
   "cell_type": "markdown",
   "metadata": {},
   "source": [
    "python da lambda konusunu çok kapsamlı ve çok ayrıntılı bol örneklerle anlatır mısın\n"
   ]
  },
  {
   "cell_type": "markdown",
   "metadata": {},
   "source": [
    "Tabii, Python'da lambda fonksiyonlarını kapsamlı ve ayrıntılı bir şekilde bol örneklerle açıklayalım.\n",
    "\n",
    "### Lambda Fonksiyonları Nedir?\n",
    "\n",
    "Lambda fonksiyonları, Python'da küçük ve anonim (isimsiz) fonksiyonlar oluşturmanın bir yoludur. Lambda fonksiyonları, `def` anahtar kelimesi kullanılarak tanımlanan normal fonksiyonlardan farklı olarak, tek bir satırda tanımlanır ve genellikle kısa süreli kullanım için tasarlanmıştır.\n",
    "\n",
    "### Lambda Fonksiyonlarının Temel Yapısı\n",
    "\n",
    "Lambda fonksiyonlarının temel yapısı şu şekildedir:\n",
    "\n"
   ]
  },
  {
   "cell_type": "code",
   "execution_count": null,
   "metadata": {},
   "outputs": [],
   "source": [
    "lambda argümanlar: ifade"
   ]
  },
  {
   "cell_type": "markdown",
   "metadata": {},
   "source": [
    "\n",
    "\n",
    "- **lambda**: Lambda fonksiyonunu tanımlamak için kullanılan anahtar kelime.\n",
    "- **argümanlar**: Lambda fonksiyonunun alacağı argümanlar.\n",
    "- **ifade**: Lambda fonksiyonunun döndüreceği ifade.\n",
    "\n",
    "### Örnekler\n",
    "\n",
    "#### Basit Lambda Fonksiyonu\n",
    "\n",
    "Bir sayıyı ikiyle çarpan basit bir lambda fonksiyonu:\n",
    "\n"
   ]
  },
  {
   "cell_type": "code",
   "execution_count": null,
   "metadata": {},
   "outputs": [],
   "source": [
    "# Normal fonksiyon\n",
    "def ikiyle_carp(x):\n",
    "    return x * 2\n",
    "\n",
    "# Lambda fonksiyonu\n",
    "ikiyle_carp_lambda = lambda x: x * 2\n",
    "\n",
    "# Kullanım\n",
    "print(ikiyle_carp(5))  # Çıktı: 10\n",
    "print(ikiyle_carp_lambda(5))  # Çıktı: 10"
   ]
  },
  {
   "cell_type": "markdown",
   "metadata": {},
   "source": [
    "\n",
    "\n",
    "#### Birden Fazla Argüman Alan Lambda Fonksiyonu\n",
    "\n",
    "İki sayıyı toplayan bir lambda fonksiyonu:\n",
    "\n"
   ]
  },
  {
   "cell_type": "code",
   "execution_count": null,
   "metadata": {},
   "outputs": [],
   "source": [
    "# Normal fonksiyon\n",
    "def topla(a, b):\n",
    "    return a + b\n",
    "\n",
    "# Lambda fonksiyonu\n",
    "topla_lambda = lambda a, b: a + b\n",
    "\n",
    "# Kullanım\n",
    "print(topla(3, 4))  # Çıktı: 7\n",
    "print(topla_lambda(3, 4))  # Çıktı: 7"
   ]
  },
  {
   "cell_type": "markdown",
   "metadata": {},
   "source": [
    "\n",
    "\n",
    "#### Koşullu İfade İçeren Lambda Fonksiyonu\n",
    "\n",
    "Bir sayının pozitif, negatif veya sıfır olup olmadığını kontrol eden bir lambda fonksiyonu:\n",
    "\n"
   ]
  },
  {
   "cell_type": "code",
   "execution_count": null,
   "metadata": {},
   "outputs": [],
   "source": [
    "# Normal fonksiyon\n",
    "def kontrol_et(x):\n",
    "    if x > 0:\n",
    "        return \"Pozitif\"\n",
    "    elif x < 0:\n",
    "        return \"Negatif\"\n",
    "    else:\n",
    "        return \"Sıfır\"\n",
    "\n",
    "# Lambda fonksiyonu\n",
    "kontrol_et_lambda = lambda x: \"Pozitif\" if x > 0 else (\"Negatif\" if x < 0 else \"Sıfır\")\n",
    "\n",
    "# Kullanım\n",
    "print(kontrol_et(10))  # Çıktı: Pozitif\n",
    "print(kontrol_et_lambda(10))  # Çıktı: Pozitif"
   ]
  },
  {
   "cell_type": "markdown",
   "metadata": {},
   "source": [
    "\n",
    "\n",
    "### Lambda Fonksiyonlarının Kullanım Alanları\n",
    "\n",
    "#### `map()` Fonksiyonu ile Kullanım\n",
    "\n",
    "Bir listenin her bir elemanını ikiyle çarparak yeni bir liste oluşturma:\n",
    "\n"
   ]
  },
  {
   "cell_type": "code",
   "execution_count": null,
   "metadata": {},
   "outputs": [],
   "source": [
    "numbers = [1, 2, 3, 4, 5]\n",
    "\n",
    "# Lambda fonksiyonu ile map kullanımı\n",
    "doubled_numbers = list(map(lambda x: x * 2, numbers))\n",
    "\n",
    "print(doubled_numbers)  # Çıktı: [2, 4, 6, 8, 10]"
   ]
  },
  {
   "cell_type": "markdown",
   "metadata": {},
   "source": [
    "\n",
    "\n",
    "#### `filter()` Fonksiyonu ile Kullanım\n",
    "\n",
    "Bir listeden sadece çift sayıları seçerek yeni bir liste oluşturma:\n",
    "\n"
   ]
  },
  {
   "cell_type": "code",
   "execution_count": null,
   "metadata": {},
   "outputs": [],
   "source": [
    "numbers = [1, 2, 3, 4, 5, 6, 7, 8, 9, 10]\n",
    "\n",
    "# Lambda fonksiyonu ile filter kullanımı\n",
    "even_numbers = list(filter(lambda x: x % 2 == 0, numbers))\n",
    "\n",
    "print(even_numbers)  # Çıktı: [2, 4, 6, 8, 10]"
   ]
  },
  {
   "cell_type": "markdown",
   "metadata": {},
   "source": [
    "\n",
    "\n",
    "#### `reduce()` Fonksiyonu ile Kullanım\n",
    "\n",
    "Bir listenin elemanlarını toplayarak tek bir değer elde etme:\n",
    "\n"
   ]
  },
  {
   "cell_type": "code",
   "execution_count": null,
   "metadata": {},
   "outputs": [],
   "source": [
    "from functools import reduce\n",
    "\n",
    "numbers = [1, 2, 3, 4, 5]\n",
    "\n",
    "# Lambda fonksiyonu ile reduce kullanımı\n",
    "sum_numbers = reduce(lambda x, y: x + y, numbers)\n",
    "\n",
    "print(sum_numbers)  # Çıktı: 15"
   ]
  },
  {
   "cell_type": "markdown",
   "metadata": {},
   "source": [
    "\n",
    "\n",
    "### Lambda Fonksiyonları ile Rastgele Sayıları Filtreleme\n",
    "\n",
    "Şimdi, rastgele sayılardan oluşan bir listenin içinden 15 ve 30 arasında olan (iki sayı da dahil) sayıları ayıklayan bir lambda fonksiyonu örneği yapalım:\n",
    "\n"
   ]
  },
  {
   "cell_type": "code",
   "execution_count": null,
   "metadata": {},
   "outputs": [],
   "source": [
    "import random\n",
    "\n",
    "# Rastgele sayılardan oluşan bir liste oluşturalım\n",
    "rastgele_sayilar = [random.randint(1, 50) for _ in range(20)]\n",
    "\n",
    "# 15 ve 30 arasında olan sayıları ayıklamak için lambda fonksiyonu ve filter kullanalım\n",
    "ayiklanmis_sayilar = list(filter(lambda x: 15 <= x <= 30, rastgele_sayilar))\n",
    "\n",
    "# Sonuçları ekrana yazdıralım\n",
    "print(\"Rastgele Sayılar:\", rastgele_sayilar)\n",
    "print(\"15 ve 30 arasında olan sayılar:\", ayiklanmis_sayilar)"
   ]
  },
  {
   "cell_type": "markdown",
   "metadata": {},
   "source": [
    "\n",
    "\n",
    "### Açıklama\n",
    "\n",
    "1. **Rastgele Sayılardan Oluşan Bir Liste Oluşturma**:\n",
    "    ```python\n",
    "    import random\n",
    "\n",
    "    rastgele_sayilar = [random.randint(1, 50) for _ in range(20)]\n",
    "    ```\n",
    "    - `import random`: Python'un `random` modülünü içe aktarır.\n",
    "    - `random.randint(1, 50)`: 1 ile 50 arasında (her iki sayı da dahil) rastgele bir tam sayı üretir.\n",
    "    - `[random.randint(1, 50) for _ in range(20)]`: List comprehension kullanarak, 1 ile 50 arasında rastgele 20 tam sayıdan oluşan bir liste oluşturur.\n",
    "\n",
    "2. **Lambda Fonksiyonu ve Filter Kullanarak Sayıları Ayıklama**:\n",
    "    ```python\n",
    "    ayiklanmis_sayilar = list(filter(lambda x: 15 <= x <= 30, rastgele_sayilar))\n",
    "    ```\n",
    "    - `filter(lambda x: 15 <= x <= 30, rastgele_sayilar)`: `filter` fonksiyonu, verilen lambda fonksiyonunu kullanarak `rastgele_sayilar` listesindeki elemanları filtreler. Lambda fonksiyonu, her elemanın 15 ile 30 arasında olup olmadığını kontrol eder.\n",
    "    - `list(...)`: `filter` fonksiyonu bir `filter` nesnesi döner, bu nesneyi bir listeye dönüştürmek için `list()` fonksiyonunu kullanırız.\n",
    "\n",
    "3. **Sonuçları Ekrana Yazdırma**:\n",
    "    ```python\n",
    "    print(\"Rastgele Sayılar:\", rastgele_sayilar)\n",
    "    print(\"15 ve 30 arasında olan sayılar:\", ayiklanmis_sayilar)\n",
    "    ```\n",
    "    - `print(\"Rastgele Sayılar:\", rastgele_sayilar)`: Rastgele oluşturulan sayıları ekrana yazdırır.\n",
    "    - `print(\"15 ve 30 arasında olan sayılar:\", ayiklanmis_sayilar)`: 15 ve 30 arasında olan sayıları ekrana yazdırır.\n",
    "\n",
    "Bu şekilde, lambda fonksiyonlarını kullanarak çeşitli işlemleri kısa ve okunabilir bir şekilde gerçekleştirebilirsiniz. Lambda fonksiyonları, özellikle kısa süreli ve basit işlemler için kullanışlıdır."
   ]
  },
  {
   "cell_type": "markdown",
   "metadata": {},
   "source": [
    "python da fonksiyonlar konusunu bütün alt konularını ele alarak çok kapsamlı çok ayrıntılı ve bol örneklerle anlatır mısın"
   ]
  },
  {
   "cell_type": "markdown",
   "metadata": {},
   "source": [
    "Tabii, Python'da fonksiyonlar konusunu kapsamlı ve ayrıntılı bir şekilde bol örneklerle açıklayalım. Fonksiyonlar, kodunuzu daha düzenli, okunabilir ve yeniden kullanılabilir hale getirmek için kullanılır. Fonksiyonlar, belirli bir görevi yerine getiren kod bloklarıdır ve gerektiğinde çağrılabilirler.\n",
    "\n",
    "### Fonksiyon Tanımlama ve Çağırma\n",
    "\n",
    "Python'da bir fonksiyon tanımlamak için `def` anahtar kelimesi kullanılır. Fonksiyonun adı, parantezler ve ardından iki nokta üst üste gelir. Fonksiyonun gövdesi, girintili bir blok olarak tanımlanır.\n",
    "\n",
    "#### Temel Fonksiyon Tanımlama ve Çağırma\n",
    "\n"
   ]
  },
  {
   "cell_type": "code",
   "execution_count": null,
   "metadata": {},
   "outputs": [],
   "source": [
    "# Fonksiyon tanımlama\n",
    "def merhaba():\n",
    "    print(\"Merhaba, dünya!\")\n",
    "\n",
    "# Fonksiyon çağırma\n",
    "merhaba()"
   ]
  },
  {
   "cell_type": "markdown",
   "metadata": {},
   "source": [
    "\n",
    "\n",
    "### Parametreler ve Argümanlar\n",
    "\n",
    "Fonksiyonlar, parametreler alabilir ve bu parametreler fonksiyon çağrıldığında argüman olarak geçilir.\n",
    "\n",
    "#### Parametreli Fonksiyon\n",
    "\n"
   ]
  },
  {
   "cell_type": "code",
   "execution_count": null,
   "metadata": {},
   "outputs": [],
   "source": [
    "# Parametreli fonksiyon tanımlama\n",
    "def selamla(isim):\n",
    "    print(f\"Merhaba, {isim}!\")\n",
    "\n",
    "# Fonksiyon çağırma\n",
    "selamla(\"Ali\")"
   ]
  },
  {
   "cell_type": "markdown",
   "metadata": {},
   "source": [
    "\n",
    "\n",
    "#### Birden Fazla Parametreli Fonksiyon\n",
    "\n"
   ]
  },
  {
   "cell_type": "code",
   "execution_count": null,
   "metadata": {},
   "outputs": [],
   "source": [
    "# Birden fazla parametreli fonksiyon tanımlama\n",
    "def topla(a, b):\n",
    "    return a + b\n",
    "\n",
    "# Fonksiyon çağırma\n",
    "sonuc = topla(3, 5)\n",
    "print(sonuc)  # Çıktı: 8"
   ]
  },
  {
   "cell_type": "markdown",
   "metadata": {},
   "source": [
    "\n",
    "\n",
    "### Varsayılan Parametre Değerleri\n",
    "\n",
    "Fonksiyon parametrelerine varsayılan değerler atanabilir. Bu, fonksiyon çağrıldığında argüman verilmezse varsayılan değerin kullanılmasını sağlar.\n",
    "\n",
    "#### Varsayılan Parametre Değerleri\n",
    "\n"
   ]
  },
  {
   "cell_type": "code",
   "execution_count": null,
   "metadata": {},
   "outputs": [],
   "source": [
    "# Varsayılan parametre değerleri ile fonksiyon tanımlama\n",
    "def selamla(isim=\"Dünya\"):\n",
    "    print(f\"Merhaba, {isim}!\")\n",
    "\n",
    "# Fonksiyon çağırma\n",
    "selamla()  # Çıktı: Merhaba, Dünya!\n",
    "selamla(\"Ali\")  # Çıktı: Merhaba, Ali!"
   ]
  },
  {
   "cell_type": "markdown",
   "metadata": {},
   "source": [
    "\n",
    "\n",
    "### Anahtar Kelime Argümanları\n",
    "\n",
    "Fonksiyon çağrılırken argümanlar anahtar kelime argümanları olarak geçilebilir. Bu, argümanların sırasını değiştirmeyi sağlar.\n",
    "\n",
    "#### Anahtar Kelime Argümanları\n",
    "\n"
   ]
  },
  {
   "cell_type": "code",
   "execution_count": null,
   "metadata": {},
   "outputs": [],
   "source": [
    "# Birden fazla parametreli fonksiyon tanımlama\n",
    "def bilgi_ver(isim, yas, sehir):\n",
    "    print(f\"İsim: {isim}, Yaş: {yas}, Şehir: {sehir}\")\n",
    "\n",
    "# Anahtar kelime argümanları ile fonksiyon çağırma\n",
    "bilgi_ver(yas=25, sehir=\"İstanbul\", isim=\"Ali\")"
   ]
  },
  {
   "cell_type": "markdown",
   "metadata": {},
   "source": [
    "\n",
    "\n",
    "### Esnek Sayıda Argümanlar\n",
    "\n",
    "Python'da bir fonksiyonun esnek sayıda argüman almasını sağlamak için `*args` ve `**kwargs` kullanılır.\n",
    "\n",
    "#### `*args` Kullanımı\n",
    "\n",
    "`*args`, pozisyonel argümanları bir tuple olarak alır.\n",
    "\n"
   ]
  },
  {
   "cell_type": "code",
   "execution_count": null,
   "metadata": {},
   "outputs": [],
   "source": [
    "# Esnek sayıda pozisyonel argüman alan fonksiyon tanımlama\n",
    "def topla(*args):\n",
    "    return sum(args)\n",
    "\n",
    "# Fonksiyon çağırma\n",
    "sonuc = topla(1, 2, 3, 4, 5)\n",
    "print(sonuc)  # Çıktı: 15"
   ]
  },
  {
   "cell_type": "markdown",
   "metadata": {},
   "source": [
    "\n",
    "\n",
    "#### `**kwargs` Kullanımı\n",
    "\n",
    "`**kwargs`, anahtar-değer çiftlerini bir sözlük (dictionary) olarak alır.\n",
    "\n"
   ]
  },
  {
   "cell_type": "code",
   "execution_count": null,
   "metadata": {},
   "outputs": [],
   "source": [
    "# Esnek sayıda anahtar-değer çifti alan fonksiyon tanımlama\n",
    "def bilgi_ver(**kwargs):\n",
    "    for key, value in kwargs.items():\n",
    "        print(f\"{key}: {value}\")\n",
    "\n",
    "# Fonksiyon çağırma\n",
    "bilgi_ver(isim=\"Ali\", yas=25, sehir=\"İstanbul\")"
   ]
  },
  {
   "cell_type": "markdown",
   "metadata": {},
   "source": [
    "\n",
    "\n",
    "### İç İçe Fonksiyonlar\n",
    "\n",
    "Python'da bir fonksiyonun içinde başka bir fonksiyon tanımlanabilir. Bu, iç içe fonksiyonlar olarak adlandırılır.\n",
    "\n",
    "#### İç İçe Fonksiyonlar\n",
    "\n"
   ]
  },
  {
   "cell_type": "code",
   "execution_count": null,
   "metadata": {},
   "outputs": [],
   "source": [
    "# İç içe fonksiyonlar tanımlama\n",
    "def dis_fonksiyon():\n",
    "    print(\"Dış fonksiyon çalıştı.\")\n",
    "\n",
    "    def ic_fonksiyon():\n",
    "        print(\"İç fonksiyon çalıştı.\")\n",
    "\n",
    "    ic_fonksiyon()\n",
    "\n",
    "# Fonksiyon çağırma\n",
    "dis_fonksiyon()"
   ]
  },
  {
   "cell_type": "markdown",
   "metadata": {},
   "source": [
    "\n",
    "\n",
    "### Lambda Fonksiyonları\n",
    "\n",
    "Lambda fonksiyonları, küçük ve anonim (isimsiz) fonksiyonlardır. Tek bir ifade içerirler ve genellikle kısa süreli kullanım için tasarlanmıştır.\n",
    "\n",
    "#### Lambda Fonksiyonları\n",
    "\n"
   ]
  },
  {
   "cell_type": "code",
   "execution_count": null,
   "metadata": {},
   "outputs": [],
   "source": [
    "# Lambda fonksiyonu tanımlama\n",
    "kare_al = lambda x: x * x\n",
    "\n",
    "# Lambda fonksiyonu çağırma\n",
    "sonuc = kare_al(5)\n",
    "print(sonuc)  # Çıktı: 25"
   ]
  },
  {
   "cell_type": "markdown",
   "metadata": {},
   "source": [
    "\n",
    "\n",
    "### Fonksiyonların Fonksiyonlara Argüman Olarak Geçirilmesi\n",
    "\n",
    "Python'da fonksiyonlar, diğer fonksiyonlara argüman olarak geçirilebilir.\n",
    "\n",
    "#### Fonksiyonların Fonksiyonlara Argüman Olarak Geçirilmesi\n",
    "\n"
   ]
  },
  {
   "cell_type": "code",
   "execution_count": null,
   "metadata": {},
   "outputs": [],
   "source": [
    "# Bir fonksiyon tanımlama\n",
    "def ikiyle_carp(x):\n",
    "    return x * 2\n",
    "\n",
    "# Bir fonksiyonu argüman olarak alan fonksiyon tanımlama\n",
    "def uygula(fonksiyon, deger):\n",
    "    return fonksiyon(deger)\n",
    "\n",
    "# Fonksiyon çağırma\n",
    "sonuc = uygula(ikiyle_carp, 5)\n",
    "print(sonuc)  # Çıktı: 10"
   ]
  },
  {
   "cell_type": "markdown",
   "metadata": {},
   "source": [
    "\n",
    "\n",
    "### Fonksiyonların Fonksiyonlardan Döndürülmesi\n",
    "\n",
    "Python'da bir fonksiyon, başka bir fonksiyonu döndürebilir.\n",
    "\n",
    "#### Fonksiyonların Fonksiyonlardan Döndürülmesi\n",
    "\n"
   ]
  },
  {
   "cell_type": "code",
   "execution_count": null,
   "metadata": {},
   "outputs": [],
   "source": [
    "# Bir fonksiyon tanımlama\n",
    "def carpma_fonksiyonu(carpan):\n",
    "    def carp(x):\n",
    "        return x * carpan\n",
    "    return carp\n",
    "\n",
    "# Fonksiyon çağırma\n",
    "ikiyle_carp = carpma_fonksiyonu(2)\n",
    "sonuc = ikiyle_carp(5)\n",
    "print(sonuc)  # Çıktı: 10"
   ]
  },
  {
   "cell_type": "markdown",
   "metadata": {},
   "source": [
    "\n",
    "\n",
    "### Örnek: Rastgele Sayılardan Oluşan Bir Listenin İçinden Belirli Sayıları Ayıklama\n",
    "\n",
    "Şimdi, rastgele sayılardan oluşan bir listenin içinden 15 ve 30 arasında olan (iki sayı da dahil) sayıları ayıklayan bir fonksiyon yazalım ve bu fonksiyonu `filter` ve `lambda` fonksiyonları kullanarak gerçekleştirelim.\n",
    "\n"
   ]
  },
  {
   "cell_type": "code",
   "execution_count": null,
   "metadata": {},
   "outputs": [],
   "source": [
    "import random\n",
    "\n",
    "# Rastgele sayılardan oluşan bir liste oluşturalım\n",
    "rastgele_sayilar = [random.randint(1, 50) for _ in range(20)]\n",
    "\n",
    "# 15 ve 30 arasında olan sayıları ayıklamak için fonksiyon tanımlayalım\n",
    "def ayikla(sayilar):\n",
    "    return list(filter(lambda x: 15 <= x <= 30, sayilar))\n",
    "\n",
    "# Fonksiyonu çağırarak sonucu alalım\n",
    "ayiklanmis_sayilar = ayikla(rastgele_sayilar)\n",
    "\n",
    "# Sonuçları ekrana yazdıralım\n",
    "print(\"Rastgele Sayılar:\", rastgele_sayilar)\n",
    "print(\"15 ve 30 arasında olan sayılar:\", ayiklanmis_sayilar)"
   ]
  },
  {
   "cell_type": "markdown",
   "metadata": {},
   "source": [
    "\n",
    "\n",
    "### Açıklama\n",
    "\n",
    "1. **Rastgele Sayılardan Oluşan Bir Liste Oluşturma**:\n",
    "    ```python\n",
    "    import random\n",
    "\n",
    "    rastgele_sayilar = [random.randint(1, 50) for _ in range(20)]\n",
    "    ```\n",
    "    - `import random`: Python'un `random` modülünü içe aktarır.\n",
    "    - `random.randint(1, 50)`: 1 ile 50 arasında (her iki sayı da dahil) rastgele bir tam sayı üretir.\n",
    "    - `[random.randint(1, 50) for _ in range(20)]`: List comprehension kullanarak, 1 ile 50 arasında rastgele 20 tam sayıdan oluşan bir liste oluşturur.\n",
    "\n",
    "2. **Fonksiyon Tanımlama**:\n",
    "    ```python\n",
    "    def ayikla(sayilar):\n",
    "        return list(filter(lambda x: 15 <= x <= 30, sayilar))\n",
    "    ```\n",
    "    - `def ayikla(sayilar)`: `ayikla` adında bir fonksiyon tanımlar ve `sayilar` adında bir parametre alır.\n",
    "    - `list(filter(lambda x: 15 <= x <= 30, sayilar))`: `filter` fonksiyonu, verilen lambda fonksiyonunu kullanarak `sayilar` listesindeki elemanları filtreler. Lambda fonksiyonu, her elemanın 15 ile 30 arasında olup olmadığını kontrol eder. `filter` fonksiyonu bir `filter` nesnesi döner, bu nesneyi bir listeye dönüştürmek için `list()` fonksiyonunu kullanırız.\n",
    "\n",
    "3. **Fonksiyonu Çağırma ve Sonucu Alma**:\n",
    "    ```python\n",
    "    ayiklanmis_sayilar = ayikla(rastgele_sayilar)\n",
    "    ```\n",
    "    - `ayikla(rastgele_sayilar)`: `ayikla` fonksiyonunu `rastgele_sayilar` parametresi ile çağırır ve sonucu `ayiklanmis_sayilar` değişkenine atar.\n",
    "\n",
    "4. **Sonuçları Ekrana Yazdırma**:\n",
    "    ```python\n",
    "    print(\"Rastgele Sayılar:\", rastgele_sayilar)\n",
    "    print(\"15 ve 30 arasında olan sayılar:\", ayiklanmis_sayilar)\n",
    "    ```\n",
    "    - `print(\"Rastgele Sayılar:\", rastgele_sayilar)`: Rastgele oluşturulan sayıları ekrana yazdırır.\n",
    "    - `print(\"15 ve 30 arasında olan sayılar:\", ayiklanmis_sayilar)`: 15 ve 30 arasında olan sayıları ekrana yazdırır.\n",
    "\n",
    "Bu şekilde, Python'da fonksiyonlar konusunu kapsamlı ve ayrıntılı bir şekilde ele almış olduk. Fonksiyonlar, kodunuzu daha düzenli, okunabilir ve yeniden kullanılabilir hale getirmek için güçlü araçlardır."
   ]
  },
  {
   "cell_type": "markdown",
   "metadata": {},
   "source": [
    "pythonda map ve modül konunu çok ayrıntılı çok kapsamlı anlatarak bol örnekler çözermisini açıklamasını yaparak"
   ]
  },
  {
   "cell_type": "markdown",
   "metadata": {},
   "source": [
    "Tabii, Python'da `map` fonksiyonu ve modüller konusunu kapsamlı ve ayrıntılı bir şekilde bol örneklerle açıklayalım.\n",
    "\n",
    "### `map` Fonksiyonu\n",
    "\n",
    "`map` fonksiyonu, bir fonksiyonu belirtilen iterable (örneğin, liste, tuple) üzerindeki her bir öğeye uygulayarak yeni bir iterable oluşturur. `map` fonksiyonu, fonksiyonel programlama paradigmasının bir parçasıdır ve özellikle veri dönüşümleri ve işlemleri için kullanışlıdır.\n",
    "\n",
    "#### `map` Fonksiyonunun Kullanımı\n",
    "\n",
    "`map` fonksiyonu, iki ana argüman alır:\n",
    "1. Uygulanacak fonksiyon.\n",
    "2. Üzerinde işlem yapılacak iterable (veya iterable'lar).\n",
    "\n",
    "`map` fonksiyonu, belirtilen fonksiyonu iterable'ın her bir öğesine uygular ve sonuçları içeren bir `map` nesnesi döner. Bu `map` nesnesi, genellikle bir listeye veya başka bir iterable türüne dönüştürülerek kullanılır.\n",
    "\n",
    "#### Temel Kullanım\n",
    "\n",
    "Bir listenin her bir elemanını ikiyle çarparak yeni bir liste oluşturma:\n",
    "\n"
   ]
  },
  {
   "cell_type": "code",
   "execution_count": null,
   "metadata": {},
   "outputs": [],
   "source": [
    "# Bir fonksiyon tanımlayalım\n",
    "def ikiyle_carp(x):\n",
    "    return x * 2\n",
    "\n",
    "# Bir liste tanımlayalım\n",
    "sayilar = [1, 2, 3, 4, 5]\n",
    "\n",
    "# map() fonksiyonunu kullanarak her bir sayının karesini alalım\n",
    "sonuclar = map(ikiyle_carp, sayilar)\n",
    "\n",
    "# Sonuçları listeye dönüştürelim ve yazdıralım\n",
    "sonuclar_listesi = list(sonuclar)\n",
    "print(sonuclar_listesi)  # Çıktı: [2, 4, 6, 8, 10]"
   ]
  },
  {
   "cell_type": "markdown",
   "metadata": {},
   "source": [
    "\n",
    "\n",
    "#### Lambda Fonksiyonu ile Kullanım\n",
    "\n",
    "`map` fonksiyonu, lambda fonksiyonları ile birlikte de kullanılabilir. Bu, küçük ve basit fonksiyonlar tanımlamak için kullanışlıdır.\n",
    "\n"
   ]
  },
  {
   "cell_type": "code",
   "execution_count": null,
   "metadata": {},
   "outputs": [],
   "source": [
    "# Bir liste tanımlayalım\n",
    "sayilar = [1, 2, 3, 4, 5]\n",
    "\n",
    "# map() fonksiyonunu kullanarak her bir sayının karesini alalım (lambda fonksiyonu ile)\n",
    "sonuclar = map(lambda x: x * x, sayilar)\n",
    "\n",
    "# Sonuçları listeye dönüştürelim ve yazdıralım\n",
    "sonuclar_listesi = list(sonuclar)\n",
    "print(sonuclar_listesi)  # Çıktı: [1, 4, 9, 16, 25]"
   ]
  },
  {
   "cell_type": "markdown",
   "metadata": {},
   "source": [
    "\n",
    "\n",
    "#### Birden Fazla Iterable ile Kullanım\n",
    "\n",
    "`map` fonksiyonu, birden fazla iterable üzerinde de çalışabilir. Bu durumda, belirtilen fonksiyon, her iterable'ın karşılık gelen öğelerini argüman olarak alır.\n",
    "\n"
   ]
  },
  {
   "cell_type": "code",
   "execution_count": null,
   "metadata": {},
   "outputs": [],
   "source": [
    "# İki liste tanımlayalım\n",
    "liste1 = [1, 2, 3]\n",
    "liste2 = [4, 5, 6]\n",
    "\n",
    "# map() fonksiyonunu kullanarak iki listenin öğelerini toplayalım\n",
    "sonuclar = map(lambda x, y: x + y, liste1, liste2)\n",
    "\n",
    "# Sonuçları listeye dönüştürelim ve yazdıralım\n",
    "sonuclar_listesi = list(sonuclar)\n",
    "print(sonuclar_listesi)  # Çıktı: [5, 7, 9]"
   ]
  },
  {
   "cell_type": "markdown",
   "metadata": {},
   "source": [
    "\n",
    "\n",
    "### Modüller\n",
    "\n",
    "Python'da modüller, kodunuzu daha düzenli ve yeniden kullanılabilir hale getirmek için kullanılır. Modüller, Python dosyalarıdır ve bu dosyalar içinde fonksiyonlar, sınıflar ve değişkenler tanımlanabilir. Modüller, `import` anahtar kelimesi kullanılarak içe aktarılır.\n",
    "\n",
    "#### Modül Oluşturma ve İçe Aktarma\n",
    "\n",
    "Bir modül oluşturmak için, bir Python dosyası oluşturun ve bu dosya içinde fonksiyonlar, sınıflar ve değişkenler tanımlayın. Ardından, bu modülü başka bir Python dosyasında `import` anahtar kelimesi kullanarak içe aktarabilirsiniz.\n",
    "\n",
    "##### Örnek Modül (mymodule.py)\n",
    "\n"
   ]
  },
  {
   "cell_type": "code",
   "execution_count": null,
   "metadata": {},
   "outputs": [],
   "source": [
    "# mymodule.py\n",
    "\n",
    "def selamla(isim):\n",
    "    print(f\"Merhaba, {isim}!\")\n",
    "\n",
    "def topla(a, b):\n",
    "    return a + b\n",
    "\n",
    "PI = 3.14159"
   ]
  },
  {
   "cell_type": "markdown",
   "metadata": {},
   "source": [
    "\n",
    "\n",
    "##### Modülü İçe Aktarma ve Kullanma\n",
    "\n"
   ]
  },
  {
   "cell_type": "code",
   "execution_count": null,
   "metadata": {},
   "outputs": [],
   "source": [
    "# main.py\n",
    "\n",
    "# mymodule modülünü içe aktaralım\n",
    "import mymodule\n",
    "\n",
    "# Modül içindeki fonksiyonları ve değişkenleri kullanalım\n",
    "mymodule.selamla(\"Ali\")  # Çıktı: Merhaba, Ali!\n",
    "sonuc = mymodule.topla(3, 5)\n",
    "print(sonuc)  # Çıktı: 8\n",
    "print(mymodule.PI)  # Çıktı: 3.14159"
   ]
  },
  {
   "cell_type": "markdown",
   "metadata": {},
   "source": [
    "\n",
    "\n",
    "#### Modülden Belirli Öğeleri İçe Aktarma\n",
    "\n",
    "Bir modülden sadece belirli fonksiyonları, sınıfları veya değişkenleri içe aktarmak için `from ... import ...` ifadesi kullanılır.\n",
    "\n"
   ]
  },
  {
   "cell_type": "code",
   "execution_count": null,
   "metadata": {},
   "outputs": [],
   "source": [
    "# main.py\n",
    "\n",
    "# mymodule modülünden sadece selamla fonksiyonunu ve PI değişkenini içe aktaralım\n",
    "from mymodule import selamla, PI\n",
    "\n",
    "# İçe aktarılan fonksiyonu ve değişkeni kullanalım\n",
    "selamla(\"Ayşe\")  # Çıktı: Merhaba, Ayşe!\n",
    "print(PI)  # Çıktı: 3.14159"
   ]
  },
  {
   "cell_type": "markdown",
   "metadata": {},
   "source": [
    "\n",
    "\n",
    "#### Modülün Tamamını İçe Aktarma ve Yeniden Adlandırma\n",
    "\n",
    "Bir modülü içe aktarırken, modül adını yeniden adlandırmak için `as` ifadesi kullanılabilir.\n",
    "\n"
   ]
  },
  {
   "cell_type": "code",
   "execution_count": null,
   "metadata": {},
   "outputs": [],
   "source": [
    "# main.py\n",
    "\n",
    "# mymodule modülünü içe aktaralım ve adını mm olarak yeniden adlandıralım\n",
    "import mymodule as mm\n",
    "\n",
    "# Yeniden adlandırılan modül içindeki fonksiyonları ve değişkenleri kullanalım\n",
    "mm.selamla(\"Mehmet\")  # Çıktı: Merhaba, Mehmet!\n",
    "sonuc = mm.topla(7, 2)\n",
    "print(sonuc)  # Çıktı: 9\n",
    "print(mm.PI)  # Çıktı: 3.14159"
   ]
  },
  {
   "cell_type": "markdown",
   "metadata": {},
   "source": [
    "\n",
    "\n",
    "### Örnek: `map` Fonksiyonu ve Modül Kullanımı\n",
    "\n",
    "Şimdi, `map` fonksiyonunu ve modül kullanımını bir araya getiren bir örnek yapalım. Bu örnekte, bir modül oluşturacağız ve bu modül içinde bir fonksiyon tanımlayacağız. Ardından, bu fonksiyonu `map` fonksiyonu ile birlikte kullanacağız.\n",
    "\n",
    "##### Örnek Modül (mathmodule.py)\n",
    "\n"
   ]
  },
  {
   "cell_type": "code",
   "execution_count": null,
   "metadata": {},
   "outputs": [],
   "source": [
    "# mathmodule.py\n",
    "\n",
    "def kare_al(x):\n",
    "    return x * x"
   ]
  },
  {
   "cell_type": "markdown",
   "metadata": {},
   "source": [
    "\n",
    "\n",
    "##### Modülü İçe Aktarma ve `map` Fonksiyonu ile Kullanma\n",
    "\n"
   ]
  },
  {
   "cell_type": "code",
   "execution_count": null,
   "metadata": {},
   "outputs": [],
   "source": [
    "# main.py\n",
    "\n",
    "# mathmodule modülünü içe aktaralım\n",
    "import mathmodule\n",
    "\n",
    "# Bir liste tanımlayalım\n",
    "sayilar = [1, 2, 3, 4, 5]\n",
    "\n",
    "# map() fonksiyonunu kullanarak her bir sayının karesini alalım\n",
    "sonuclar = map(mathmodule.kare_al, sayilar)\n",
    "\n",
    "# Sonuçları listeye dönüştürelim ve yazdıralım\n",
    "sonuclar_listesi = list(sonuclar)\n",
    "print(sonuclar_listesi)  # Çıktı: [1, 4, 9, 16, 25]"
   ]
  },
  {
   "cell_type": "markdown",
   "metadata": {},
   "source": [
    "\n",
    "\n",
    "### Açıklama\n",
    "\n",
    "1. **Modül Oluşturma**:\n",
    "    ```python\n",
    "    # mathmodule.py\n",
    "\n",
    "    def kare_al(x):\n",
    "        return x * x\n",
    "    ```\n",
    "    - `mathmodule.py` adında bir Python dosyası oluşturulur.\n",
    "    - Bu dosya içinde `kare_al` adında bir fonksiyon tanımlanır. Bu fonksiyon, verilen sayının karesini alır.\n",
    "\n",
    "2. **Modülü İçe Aktarma ve `map` Fonksiyonu ile Kullanma**:\n",
    "    ```python\n",
    "    # main.py\n",
    "\n",
    "    # mathmodule modülünü içe aktaralım\n",
    "    import mathmodule\n",
    "\n",
    "    # Bir liste tanımlayalım\n",
    "    sayilar = [1, 2, 3, 4, 5]\n",
    "\n",
    "    # map() fonksiyonunu kullanarak her bir sayının karesini alalım\n",
    "    sonuclar = map(mathmodule.kare_al, sayilar)\n",
    "\n",
    "    # Sonuçları listeye dönüştürelim ve yazdıralım\n",
    "    sonuclar_listesi = list(sonuclar)\n",
    "    print(sonuclar_listesi)  # Çıktı: [1, 4, 9, 16, 25]\n",
    "    ```\n",
    "    - `mathmodule` modülü içe aktarılır.\n",
    "    - `sayilar` adında bir liste tanımlanır.\n",
    "    - `map` fonksiyonu kullanılarak, `mathmodule.kare_al` fonksiyonu `sayilar` listesindeki her bir elemana uygulanır.\n",
    "    - `map` fonksiyonu bir `map` nesnesi döner, bu nesne bir listeye dönüştürülür ve sonuç ekrana yazdırılır.\n",
    "\n",
    "Bu şekilde, Python'da `map` fonksiyonunu ve modülleri kapsamlı ve ayrıntılı bir şekilde ele almış olduk. `map` fonksiyonu, veri dönüşümleri ve işlemleri için güçlü bir araçtır. Modüller ise kodunuzu daha düzenli ve yeniden kullanılabilir hale getirir."
   ]
  },
  {
   "cell_type": "markdown",
   "metadata": {},
   "source": [
    "modül konusunu kapsamlı bol örneklerle anlatır mısın"
   ]
  },
  {
   "cell_type": "markdown",
   "metadata": {},
   "source": [
    "Tabii, Python'da modüller konusunu kapsamlı ve bol örneklerle açıklayalım. Modüller, kodunuzu daha düzenli ve yeniden kullanılabilir hale getirmek için kullanılır. Modüller, Python dosyalarıdır ve bu dosyalar içinde fonksiyonlar, sınıflar ve değişkenler tanımlanabilir. Modüller, `import` anahtar kelimesi kullanılarak içe aktarılır.\n",
    "\n",
    "### Modül Oluşturma ve İçe Aktarma\n",
    "\n",
    "Bir modül oluşturmak için, bir Python dosyası oluşturun ve bu dosya içinde fonksiyonlar, sınıflar ve değişkenler tanımlayın. Ardından, bu modülü başka bir Python dosyasında `import` anahtar kelimesi kullanarak içe aktarabilirsiniz.\n",
    "\n",
    "#### Örnek Modül (mymodule.py)\n",
    "\n"
   ]
  },
  {
   "cell_type": "code",
   "execution_count": null,
   "metadata": {},
   "outputs": [],
   "source": [
    "# mymodule.py\n",
    "\n",
    "def selamla(isim):\n",
    "    print(f\"Merhaba, {isim}!\")\n",
    "\n",
    "def topla(a, b):\n",
    "    return a + b\n",
    "\n",
    "PI = 3.14159"
   ]
  },
  {
   "cell_type": "markdown",
   "metadata": {},
   "source": [
    "\n",
    "\n",
    "#### Modülü İçe Aktarma ve Kullanma\n",
    "\n"
   ]
  },
  {
   "cell_type": "code",
   "execution_count": null,
   "metadata": {},
   "outputs": [],
   "source": [
    "# main.py\n",
    "\n",
    "# mymodule modülünü içe aktaralım\n",
    "import mymodule\n",
    "\n",
    "# Modül içindeki fonksiyonları ve değişkenleri kullanalım\n",
    "mymodule.selamla(\"Ali\")  # Çıktı: Merhaba, Ali!\n",
    "sonuc = mymodule.topla(3, 5)\n",
    "print(sonuc)  # Çıktı: 8\n",
    "print(mymodule.PI)  # Çıktı: 3.14159"
   ]
  },
  {
   "cell_type": "markdown",
   "metadata": {},
   "source": [
    "\n",
    "\n",
    "### Modülden Belirli Öğeleri İçe Aktarma\n",
    "\n",
    "Bir modülden sadece belirli fonksiyonları, sınıfları veya değişkenleri içe aktarmak için `from ... import ...` ifadesi kullanılır.\n",
    "\n"
   ]
  },
  {
   "cell_type": "code",
   "execution_count": null,
   "metadata": {},
   "outputs": [],
   "source": [
    "# main.py\n",
    "\n",
    "# mymodule modülünden sadece selamla fonksiyonunu ve PI değişkenini içe aktaralım\n",
    "from mymodule import selamla, PI\n",
    "\n",
    "# İçe aktarılan fonksiyonu ve değişkeni kullanalım\n",
    "selamla(\"Ayşe\")  # Çıktı: Merhaba, Ayşe!\n",
    "print(PI)  # Çıktı: 3.14159"
   ]
  },
  {
   "cell_type": "markdown",
   "metadata": {},
   "source": [
    "\n",
    "\n",
    "### Modülün Tamamını İçe Aktarma ve Yeniden Adlandırma\n",
    "\n",
    "Bir modülü içe aktarırken, modül adını yeniden adlandırmak için `as` ifadesi kullanılabilir.\n",
    "\n"
   ]
  },
  {
   "cell_type": "code",
   "execution_count": null,
   "metadata": {},
   "outputs": [],
   "source": [
    "# main.py\n",
    "\n",
    "# mymodule modülünü içe aktaralım ve adını mm olarak yeniden adlandıralım\n",
    "import mymodule as mm\n",
    "\n",
    "# Yeniden adlandırılan modül içindeki fonksiyonları ve değişkenleri kullanalım\n",
    "mm.selamla(\"Mehmet\")  # Çıktı: Merhaba, Mehmet!\n",
    "sonuc = mm.topla(7, 2)\n",
    "print(sonuc)  # Çıktı: 9\n",
    "print(mm.PI)  # Çıktı: 3.14159"
   ]
  },
  {
   "cell_type": "markdown",
   "metadata": {},
   "source": [
    "\n",
    "\n",
    "### Dahili Modüller\n",
    "\n",
    "Python, birçok dahili modül ile birlikte gelir. Bu modüller, çeşitli işlevler ve araçlar sağlar. Örneğin, `math` modülü matematiksel işlemler için, `random` modülü rastgele sayı üretmek için kullanılır.\n",
    "\n",
    "#### `math` Modülü\n",
    "\n",
    "`math` modülü, matematiksel işlemler için çeşitli fonksiyonlar sağlar.\n",
    "\n"
   ]
  },
  {
   "cell_type": "code",
   "execution_count": null,
   "metadata": {},
   "outputs": [],
   "source": [
    "import math\n",
    "\n",
    "# Pi sayısını yazdıralım\n",
    "print(math.pi)  # Çıktı: 3.141592653589793\n",
    "\n",
    "# Kare kök hesaplama\n",
    "print(math.sqrt(16))  # Çıktı: 4.0\n",
    "\n",
    "# Üs alma\n",
    "print(math.pow(2, 3))  # Çıktı: 8.0"
   ]
  },
  {
   "cell_type": "markdown",
   "metadata": {},
   "source": [
    "\n",
    "\n",
    "#### `random` Modülü\n",
    "\n",
    "`random` modülü, rastgele sayı üretmek için çeşitli fonksiyonlar sağlar.\n",
    "\n"
   ]
  },
  {
   "cell_type": "code",
   "execution_count": null,
   "metadata": {},
   "outputs": [],
   "source": [
    "import random\n",
    "\n",
    "# 1 ile 10 arasında rastgele bir tam sayı üretelim\n",
    "print(random.randint(1, 10))\n",
    "\n",
    "# 0 ile 1 arasında rastgele bir ondalıklı sayı üretelim\n",
    "print(random.random())\n",
    "\n",
    "# Bir listeyi rastgele karıştıralım\n",
    "liste = [1, 2, 3, 4, 5]\n",
    "random.shuffle(liste)\n",
    "print(liste)"
   ]
  },
  {
   "cell_type": "markdown",
   "metadata": {},
   "source": [
    "\n",
    "\n",
    "### Üçüncü Taraf Modüller\n",
    "\n",
    "Python, geniş bir üçüncü taraf modül ekosistemine sahiptir. Bu modüller, PyPI (Python Package Index) üzerinden indirilebilir ve `pip` komutu kullanılarak kurulabilir.\n",
    "\n",
    "#### `requests` Modülü\n",
    "\n",
    "`requests` modülü, HTTP istekleri yapmak için kullanılır. Bu modül, PyPI üzerinden indirilebilir ve kurulabilir.\n",
    "\n"
   ]
  },
  {
   "cell_type": "code",
   "execution_count": null,
   "metadata": {
    "vscode": {
     "languageId": "sh"
    }
   },
   "outputs": [],
   "source": [
    "pip install requests #terminale yazılıyor"
   ]
  },
  {
   "cell_type": "code",
   "execution_count": null,
   "metadata": {},
   "outputs": [],
   "source": [
    "import requests\n",
    "\n",
    "# Bir web sayfasına GET isteği yapalım\n",
    "response = requests.get(\"https://api.github.com\")\n",
    "\n",
    "# Yanıtın durum kodunu yazdıralım\n",
    "print(response.status_code)  # Çıktı: 200\n",
    "\n",
    "# Yanıtın içeriğini yazdıralım\n",
    "print(response.text)"
   ]
  },
  {
   "cell_type": "markdown",
   "metadata": {},
   "source": [
    "\n",
    "\n",
    "\n",
    "\n",
    "### Örnek: `map` Fonksiyonu ve Modül Kullanımı\n",
    "\n",
    "Şimdi, `map` fonksiyonunu ve modül kullanımını bir araya getiren bir örnek yapalım. Bu örnekte, bir modül oluşturacağız ve bu modül içinde bir fonksiyon tanımlayacağız. Ardından, bu fonksiyonu `map` fonksiyonu ile birlikte kullanacağız.\n",
    "\n",
    "##### Örnek Modül (mathmodule.py)\n",
    "\n"
   ]
  },
  {
   "cell_type": "code",
   "execution_count": null,
   "metadata": {},
   "outputs": [],
   "source": [
    "# mathmodule.py\n",
    "\n",
    "def kare_al(x):\n",
    "    return x * x"
   ]
  },
  {
   "cell_type": "markdown",
   "metadata": {},
   "source": [
    "\n",
    "\n",
    "##### Modülü İçe Aktarma ve `map` Fonksiyonu ile Kullanma\n",
    "\n"
   ]
  },
  {
   "cell_type": "code",
   "execution_count": null,
   "metadata": {},
   "outputs": [],
   "source": [
    "# main.py\n",
    "\n",
    "# mathmodule modülünü içe aktaralım\n",
    "import mathmodule\n",
    "\n",
    "# Bir liste tanımlayalım\n",
    "sayilar = [1, 2, 3, 4, 5]\n",
    "\n",
    "# map() fonksiyonunu kullanarak her bir sayının karesini alalım\n",
    "sonuclar = map(mathmodule.kare_al, sayilar)\n",
    "\n",
    "# Sonuçları listeye dönüştürelim ve yazdıralım\n",
    "sonuclar_listesi = list(sonuclar)\n",
    "print(sonuclar_listesi)  # Çıktı: [1, 4, 9, 16, 25]"
   ]
  },
  {
   "cell_type": "markdown",
   "metadata": {},
   "source": [
    "\n",
    "\n",
    "### Açıklama\n",
    "\n",
    "1. **Modül Oluşturma**:\n",
    "    ```python\n",
    "    # mathmodule.py\n",
    "\n",
    "    def kare_al(x):\n",
    "        return x * x\n",
    "    ```\n",
    "    - `mathmodule.py` adında bir Python dosyası oluşturulur.\n",
    "    - Bu dosya içinde `kare_al` adında bir fonksiyon tanımlanır. Bu fonksiyon, verilen sayının karesini alır.\n",
    "\n",
    "2. **Modülü İçe Aktarma ve `map` Fonksiyonu ile Kullanma**:\n",
    "    ```python\n",
    "    # main.py\n",
    "\n",
    "    # mathmodule modülünü içe aktaralım\n",
    "    import mathmodule\n",
    "\n",
    "    # Bir liste tanımlayalım\n",
    "    sayilar = [1, 2, 3, 4, 5]\n",
    "\n",
    "    # map() fonksiyonunu kullanarak her bir sayının karesini alalım\n",
    "    sonuclar = map(mathmodule.kare_al, sayilar)\n",
    "\n",
    "    # Sonuçları listeye dönüştürelim ve yazdıralım\n",
    "    sonuclar_listesi = list(sonuclar)\n",
    "    print(sonuclar_listesi)  # Çıktı: [1, 4, 9, 16, 25]\n",
    "    ```\n",
    "    - `mathmodule` modülü içe aktarılır.\n",
    "    - `sayilar` adında bir liste tanımlanır.\n",
    "    - `map` fonksiyonu kullanılarak, `mathmodule.kare_al` fonksiyonu `sayilar` listesindeki her bir elemana uygulanır.\n",
    "    - `map` fonksiyonu bir `map` nesnesi döner, bu nesne bir listeye dönüştürülür ve sonuç ekrana yazdırılır.\n",
    "\n",
    "Bu şekilde, Python'da `map` fonksiyonunu ve modülleri kapsamlı ve ayrıntılı bir şekilde ele almış olduk. `map` fonksiyonu, veri dönüşümleri ve işlemleri için güçlü bir araçtır. Modüller ise kodunuzu daha düzenli ve yeniden kullanılabilir hale getirir."
   ]
  },
  {
   "cell_type": "markdown",
   "metadata": {},
   "source": [
    "map ve filter konusunu çok kapsamlı 2 örnekle açıklar mısın"
   ]
  },
  {
   "cell_type": "markdown",
   "metadata": {},
   "source": [
    "Tabii, Python'da `map` ve `filter` fonksiyonlarını kapsamlı bir şekilde iki örnekle açıklayalım. Bu fonksiyonlar, fonksiyonel programlama paradigmasının bir parçasıdır ve özellikle veri dönüşümleri ve işlemleri için kullanışlıdır.\n",
    "\n",
    "### `map` Fonksiyonu\n",
    "\n",
    "`map` fonksiyonu, bir fonksiyonu belirtilen iterable (örneğin, liste, tuple) üzerindeki her bir öğeye uygulayarak yeni bir iterable oluşturur. `map` fonksiyonu, belirtilen fonksiyonu iterable'ın her bir öğesine uygular ve sonuçları içeren bir `map` nesnesi döner. Bu `map` nesnesi, genellikle bir listeye veya başka bir iterable türüne dönüştürülerek kullanılır.\n",
    "\n",
    "#### Örnek 1: `map` Fonksiyonu ile Sayıların Karesini Alma\n",
    "\n",
    "Bir listenin her bir elemanını karesini alarak yeni bir liste oluşturma:\n",
    "\n"
   ]
  },
  {
   "cell_type": "code",
   "execution_count": null,
   "metadata": {},
   "outputs": [],
   "source": [
    "# Bir fonksiyon tanımlayalım\n",
    "def kare_al(x):\n",
    "    return x * x\n",
    "\n",
    "# Bir liste tanımlayalım\n",
    "sayilar = [1, 2, 3, 4, 5]\n",
    "\n",
    "# map() fonksiyonunu kullanarak her bir sayının karesini alalım\n",
    "sonuclar = map(kare_al, sayilar)\n",
    "\n",
    "# Sonuçları listeye dönüştürelim ve yazdıralım\n",
    "sonuclar_listesi = list(sonuclar)\n",
    "print(sonuclar_listesi)  # Çıktı: [1, 4, 9, 16, 25]"
   ]
  },
  {
   "cell_type": "markdown",
   "metadata": {},
   "source": [
    "\n",
    "\n",
    "#### Açıklama\n",
    "\n",
    "1. **Fonksiyon Tanımlama**:\n",
    "    ```python\n",
    "    def kare_al(x):\n",
    "        return x * x\n",
    "    ```\n",
    "    - `kare_al` adında bir fonksiyon tanımlanır. Bu fonksiyon, verilen sayının karesini alır.\n",
    "\n",
    "2. **Liste Tanımlama**:\n",
    "    ```python\n",
    "    sayilar = [1, 2, 3, 4, 5]\n",
    "    ```\n",
    "    - `sayilar` adında bir liste tanımlanır.\n",
    "\n",
    "3. **`map` Fonksiyonunu Kullanma**:\n",
    "    ```python\n",
    "    sonuclar = map(kare_al, sayilar)\n",
    "    ```\n",
    "    - `map` fonksiyonu kullanılarak, `kare_al` fonksiyonu `sayilar` listesindeki her bir elemana uygulanır. Bu işlem sonucunda bir `map` nesnesi döner.\n",
    "\n",
    "4. **Sonuçları Listeye Dönüştürme ve Yazdırma**:\n",
    "    ```python\n",
    "    sonuclar_listesi = list(sonuclar)\n",
    "    print(sonuclar_listesi)  # Çıktı: [1, 4, 9, 16, 25]\n",
    "    ```\n",
    "    - `map` nesnesi bir listeye dönüştürülür ve sonuç ekrana yazdırılır.\n",
    "\n",
    "### `filter` Fonksiyonu\n",
    "\n",
    "`filter` fonksiyonu, belirtilen bir fonksiyonu kullanarak bir iterable'ın öğelerini filtreler. `filter` fonksiyonu, belirtilen fonksiyonu iterable'ın her bir öğesine uygular ve fonksiyonun `True` döndüğü öğeleri içeren bir `filter` nesnesi döner. Bu `filter` nesnesi, genellikle bir listeye veya başka bir iterable türüne dönüştürülerek kullanılır.\n",
    "\n",
    "#### Örnek 2: `filter` Fonksiyonu ile Çift Sayıları Filtreleme\n",
    "\n",
    "Bir listeden sadece çift sayıları seçerek yeni bir liste oluşturma:\n",
    "\n"
   ]
  },
  {
   "cell_type": "code",
   "execution_count": null,
   "metadata": {},
   "outputs": [],
   "source": [
    "# Bir fonksiyon tanımlayalım\n",
    "def cift_mi(x):\n",
    "    return x % 2 == 0\n",
    "\n",
    "# Bir liste tanımlayalım\n",
    "sayilar = [1, 2, 3, 4, 5, 6, 7, 8, 9, 10]\n",
    "\n",
    "# filter() fonksiyonunu kullanarak sadece çift sayıları seçelim\n",
    "sonuclar = filter(cift_mi, sayilar)\n",
    "\n",
    "# Sonuçları listeye dönüştürelim ve yazdıralım\n",
    "sonuclar_listesi = list(sonuclar)\n",
    "print(sonuclar_listesi)  # Çıktı: [2, 4, 6, 8, 10]"
   ]
  },
  {
   "cell_type": "markdown",
   "metadata": {},
   "source": [
    "\n",
    "\n",
    "#### Açıklama\n",
    "\n",
    "1. **Fonksiyon Tanımlama**:\n",
    "    ```python\n",
    "    def cift_mi(x):\n",
    "        return x % 2 == 0\n",
    "    ```\n",
    "    - `cift_mi` adında bir fonksiyon tanımlanır. Bu fonksiyon, verilen sayının çift olup olmadığını kontrol eder ve `True` veya `False` döner.\n",
    "\n",
    "2. **Liste Tanımlama**:\n",
    "    ```python\n",
    "    sayilar = [1, 2, 3, 4, 5, 6, 7, 8, 9, 10]\n",
    "    ```\n",
    "    - `sayilar` adında bir liste tanımlanır.\n",
    "\n",
    "3. **`filter` Fonksiyonunu Kullanma**:\n",
    "    ```python\n",
    "    sonuclar = filter(cift_mi, sayilar)\n",
    "    ```\n",
    "    - `filter` fonksiyonu kullanılarak, `cift_mi` fonksiyonu `sayilar` listesindeki her bir elemana uygulanır. Bu işlem sonucunda bir `filter` nesnesi döner.\n",
    "\n",
    "4. **Sonuçları Listeye Dönüştürme ve Yazdırma**:\n",
    "    ```python\n",
    "    sonuclar_listesi = list(sonuclar)\n",
    "    print(sonuclar_listesi)  # Çıktı: [2, 4, 6, 8, 10]\n",
    "    ```\n",
    "    - `filter` nesnesi bir listeye dönüştürülür ve sonuç ekrana yazdırılır.\n",
    "\n",
    "### `map` ve `filter` Fonksiyonlarının Birlikte Kullanımı\n",
    "\n",
    "`map` ve `filter` fonksiyonları birlikte kullanılarak daha karmaşık veri dönüşümleri ve filtrelemeler yapılabilir.\n",
    "\n",
    "#### Örnek 3: `map` ve `filter` Fonksiyonlarının Birlikte Kullanımı\n",
    "\n",
    "Bir listeden sadece çift sayıları seçip, bu sayıların karesini alarak yeni bir liste oluşturma:\n",
    "\n"
   ]
  },
  {
   "cell_type": "code",
   "execution_count": null,
   "metadata": {},
   "outputs": [],
   "source": [
    "# Bir fonksiyon tanımlayalım\n",
    "def cift_mi(x):\n",
    "    return x % 2 == 0\n",
    "\n",
    "# Bir fonksiyon tanımlayalım\n",
    "def kare_al(x):\n",
    "    return x * x\n",
    "\n",
    "# Bir liste tanımlayalım\n",
    "sayilar = [1, 2, 3, 4, 5, 6, 7, 8, 9, 10]\n",
    "\n",
    "# filter() fonksiyonunu kullanarak sadece çift sayıları seçelim\n",
    "cift_sayilar = filter(cift_mi, sayilar)\n",
    "\n",
    "# map() fonksiyonunu kullanarak çift sayıların karesini alalım\n",
    "sonuclar = map(kare_al, cift_sayilar)\n",
    "\n",
    "# Sonuçları listeye dönüştürelim ve yazdıralım\n",
    "sonuclar_listesi = list(sonuclar)\n",
    "print(sonuclar_listesi)  # Çıktı: [4, 16, 36, 64, 100]"
   ]
  },
  {
   "cell_type": "markdown",
   "metadata": {},
   "source": [
    "\n",
    "\n",
    "#### Açıklama\n",
    "\n",
    "1. **Fonksiyon Tanımlama**:\n",
    "    ```python\n",
    "    def cift_mi(x):\n",
    "        return x % 2 == 0\n",
    "\n",
    "    def kare_al(x):\n",
    "        return x * x\n",
    "    ```\n",
    "    - `cift_mi` adında bir fonksiyon tanımlanır. Bu fonksiyon, verilen sayının çift olup olmadığını kontrol eder ve `True` veya `False` döner.\n",
    "    - `kare_al` adında bir fonksiyon tanımlanır. Bu fonksiyon, verilen sayının karesini alır.\n",
    "\n",
    "2. **Liste Tanımlama**:\n",
    "    ```python\n",
    "    sayilar = [1, 2, 3, 4, 5, 6, 7, 8, 9, 10]\n",
    "    ```\n",
    "    - `sayilar` adında bir liste tanımlanır.\n",
    "\n",
    "3. **`filter` Fonksiyonunu Kullanma**:\n",
    "    ```python\n",
    "    cift_sayilar = filter(cift_mi, sayilar)\n",
    "    ```\n",
    "    - `filter` fonksiyonu kullanılarak, `cift_mi` fonksiyonu `sayilar` listesindeki her bir elemana uygulanır. Bu işlem sonucunda bir `filter` nesnesi döner.\n",
    "\n",
    "4. **`map` Fonksiyonunu Kullanma**:\n",
    "    ```python\n",
    "    sonuclar = map(kare_al, cift_sayilar)\n",
    "    ```\n",
    "    - `map` fonksiyonu kullanılarak, `kare_al` fonksiyonu `cift_sayilar` listesindeki her bir elemana uygulanır. Bu işlem sonucunda bir `map` nesnesi döner.\n",
    "\n",
    "5. **Sonuçları Listeye Dönüştürme ve Yazdırma**:\n",
    "    ```python\n",
    "    sonuclar_listesi = list(sonuclar)\n",
    "    print(sonuclar_listesi)  # Çıktı: [4, 16, 36, 64, 100]\n",
    "    ```\n",
    "    - `map` nesnesi bir listeye dönüştürülür ve sonuç ekrana yazdırılır.\n",
    "\n",
    "Bu şekilde, Python'da `map` ve `filter` fonksiyonlarını kapsamlı ve ayrıntılı bir şekilde ele almış olduk. Bu fonksiyonlar, veri dönüşümleri ve filtrelemeler için güçlü araçlardır ve birlikte kullanılarak daha karmaşık işlemler gerçekleştirilebilir."
   ]
  }
 ],
 "metadata": {
  "kernelspec": {
   "display_name": "Python 3",
   "language": "python",
   "name": "python3"
  },
  "language_info": {
   "codemirror_mode": {
    "name": "ipython",
    "version": 3
   },
   "file_extension": ".py",
   "mimetype": "text/x-python",
   "name": "python",
   "nbconvert_exporter": "python",
   "pygments_lexer": "ipython3",
   "version": "3.13.2"
  }
 },
 "nbformat": 4,
 "nbformat_minor": 2
}
