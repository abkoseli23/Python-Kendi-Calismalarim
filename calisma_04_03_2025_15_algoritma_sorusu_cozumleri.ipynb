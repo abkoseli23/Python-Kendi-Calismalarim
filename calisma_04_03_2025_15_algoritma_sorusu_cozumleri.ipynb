{
 "cells": [
  {
   "cell_type": "markdown",
   "metadata": {},
   "source": [
    "1. kullanıcıdan alınan bir string değer içerisinde, kullanıcının belirteceği karakterden kaç tane olduğunu ve bu karakterlerin yerlerini gösteren bir Python programı"
   ]
  },
  {
   "cell_type": "markdown",
   "metadata": {},
   "source": [
    "Tabii, kullanıcıdan alınan bir string değer içerisinde, kullanıcının belirteceği karakterden kaç tane olduğunu ve bu karakterlerin yerlerini gösteren bir Python programı yazalım ve adım adım açıklayalım.\n",
    "\n",
    "### Python Kodu\n",
    "\n"
   ]
  },
  {
   "cell_type": "code",
   "execution_count": null,
   "metadata": {},
   "outputs": [],
   "source": [
    "# Kullanıcıdan bir string değer alalım\n",
    "string_deger = input(\"Bir string değer girin: \")\n",
    "\n",
    "# Kullanıcıdan bir karakter alalım\n",
    "karakter = input(\"Aramak istediğiniz karakteri girin: \")\n",
    "\n",
    "# Karakterin kaç tane olduğunu ve yerlerini bulalım\n",
    "def karakter_bul(string_deger, karakter):\n",
    "    sayac = 0\n",
    "    yerler = []\n",
    "    \n",
    "    for i, char in enumerate(string_deger):\n",
    "        if char == karakter:\n",
    "            sayac += 1\n",
    "            yerler.append(i)\n",
    "    \n",
    "    return sayac, yerler\n",
    "\n",
    "# Fonksiyonu çağırarak sonucu alalım\n",
    "adet, yerler = karakter_bul(string_deger, karakter)\n",
    "\n",
    "# Sonucu ekrana yazdıralım\n",
    "print(f\"'{karakter}' karakteri, '{string_deger}' stringinde {adet} kez geçiyor.\")\n",
    "print(f\"Yerleri: {yerler}\")"
   ]
  },
  {
   "cell_type": "markdown",
   "metadata": {},
   "source": [
    "\n",
    "\n",
    "### Açıklama\n",
    "\n",
    "1. **Kullanıcıdan Girdi Alma**:\n",
    "    ```python\n",
    "    string_deger = input(\"Bir string değer girin: \")\n",
    "    karakter = input(\"Aramak istediğiniz karakteri girin: \")\n",
    "    ```\n",
    "    - `input()` fonksiyonu, kullanıcıdan bir string değer ve bir karakter alır.\n",
    "    - `string_deger` değişkeni, kullanıcıdan alınan string değeri saklar.\n",
    "    - `karakter` değişkeni, kullanıcıdan alınan karakteri saklar.\n",
    "\n",
    "2. **Karakter Bulma Fonksiyonu**:\n",
    "    ```python\n",
    "    def karakter_bul(string_deger, karakter):\n",
    "        sayac = 0\n",
    "        yerler = []\n",
    "        \n",
    "        for i, char in enumerate(string_deger):\n",
    "            if char == karakter:\n",
    "                sayac += 1\n",
    "                yerler.append(i)\n",
    "        \n",
    "        return sayac, yerler\n",
    "    ```\n",
    "    - `karakter_bul` adında bir fonksiyon tanımlanır.\n",
    "    - Fonksiyon, `string_deger` ve `karakter` adında iki parametre alır.\n",
    "    - `sayac` değişkeni, karakterin kaç kez geçtiğini saymak için kullanılır ve başlangıçta 0 olarak ayarlanır.\n",
    "    - `yerler` listesi, karakterin geçtiği yerlerin indekslerini saklamak için kullanılır.\n",
    "    - `for` döngüsü, `string_deger` içindeki her bir karakteri ve indeksini iterasyonla kontrol eder.\n",
    "    - `enumerate` fonksiyonu, her bir karakterin indeksini ve kendisini döner.\n",
    "    - Eğer karakter, `karakter` değişkenine eşitse, `sayac` bir artırılır ve indeks `yerler` listesine eklenir.\n",
    "    - Fonksiyon, karakterin kaç kez geçtiğini ve geçtiği yerlerin indekslerini döner.\n",
    "\n",
    "3. **Fonksiyonu Çağırma ve Sonucu Alma**:\n",
    "    ```python\n",
    "    adet, yerler = karakter_bul(string_deger, karakter)\n",
    "    ```\n",
    "    - `karakter_bul` fonksiyonu, `string_deger` ve `karakter` parametreleri ile çağrılır.\n",
    "    - Fonksiyonun döndürdüğü değerler, `adet` ve `yerler` değişkenlerine atanır.\n",
    "\n",
    "4. **Sonucu Ekrana Yazdırma**:\n",
    "    ```python\n",
    "    print(f\"'{karakter}' karakteri, '{string_deger}' stringinde {adet} kez geçiyor.\")\n",
    "    print(f\"Yerleri: {yerler}\")\n",
    "    ```\n",
    "    - `print()` fonksiyonu, karakterin kaç kez geçtiğini ve geçtiği yerlerin indekslerini ekrana yazdırır.\n",
    "\n",
    "### Örnek Kullanım\n",
    "\n",
    "Örneğin, kullanıcı \"Merhaba dünya\" stringini ve \"a\" karakterini girerse, program şu çıktıyı verecektir:\n",
    "\n"
   ]
  },
  {
   "cell_type": "code",
   "execution_count": null,
   "metadata": {},
   "outputs": [],
   "source": [
    "'a' karakteri, 'Merhaba dünya' stringinde 2 kez geçiyor.\n",
    "Yerleri: [4, 10]"
   ]
  },
  {
   "cell_type": "markdown",
   "metadata": {},
   "source": [
    "\n",
    "\n",
    "Bu program, kullanıcıdan bir string değer ve bir karakter alır, bu karakterin string içinde kaç kez geçtiğini ve geçtiği yerlerin indekslerini bulur ve sonucu ekrana yazdırır."
   ]
  },
  {
   "cell_type": "markdown",
   "metadata": {},
   "source": []
  },
  {
   "cell_type": "markdown",
   "metadata": {},
   "source": []
  },
  {
   "cell_type": "markdown",
   "metadata": {},
   "source": [
    "\n",
    "2.  Klavyeden girilen iki basamaklı tam sayıyı kelime olarak yazdıran program\n"
   ]
  },
  {
   "cell_type": "markdown",
   "metadata": {},
   "source": [
    "Tabii, klavyeden girilen iki basamaklı tam sayıyı kelime olarak yazdıran bir Python programı yazalım. Bu program, kullanıcıdan iki basamaklı bir tam sayı alacak ve bu sayıyı kelime olarak ekrana yazdıracaktır.\n",
    "\n",
    "### Python Kodu\n",
    "\n"
   ]
  },
  {
   "cell_type": "code",
   "execution_count": null,
   "metadata": {},
   "outputs": [],
   "source": [
    "# İki basamaklı sayıları kelime olarak yazdırmak için sözlükler tanımlayalım\n",
    "birler = [\"\", \"Bir\", \"İki\", \"Üç\", \"Dört\", \"Beş\", \"Altı\", \"Yedi\", \"Sekiz\", \"Dokuz\"]\n",
    "onlar = [\"\", \"On\", \"Yirmi\", \"Otuz\", \"Kırk\", \"Elli\", \"Altmış\", \"Yetmiş\", \"Seksen\", \"Doksan\"]\n",
    "\n",
    "# Kullanıcıdan iki basamaklı bir tam sayı alalım\n",
    "sayi = int(input(\"İki basamaklı bir tam sayı girin: \"))\n",
    "\n",
    "# Sayının onlar ve birler basamağını bulalım\n",
    "onlar_basamagi = sayi // 10\n",
    "birler_basamagi = sayi % 10\n",
    "\n",
    "# Sayıyı kelime olarak yazdıralım\n",
    "kelime = onlar[onlar_basamagi] + \" \" + birler[birler_basamagi]\n",
    "print(f\"{sayi} sayısı kelime olarak: {kelime}\")"
   ]
  },
  {
   "cell_type": "markdown",
   "metadata": {},
   "source": [
    "\n",
    "\n",
    "### Açıklama\n",
    "\n",
    "1. **Sözlükler Tanımlama**:\n",
    "    ```python\n",
    "    birler = [\"\", \"Bir\", \"İki\", \"Üç\", \"Dört\", \"Beş\", \"Altı\", \"Yedi\", \"Sekiz\", \"Dokuz\"]\n",
    "    onlar = [\"\", \"On\", \"Yirmi\", \"Otuz\", \"Kırk\", \"Elli\", \"Altmış\", \"Yetmiş\", \"Seksen\", \"Doksan\"]\n",
    "    ```\n",
    "    - `birler` listesi, birler basamağındaki sayıları kelime olarak saklar.\n",
    "    - `onlar` listesi, onlar basamağındaki sayıları kelime olarak saklar.\n",
    "\n",
    "2. **Kullanıcıdan Girdi Alma**:\n",
    "    ```python\n",
    "    sayi = int(input(\"İki basamaklı bir tam sayı girin: \"))\n",
    "    ```\n",
    "    - `input()` fonksiyonu, kullanıcıdan iki basamaklı bir tam sayı alır ve bu girdiyi string olarak döner.\n",
    "    - `int()` fonksiyonu, bu string girdiyi tam sayıya dönüştürür ve `sayi` değişkenine atar.\n",
    "\n",
    "3. **Onlar ve Birler Basamağını Bulma**:\n",
    "    ```python\n",
    "    onlar_basamagi = sayi // 10\n",
    "    birler_basamagi = sayi % 10\n",
    "    ```\n",
    "    - `onlar_basamagi`, sayının onlar basamağını bulmak için `sayi // 10` ifadesi kullanılır.\n",
    "    - `birler_basamagi`, sayının birler basamağını bulmak için `sayi % 10` ifadesi kullanılır.\n",
    "\n",
    "4. **Sayıyı Kelime Olarak Yazdırma**:\n",
    "    ```python\n",
    "    kelime = onlar[onlar_basamagi] + \" \" + birler[birler_basamagi]\n",
    "    print(f\"{sayi} sayısı kelime olarak: {kelime}\")\n",
    "    ```\n",
    "    - `onlar[onlar_basamagi]` ifadesi, onlar basamağındaki sayının kelime karşılığını verir.\n",
    "    - `birler[birler_basamagi]` ifadesi, birler basamağındaki sayının kelime karşılığını verir.\n",
    "    - Bu iki kelime birleştirilerek `kelime` değişkenine atanır.\n",
    "    - `print()` fonksiyonu, sayının kelime olarak karşılığını ekrana yazdırır.\n",
    "\n",
    "Bu program, kullanıcıdan iki basamaklı bir tam sayı alır, bu sayının onlar ve birler basamağını bulur ve sayıyı kelime olarak ekrana yazdırır. Örneğin, kullanıcı 42 sayısını girerse, program \"42 sayısı kelime olarak: Kırk İki\" çıktısını verecektir.\n",
    "\n",
    "Similar code found with 1 license type"
   ]
  },
  {
   "cell_type": "markdown",
   "metadata": {},
   "source": []
  },
  {
   "cell_type": "markdown",
   "metadata": {},
   "source": [
    "3. Kullanıcıdan alınan cümledeki bir karakteri yine kullanıcıdan alınan bir karakterle değiştiren program"
   ]
  },
  {
   "cell_type": "markdown",
   "metadata": {},
   "source": [
    "Tabii, kullanıcıdan alınan bir cümledeki bir karakteri yine kullanıcıdan alınan başka bir karakterle değiştiren bir Python programı yazalım ve adım adım açıklayalım.\n",
    "\n",
    "### Python Kodu\n",
    "\n"
   ]
  },
  {
   "cell_type": "code",
   "execution_count": null,
   "metadata": {},
   "outputs": [],
   "source": [
    "# Kullanıcıdan bir cümle alalım\n",
    "cumle = input(\"Bir cümle girin: \")\n",
    "\n",
    "# Kullanıcıdan değiştirmek istediği karakteri alalım\n",
    "eski_karakter = input(\"Değiştirmek istediğiniz karakteri girin: \")\n",
    "\n",
    "# Kullanıcıdan yeni karakteri alalım\n",
    "yeni_karakter = input(\"Yeni karakteri girin: \")\n",
    "\n",
    "# Karakteri değiştiren fonksiyon\n",
    "def karakter_degistir(cumle, eski_karakter, yeni_karakter):\n",
    "    yeni_cumle = cumle.replace(eski_karakter, yeni_karakter)\n",
    "    return yeni_cumle\n",
    "\n",
    "# Fonksiyonu çağırarak sonucu alalım\n",
    "sonuc = karakter_degistir(cumle, eski_karakter, yeni_karakter)\n",
    "\n",
    "# Sonucu ekrana yazdıralım\n",
    "print(f\"Yeni cümle: {sonuc}\")"
   ]
  },
  {
   "cell_type": "markdown",
   "metadata": {},
   "source": [
    "\n",
    "\n",
    "### Açıklama\n",
    "\n",
    "1. **Kullanıcıdan Girdi Alma**:\n",
    "    ```python\n",
    "    cumle = input(\"Bir cümle girin: \")\n",
    "    eski_karakter = input(\"Değiştirmek istediğiniz karakteri girin: \")\n",
    "    yeni_karakter = input(\"Yeni karakteri girin: \")\n",
    "    ```\n",
    "    - `input()` fonksiyonu, kullanıcıdan bir cümle, değiştirmek istediği karakter ve yeni karakter alır.\n",
    "    - `cumle` değişkeni, kullanıcıdan alınan cümleyi saklar.\n",
    "    - `eski_karakter` değişkeni, kullanıcıdan alınan değiştirilmek istenen karakteri saklar.\n",
    "    - `yeni_karakter` değişkeni, kullanıcıdan alınan yeni karakteri saklar.\n",
    "\n",
    "2. **Karakter Değiştiren Fonksiyon**:\n",
    "    ```python\n",
    "    def karakter_degistir(cumle, eski_karakter, yeni_karakter):\n",
    "        yeni_cumle = cumle.replace(eski_karakter, yeni_karakter)\n",
    "        return yeni_cumle\n",
    "    ```\n",
    "    - `karakter_degistir` adında bir fonksiyon tanımlanır.\n",
    "    - Fonksiyon, `cumle`, `eski_karakter` ve `yeni_karakter` adında üç parametre alır.\n",
    "    - `cumle.replace(eski_karakter, yeni_karakter)` ifadesi, cümledeki tüm `eski_karakter` karakterlerini `yeni_karakter` ile değiştirir ve yeni bir string döner.\n",
    "    - Fonksiyon, yeni cümleyi döner.\n",
    "\n",
    "3. **Fonksiyonu Çağırma ve Sonucu Alma**:\n",
    "    ```python\n",
    "    sonuc = karakter_degistir(cumle, eski_karakter, yeni_karakter)\n",
    "    ```\n",
    "    - `karakter_degistir` fonksiyonu, `cumle`, `eski_karakter` ve `yeni_karakter` parametreleri ile çağrılır.\n",
    "    - Fonksiyonun döndürdüğü değer, `sonuc` değişkenine atanır.\n",
    "\n",
    "4. **Sonucu Ekrana Yazdırma**:\n",
    "    ```python\n",
    "    print(f\"Yeni cümle: {sonuc}\")\n",
    "    ```\n",
    "    - `print()` fonksiyonu, yeni cümleyi ekrana yazdırır.\n",
    "\n",
    "### Örnek Kullanım\n",
    "\n",
    "Örneğin, kullanıcı \"Merhaba dünya\" cümlesini, \"a\" karakterini ve \"o\" karakterini girerse, program şu çıktıyı verecektir:\n",
    "\n"
   ]
  },
  {
   "cell_type": "code",
   "execution_count": null,
   "metadata": {},
   "outputs": [],
   "source": [
    "Yeni cümle: Merhobo dünya"
   ]
  },
  {
   "cell_type": "markdown",
   "metadata": {},
   "source": [
    "\n",
    "\n",
    "Bu program, kullanıcıdan bir cümle, değiştirmek istediği karakter ve yeni karakter alır, cümledeki tüm eski karakterleri yeni karakterle değiştirir ve sonucu ekrana yazdırır."
   ]
  },
  {
   "cell_type": "markdown",
   "metadata": {},
   "source": []
  },
  {
   "cell_type": "markdown",
   "metadata": {},
   "source": []
  },
  {
   "cell_type": "markdown",
   "metadata": {},
   "source": [
    "4. Kullanıcıdan küçük harfler ile alınan cümlede iki sesli harflerin sayısını ve yerini bulan program"
   ]
  },
  {
   "cell_type": "markdown",
   "metadata": {},
   "source": [
    "Tabii, kullanıcıdan küçük harflerle alınan bir cümlede iki sesli harflerin sayısını ve yerlerini bulan bir Python programı yazalım ve adım adım açıklayalım.\n",
    "\n",
    "### Python Kodu\n",
    "\n"
   ]
  },
  {
   "cell_type": "code",
   "execution_count": null,
   "metadata": {},
   "outputs": [],
   "source": [
    "# Kullanıcıdan bir cümle alalım\n",
    "cumle = input(\"Küçük harflerle bir cümle girin: \")\n",
    "\n",
    "# İki sesli harfleri bulmak için bir fonksiyon tanımlayalım\n",
    "def iki_sesli_harf_bul(cumle):\n",
    "    sesli_harfler = \"aeiou\"\n",
    "    sayac = 0\n",
    "    yerler = []\n",
    "    \n",
    "    for i in range(len(cumle) - 1):\n",
    "        if cumle[i] in sesli_harfler and cumle[i + 1] in sesli_harfler:\n",
    "            sayac += 1\n",
    "            yerler.append(i)\n",
    "    \n",
    "    return sayac, yerler\n",
    "\n",
    "# Fonksiyonu çağırarak sonucu alalım\n",
    "adet, yerler = iki_sesli_harf_bul(cumle)\n",
    "\n",
    "# Sonucu ekrana yazdıralım\n",
    "print(f\"İki sesli harflerin sayısı: {adet}\")\n",
    "print(f\"Yerleri: {yerler}\")"
   ]
  },
  {
   "cell_type": "markdown",
   "metadata": {},
   "source": [
    "\n",
    "\n",
    "### Açıklama\n",
    "\n",
    "1. **Kullanıcıdan Girdi Alma**:\n",
    "    ```python\n",
    "    cumle = input(\"Küçük harflerle bir cümle girin: \")\n",
    "    ```\n",
    "    - `input()` fonksiyonu, kullanıcıdan küçük harflerle bir cümle alır.\n",
    "    - `cumle` değişkeni, kullanıcıdan alınan cümleyi saklar.\n",
    "\n",
    "2. **İki Sesli Harfleri Bulan Fonksiyon**:\n",
    "    ```python\n",
    "    def iki_sesli_harf_bul(cumle):\n",
    "        sesli_harfler = \"aeiou\"\n",
    "        sayac = 0\n",
    "        yerler = []\n",
    "        \n",
    "        for i in range(len(cumle) - 1):\n",
    "            if cumle[i] in sesli_harfler and cumle[i + 1] in sesli_harfler:\n",
    "                sayac += 1\n",
    "                yerler.append(i)\n",
    "        \n",
    "        return sayac, yerler\n",
    "    ```\n",
    "    - `iki_sesli_harf_bul` adında bir fonksiyon tanımlanır.\n",
    "    - Fonksiyon, `cumle` adında bir parametre alır.\n",
    "    - `sesli_harfler` değişkeni, sesli harfleri içeren bir string olarak tanımlanır.\n",
    "    - `sayac` değişkeni, iki sesli harfin kaç kez geçtiğini saymak için kullanılır ve başlangıçta 0 olarak ayarlanır.\n",
    "    - `yerler` listesi, iki sesli harfin geçtiği yerlerin indekslerini saklamak için kullanılır.\n",
    "    - `for` döngüsü, `cumle` içindeki her bir karakteri ve bir sonraki karakteri kontrol eder.\n",
    "    - Eğer karakter ve bir sonraki karakter sesli harfler içinde ise, `sayac` bir artırılır ve indeks `yerler` listesine eklenir.\n",
    "    - Fonksiyon, iki sesli harfin kaç kez geçtiğini ve geçtiği yerlerin indekslerini döner.\n",
    "\n",
    "3. **Fonksiyonu Çağırma ve Sonucu Alma**:\n",
    "    ```python\n",
    "    adet, yerler = iki_sesli_harf_bul(cumle)\n",
    "    ```\n",
    "    - `iki_sesli_harf_bul` fonksiyonu, `cumle` parametresi ile çağrılır.\n",
    "    - Fonksiyonun döndürdüğü değerler, `adet` ve `yerler` değişkenlerine atanır.\n",
    "\n",
    "4. **Sonucu Ekrana Yazdırma**:\n",
    "    ```python\n",
    "    print(f\"İki sesli harflerin sayısı: {adet}\")\n",
    "    print(f\"Yerleri: {yerler}\")\n",
    "    ```\n",
    "    - `print()` fonksiyonu, iki sesli harfin kaç kez geçtiğini ve geçtiği yerlerin indekslerini ekrana yazdırır.\n",
    "\n",
    "### Örnek Kullanım\n",
    "\n",
    "Örneğin, kullanıcı \"merhaba dünya\" cümlesini girerse, program şu çıktıyı verecektir:\n",
    "\n"
   ]
  },
  {
   "cell_type": "code",
   "execution_count": null,
   "metadata": {},
   "outputs": [],
   "source": [
    "İki sesli harflerin sayısı: 1\n",
    "Yerleri: [1]"
   ]
  },
  {
   "cell_type": "markdown",
   "metadata": {},
   "source": [
    "\n",
    "\n",
    "Bu program, kullanıcıdan küçük harflerle bir cümle alır, cümledeki iki sesli harflerin sayısını ve yerlerini bulur ve sonucu ekrana yazdırır. Örneğin, \"merhaba dünya\" cümlesinde \"er\" iki sesli harf olarak geçmektedir ve bu harflerin başlangıç indeksi 1'dir."
   ]
  },
  {
   "cell_type": "markdown",
   "metadata": {},
   "source": []
  },
  {
   "cell_type": "markdown",
   "metadata": {},
   "source": []
  },
  {
   "cell_type": "markdown",
   "metadata": {},
   "source": [
    "\n",
    "5. Kullanıcıdan alınan cümledeki tek ve çift konumda bulunan karakterlerin yerlerini değiştirerek şifreleyen program\n"
   ]
  },
  {
   "cell_type": "markdown",
   "metadata": {},
   "source": [
    "Tabii, kullanıcıdan alınan bir cümledeki tek ve çift konumda bulunan karakterlerin yerlerini değiştirerek şifreleyen bir Python programı yazalım ve adım adım açıklayalım.\n",
    "\n",
    "### Python Kodu\n",
    "\n"
   ]
  },
  {
   "cell_type": "code",
   "execution_count": null,
   "metadata": {},
   "outputs": [],
   "source": [
    "# Kullanıcıdan bir cümle alalım\n",
    "cumle = input(\"Bir cümle girin: \")\n",
    "\n",
    "# Tek ve çift konumda bulunan karakterlerin yerlerini değiştiren fonksiyon\n",
    "def sifrele(cumle):\n",
    "    # Cümleyi bir listeye dönüştürelim (stringler immutable olduğu için)\n",
    "    karakterler = list(cumle)\n",
    "    \n",
    "    # Tek ve çift konumda bulunan karakterlerin yerlerini değiştirelim\n",
    "    for i in range(0, len(karakterler) - 1, 2):\n",
    "        # Karakterleri yer değiştirelim\n",
    "        karakterler[i], karakterler[i + 1] = karakterler[i + 1], karakterler[i]\n",
    "    \n",
    "    # Listeyi tekrar stringe dönüştürelim\n",
    "    sifreli_cumle = ''.join(karakterler)\n",
    "    \n",
    "    return sifreli_cumle\n",
    "\n",
    "# Fonksiyonu çağırarak sonucu alalım\n",
    "sonuc = sifrele(cumle)\n",
    "\n",
    "# Sonucu ekrana yazdıralım\n",
    "print(f\"Şifreli cümle: {sonuc}\")"
   ]
  },
  {
   "cell_type": "markdown",
   "metadata": {},
   "source": [
    "\n",
    "\n",
    "### Açıklama\n",
    "\n",
    "1. **Kullanıcıdan Girdi Alma**:\n",
    "    ```python\n",
    "    cumle = input(\"Bir cümle girin: \")\n",
    "    ```\n",
    "    - `input()` fonksiyonu, kullanıcıdan bir cümle alır.\n",
    "    - `cumle` değişkeni, kullanıcıdan alınan cümleyi saklar.\n",
    "\n",
    "2. **Şifreleme Fonksiyonu**:\n",
    "    ```python\n",
    "    def sifrele(cumle):\n",
    "        # Cümleyi bir listeye dönüştürelim (stringler immutable olduğu için)\n",
    "        karakterler = list(cumle)\n",
    "        \n",
    "        # Tek ve çift konumda bulunan karakterlerin yerlerini değiştirelim\n",
    "        for i in range(0, len(karakterler) - 1, 2):\n",
    "            # Karakterleri yer değiştirelim\n",
    "            karakterler[i], karakterler[i + 1] = karakterler[i + 1], karakterler[i]\n",
    "        \n",
    "        # Listeyi tekrar stringe dönüştürelim\n",
    "        sifreli_cumle = ''.join(karakterler)\n",
    "        \n",
    "        return sifreli_cumle\n",
    "    ```\n",
    "    - `sifrele` adında bir fonksiyon tanımlanır.\n",
    "    - Fonksiyon, `cumle` adında bir parametre alır.\n",
    "    - `karakterler` değişkeni, cümleyi bir listeye dönüştürür. Bu, stringlerin değiştirilemez (immutable) olduğu için yapılır.\n",
    "    - `for` döngüsü, cümlenin karakterleri üzerinde iterasyon yapar ve her iki karakteri yer değiştirir. Döngü, 0'dan başlayarak 2'şer 2'şer ilerler.\n",
    "    - `karakterler[i], karakterler[i + 1] = karakterler[i + 1], karakterler[i]` ifadesi, iki karakterin yerini değiştirir.\n",
    "    - `sifreli_cumle` değişkeni, listeyi tekrar stringe dönüştürür.\n",
    "    - Fonksiyon, şifreli cümleyi döner.\n",
    "\n",
    "3. **Fonksiyonu Çağırma ve Sonucu Alma**:\n",
    "    ```python\n",
    "    sonuc = sifrele(cumle)\n",
    "    ```\n",
    "    - `sifrele` fonksiyonu, `cumle` parametresi ile çağrılır.\n",
    "    - Fonksiyonun döndürdüğü değer, `sonuc` değişkenine atanır.\n",
    "\n",
    "4. **Sonucu Ekrana Yazdırma**:\n",
    "    ```python\n",
    "    print(f\"Şifreli cümle: {sonuc}\")\n",
    "    ```\n",
    "    - `print()` fonksiyonu, şifreli cümleyi ekrana yazdırır.\n",
    "\n",
    "### Örnek Kullanım\n",
    "\n",
    "Örneğin, kullanıcı \"merhaba dünya\" cümlesini girerse, program şu çıktıyı verecektir:\n",
    "\n"
   ]
  },
  {
   "cell_type": "code",
   "execution_count": null,
   "metadata": {},
   "outputs": [],
   "source": [
    "Şifreli cümle: emrhbaa dnuya"
   ]
  },
  {
   "cell_type": "markdown",
   "metadata": {},
   "source": [
    "\n",
    "\n",
    "Bu program, kullanıcıdan bir cümle alır, cümledeki tek ve çift konumda bulunan karakterlerin yerlerini değiştirir ve sonucu ekrana yazdırır. Örneğin, \"merhaba dünya\" cümlesinde \"m\" ve \"e\", \"r\" ve \"h\", \"b\" ve \"a\" gibi karakterler yer değiştirir. Bu şekilde, cümle şifrelenmiş olur."
   ]
  },
  {
   "cell_type": "markdown",
   "metadata": {},
   "source": []
  },
  {
   "cell_type": "markdown",
   "metadata": {},
   "source": [
    "6. Cümledeki karakterlerin ASCII kodlarına sabit 33 tamsayısını ekleyerek şifreleyen program"
   ]
  },
  {
   "cell_type": "markdown",
   "metadata": {},
   "source": [
    "Tabii, cümledeki karakterlerin ASCII kodlarına sabit 33 tamsayısını ekleyerek şifreleyen bir Python programı yazalım ve adım adım açıklayalım.\n",
    "\n",
    "### Python Kodu\n",
    "\n"
   ]
  },
  {
   "cell_type": "code",
   "execution_count": null,
   "metadata": {},
   "outputs": [],
   "source": [
    "# Kullanıcıdan bir cümle alalım\n",
    "cumle = input(\"Bir cümle girin: \")\n",
    "\n",
    "# Karakterlerin ASCII kodlarına sabit 33 tamsayısını ekleyerek şifreleyen fonksiyon\n",
    "def sifrele(cumle):\n",
    "    sifreli_karakterler = []\n",
    "    \n",
    "    for char in cumle:\n",
    "        # Karakterin ASCII kodunu alalım ve 33 ekleyelim\n",
    "        yeni_ascii = ord(char) + 33\n",
    "        # Yeni ASCII kodunu karaktere dönüştürelim\n",
    "        yeni_char = chr(yeni_ascii)\n",
    "        # Şifreli karakteri listeye ekleyelim\n",
    "        sifreli_karakterler.append(yeni_char)\n",
    "    \n",
    "    # Listeyi tekrar stringe dönüştürelim\n",
    "    sifreli_cumle = ''.join(sifreli_karakterler)\n",
    "    \n",
    "    return sifreli_cumle\n",
    "\n",
    "# Fonksiyonu çağırarak sonucu alalım\n",
    "sonuc = sifrele(cumle)\n",
    "\n",
    "# Sonucu ekrana yazdıralım\n",
    "print(f\"Şifreli cümle: {sonuc}\")"
   ]
  },
  {
   "cell_type": "markdown",
   "metadata": {},
   "source": [
    "\n",
    "\n",
    "### Açıklama\n",
    "\n",
    "1. **Kullanıcıdan Girdi Alma**:\n",
    "    ```python\n",
    "    cumle = input(\"Bir cümle girin: \")\n",
    "    ```\n",
    "    - `input()` fonksiyonu, kullanıcıdan bir cümle alır.\n",
    "    - `cumle` değişkeni, kullanıcıdan alınan cümleyi saklar.\n",
    "\n",
    "2. **Şifreleme Fonksiyonu**:\n",
    "    ```python\n",
    "    def sifrele(cumle):\n",
    "        sifreli_karakterler = []\n",
    "        \n",
    "        for char in cumle:\n",
    "            # Karakterin ASCII kodunu alalım ve 33 ekleyelim\n",
    "            yeni_ascii = ord(char) + 33\n",
    "            # Yeni ASCII kodunu karaktere dönüştürelim\n",
    "            yeni_char = chr(yeni_ascii)\n",
    "            # Şifreli karakteri listeye ekleyelim\n",
    "            sifreli_karakterler.append(yeni_char)\n",
    "        \n",
    "        # Listeyi tekrar stringe dönüştürelim\n",
    "        sifreli_cumle = ''.join(sifreli_karakterler)\n",
    "        \n",
    "        return sifreli_cumle\n",
    "    ```\n",
    "    - `sifrele` adında bir fonksiyon tanımlanır.\n",
    "    - Fonksiyon, `cumle` adında bir parametre alır.\n",
    "    - `sifreli_karakterler` listesi, şifreli karakterleri saklamak için kullanılır.\n",
    "    - `for` döngüsü, cümlenin her bir karakteri üzerinde iterasyon yapar.\n",
    "    - `ord(char)` ifadesi, karakterin ASCII kodunu alır.\n",
    "    - `yeni_ascii = ord(char) + 33` ifadesi, karakterin ASCII koduna 33 ekler.\n",
    "    - `chr(yeni_ascii)` ifadesi, yeni ASCII kodunu karaktere dönüştürür.\n",
    "    - `sifreli_karakterler.append(yeni_char)` ifadesi, şifreli karakteri listeye ekler.\n",
    "    - `sifreli_cumle = ''.join(sifreli_karakterler)` ifadesi, listeyi tekrar stringe dönüştürür.\n",
    "    - Fonksiyon, şifreli cümleyi döner.\n",
    "\n",
    "3. **Fonksiyonu Çağırma ve Sonucu Alma**:\n",
    "    ```python\n",
    "    sonuc = sifrele(cumle)\n",
    "    ```\n",
    "    - `sifrele` fonksiyonu, `cumle` parametresi ile çağrılır.\n",
    "    - Fonksiyonun döndürdüğü değer, `sonuc` değişkenine atanır.\n",
    "\n",
    "4. **Sonucu Ekrana Yazdırma**:\n",
    "    ```python\n",
    "    print(f\"Şifreli cümle: {sonuc}\")\n",
    "    ```\n",
    "    - `print()` fonksiyonu, şifreli cümleyi ekrana yazdırır.\n",
    "\n",
    "### Örnek Kullanım\n",
    "\n",
    "Örneğin, kullanıcı \"merhaba\" cümlesini girerse, program şu çıktıyı verecektir:\n",
    "\n"
   ]
  },
  {
   "cell_type": "code",
   "execution_count": null,
   "metadata": {},
   "outputs": [],
   "source": [
    "Şifreli cümle: 4LUIED4I"
   ]
  },
  {
   "cell_type": "markdown",
   "metadata": {},
   "source": [
    "\n",
    "\n",
    "Bu program, kullanıcıdan bir cümle alır, cümledeki her bir karakterin ASCII koduna 33 ekler ve yeni karakterleri birleştirerek şifreli cümleyi oluşturur. Örneğin, \"m\" karakterinin ASCII kodu 109'dur. 109 + 33 = 142 olur ve 142 ASCII koduna karşılık gelen karakter \"4\" olur. Bu şekilde, cümle şifrelenmiş olur."
   ]
  },
  {
   "cell_type": "markdown",
   "metadata": {},
   "source": []
  },
  {
   "cell_type": "markdown",
   "metadata": {},
   "source": [
    "7. Hanoi kulelerini çözen programı yaz ama önce hanoi kulelerini açıkla\n"
   ]
  },
  {
   "cell_type": "markdown",
   "metadata": {},
   "source": [
    "Tabii, Hanoi Kuleleri problemini açıklayalım ve ardından bu problemi çözen bir Python programı yazalım.\n",
    "\n",
    "### Hanoi Kuleleri Problemi Nedir?\n",
    "\n",
    "Hanoi Kuleleri, matematiksel bir bulmaca ve klasik bir algoritma problemidir. Bu problemde, farklı boyutlarda `n` adet disk ve üç adet çubuk (A, B, C) bulunur. Başlangıçta tüm diskler, büyükten küçüğe doğru sıralanmış şekilde bir çubukta (genellikle A çubuğunda) yer alır. Amaç, tüm diskleri aynı sıralama ile başka bir çubuğa (genellikle C çubuğuna) taşımaktır. Ancak, bu işlemi yaparken aşağıdaki kurallara uyulmalıdır:\n",
    "\n",
    "1. Her seferinde sadece bir disk taşınabilir.\n",
    "2. Hiçbir zaman bir diski, kendisinden daha küçük bir diskin üzerine koyamazsınız.\n",
    "3. Diskler sadece doğrudan bir çubuktan diğerine taşınabilir.\n",
    "\n",
    "### Hanoi Kuleleri Probleminin Çözümü\n",
    "\n",
    "Hanoi Kuleleri problemi, rekürsif (özyinelemeli) bir algoritma ile çözülür. Problemin çözümü, aşağıdaki adımlarla gerçekleştirilir:\n",
    "\n",
    "1. `n-1` diskini başlangıç çubuğundan (A) yardımcı çubuğa (B) taşı.\n",
    "2. En büyük diski başlangıç çubuğundan (A) hedef çubuğa (C) taşı.\n",
    "3. `n-1` diskini yardımcı çubuktan (B) hedef çubuğa (C) taşı.\n",
    "\n",
    "Bu adımlar, `n` disk için tekrarlanır ve her adımda disk sayısı `n-1` olacak şekilde rekürsif olarak çağrılır.\n",
    "\n",
    "### Python Kodu\n",
    "\n"
   ]
  },
  {
   "cell_type": "code",
   "execution_count": null,
   "metadata": {},
   "outputs": [],
   "source": [
    "def hanoi_kuleleri(n, baslangic, hedef, yardimci):\n",
    "    if n == 1:\n",
    "        print(f\"Disk 1'i {baslangic} çubuğundan {hedef} çubuğuna taşı\")\n",
    "        return\n",
    "    hanoi_kuleleri(n-1, baslangic, yardimci, hedef)\n",
    "    print(f\"Disk {n}'i {baslangic} çubuğundan {hedef} çubuğuna taşı\")\n",
    "    hanoi_kuleleri(n-1, yardimci, hedef, baslangic)\n",
    "\n",
    "# Kullanıcıdan disk sayısını alalım\n",
    "n = int(input(\"Disk sayısını girin: \"))\n",
    "\n",
    "# Hanoi Kuleleri problemini çözelim\n",
    "hanoi_kuleleri(n, 'A', 'C', 'B')"
   ]
  },
  {
   "cell_type": "markdown",
   "metadata": {},
   "source": [
    "\n",
    "\n",
    "### Açıklama\n",
    "\n",
    "1. **Fonksiyon Tanımlama**:\n",
    "    ```python\n",
    "    def hanoi_kuleleri(n, baslangic, hedef, yardimci):\n",
    "        if n == 1:\n",
    "            print(f\"Disk 1'i {baslangic} çubuğundan {hedef} çubuğuna taşı\")\n",
    "            return\n",
    "        hanoi_kuleleri(n-1, baslangic, yardimci, hedef)\n",
    "        print(f\"Disk {n}'i {baslangic} çubuğundan {hedef} çubuğuna taşı\")\n",
    "        hanoi_kuleleri(n-1, yardimci, hedef, baslangic)\n",
    "    ```\n",
    "    - `hanoi_kuleleri` adında bir fonksiyon tanımlanır.\n",
    "    - Fonksiyon, `n` (disk sayısı), `baslangic` (başlangıç çubuğu), `hedef` (hedef çubuğu) ve `yardimci` (yardımcı çubuk) adında dört parametre alır.\n",
    "    - Eğer `n` 1 ise, en küçük disk doğrudan başlangıç çubuğundan hedef çubuğa taşınır ve fonksiyon sonlanır.\n",
    "    - Eğer `n` 1'den büyükse, fonksiyon rekürsif olarak kendisini çağırır:\n",
    "        - `n-1` diskini başlangıç çubuğundan yardımcı çubuğa taşır.\n",
    "        - En büyük diski başlangıç çubuğundan hedef çubuğa taşır.\n",
    "        - `n-1` diskini yardımcı çubuktan hedef çubuğa taşır.\n",
    "\n",
    "2. **Kullanıcıdan Girdi Alma**:\n",
    "    ```python\n",
    "    n = int(input(\"Disk sayısını girin: \"))\n",
    "    ```\n",
    "    - `input()` fonksiyonu, kullanıcıdan disk sayısını alır.\n",
    "    - `int()` fonksiyonu, bu string girdiyi tam sayıya dönüştürür ve `n` değişkenine atar.\n",
    "\n",
    "3. **Hanoi Kuleleri Problemini Çözme**:\n",
    "    ```python\n",
    "    hanoi_kuleleri(n, 'A', 'C', 'B')\n",
    "    ```\n",
    "    - `hanoi_kuleleri` fonksiyonu, `n` disk sayısı, 'A' başlangıç çubuğu, 'C' hedef çubuğu ve 'B' yardımcı çubuk parametreleri ile çağrılır.\n",
    "\n",
    "### Örnek Kullanım\n",
    "\n",
    "Örneğin, kullanıcı 3 disk sayısını girerse, program şu çıktıyı verecektir:\n",
    "\n"
   ]
  },
  {
   "cell_type": "code",
   "execution_count": null,
   "metadata": {},
   "outputs": [],
   "source": [
    "Disk 1'i A çubuğundan C çubuğuna taşı\n",
    "Disk 2'yi A çubuğundan B çubuğuna taşı\n",
    "Disk 1'i C çubuğundan B çubuğuna taşı\n",
    "Disk 3'ü A çubuğundan C çubuğuna taşı\n",
    "Disk 1'i B çubuğundan A çubuğuna taşı\n",
    "Disk 2'yi B çubuğundan C çubuğuna taşı\n",
    "Disk 1'i A çubuğundan C çubuğuna taşı"
   ]
  },
  {
   "cell_type": "markdown",
   "metadata": {},
   "source": [
    "\n",
    "\n",
    "Bu program, kullanıcıdan disk sayısını alır ve Hanoi Kuleleri problemini rekürsif olarak çözer. Disklerin hangi çubuktan hangi çubuğa taşınacağını adım adım ekrana yazdırır."
   ]
  },
  {
   "cell_type": "markdown",
   "metadata": {},
   "source": []
  },
  {
   "cell_type": "markdown",
   "metadata": {},
   "source": [
    "8. Bölme işlemini çıkarma işlemi kullanarak bulan program"
   ]
  },
  {
   "cell_type": "markdown",
   "metadata": {},
   "source": [
    "Tabii, bölme işlemini çıkarma işlemi kullanarak gerçekleştiren bir Python programı yazalım ve adım adım açıklayalım. Bu program, iki sayı alacak ve birinci sayıyı ikinci sayıya bölerken sadece çıkarma işlemini kullanacaktır.\n",
    "\n",
    "### Python Kodu\n",
    "\n"
   ]
  },
  {
   "cell_type": "code",
   "execution_count": null,
   "metadata": {},
   "outputs": [],
   "source": [
    "# Kullanıcıdan iki sayı alalım\n",
    "bolunen = int(input(\"Bölünen sayıyı girin: \"))\n",
    "bolen = int(input(\"Bölen sayıyı girin: \"))\n",
    "\n",
    "# Bölme işlemini çıkarma işlemi kullanarak gerçekleştiren fonksiyon\n",
    "def bolme_islemi(bolunen, bolen):\n",
    "    kalan = bolunen\n",
    "    bolum = 0\n",
    "    \n",
    "    while kalan >= bolen:\n",
    "        kalan -= bolen\n",
    "        bolum += 1\n",
    "    \n",
    "    return bolum, kalan\n",
    "\n",
    "# Fonksiyonu çağırarak sonucu alalım\n",
    "bolum, kalan = bolme_islemi(bolunen, bolen)\n",
    "\n",
    "# Sonucu ekrana yazdıralım\n",
    "print(f\"{bolunen} / {bolen} = {bolum} (Kalan: {kalan})\")"
   ]
  },
  {
   "cell_type": "markdown",
   "metadata": {},
   "source": [
    "\n",
    "\n",
    "### Açıklama\n",
    "\n",
    "1. **Kullanıcıdan Girdi Alma**:\n",
    "    ```python\n",
    "    bolunen = int(input(\"Bölünen sayıyı girin: \"))\n",
    "    bolen = int(input(\"Bölen sayıyı girin: \"))\n",
    "    ```\n",
    "    - `input()` fonksiyonu, kullanıcıdan iki sayı alır.\n",
    "    - `int()` fonksiyonu, bu string girdileri tam sayıya dönüştürür ve `bolunen` ve `bolen` değişkenlerine atar.\n",
    "\n",
    "2. **Bölme İşlemini Çıkarma İşlemi Kullanarak Gerçekleştiren Fonksiyon**:\n",
    "    ```python\n",
    "    def bolme_islemi(bolunen, bolen):\n",
    "        kalan = bolunen\n",
    "        bolum = 0\n",
    "        \n",
    "        while kalan >= bolen:\n",
    "            kalan -= bolen\n",
    "            bolum += 1\n",
    "        \n",
    "        return bolum, kalan\n",
    "    ```\n",
    "    - `bolme_islemi` adında bir fonksiyon tanımlanır.\n",
    "    - Fonksiyon, `bolunen` ve `bolen` adında iki parametre alır.\n",
    "    - `kalan` değişkeni, başlangıçta `bolunen` değerine eşit olarak ayarlanır.\n",
    "    - `bolum` değişkeni, başlangıçta 0 olarak ayarlanır.\n",
    "    - `while` döngüsü, `kalan` değeri `bolen` değerine eşit veya büyük olduğu sürece çalışır.\n",
    "    - Döngü her çalıştığında, `kalan` değeri `bolen` değeri kadar azaltılır ve `bolum` değeri bir artırılır.\n",
    "    - Döngü sona erdiğinde, `bolum` ve `kalan` değerleri döner.\n",
    "\n",
    "3. **Fonksiyonu Çağırma ve Sonucu Alma**:\n",
    "    ```python\n",
    "    bolum, kalan = bolme_islemi(bolunen, bolen)\n",
    "    ```\n",
    "    - `bolme_islemi` fonksiyonu, `bolunen` ve `bolen` parametreleri ile çağrılır.\n",
    "    - Fonksiyonun döndürdüğü `bolum` ve `kalan` değerleri, `bolum` ve `kalan` değişkenlerine atanır.\n",
    "\n",
    "4. **Sonucu Ekrana Yazdırma**:\n",
    "    ```python\n",
    "    print(f\"{bolunen} / {bolen} = {bolum} (Kalan: {kalan})\")\n",
    "    ```\n",
    "    - `print()` fonksiyonu, bölme işleminin sonucunu ve kalan değerini ekrana yazdırır.\n",
    "\n",
    "### Örnek Kullanım\n",
    "\n",
    "Örneğin, kullanıcı 10 ve 3 sayılarını girerse, program şu çıktıyı verecektir:\n",
    "\n"
   ]
  },
  {
   "cell_type": "code",
   "execution_count": null,
   "metadata": {},
   "outputs": [],
   "source": [
    "10 / 3 = 3 (Kalan: 1)"
   ]
  },
  {
   "cell_type": "markdown",
   "metadata": {},
   "source": [
    "\n",
    "\n",
    "Bu program, kullanıcıdan iki sayı alır ve birinci sayıyı ikinci sayıya bölerken sadece çıkarma işlemini kullanır. Döngü her çalıştığında, bölünen sayıdan bölen sayı çıkarılır ve bölüm değeri bir artırılır. Döngü sona erdiğinde, bölüm ve kalan değerleri ekrana yazdırılır. Bu şekilde, bölme işlemi çıkarma işlemi kullanılarak gerçekleştirilmiş olur."
   ]
  },
  {
   "cell_type": "markdown",
   "metadata": {},
   "source": []
  },
  {
   "cell_type": "markdown",
   "metadata": {},
   "source": [
    "9. Girilen bir sayının mükemmel sayı olup olmadığını bulan program"
   ]
  },
  {
   "cell_type": "markdown",
   "metadata": {},
   "source": [
    "Tabii, mükemmel sayının ne olduğunu açıklayalım ve ardından girilen bir sayının mükemmel sayı olup olmadığını bulan bir Python programı yazalım.\n",
    "\n",
    "### Mükemmel Sayı Nedir?\n",
    "\n",
    "Mükemmel sayı, pozitif bölenlerinin (kendisi hariç) toplamı kendisine eşit olan pozitif tam sayıdır. Başka bir deyişle, bir sayının kendisi hariç tüm pozitif bölenlerinin toplamı, o sayıya eşitse bu sayı mükemmel sayıdır.\n",
    "\n",
    "Örneğin:\n",
    "- 6 sayısı mükemmel bir sayıdır çünkü 1, 2 ve 3 pozitif bölenleridir ve 1 + 2 + 3 = 6 eder.\n",
    "- 28 sayısı mükemmel bir sayıdır çünkü 1, 2, 4, 7 ve 14 pozitif bölenleridir ve 1 + 2 + 4 + 7 + 14 = 28 eder.\n",
    "\n",
    "### Python Kodu\n",
    "\n"
   ]
  },
  {
   "cell_type": "code",
   "execution_count": null,
   "metadata": {},
   "outputs": [],
   "source": [
    "# Kullanıcıdan bir sayı alalım\n",
    "sayi = int(input(\"Bir sayı girin: \"))\n",
    "\n",
    "# Mükemmel sayı olup olmadığını kontrol eden fonksiyon\n",
    "def mukemmel_sayi_mi(sayi):\n",
    "    toplam = 0\n",
    "    \n",
    "    # 1'den sayının yarısına kadar olan sayıları kontrol edelim\n",
    "    for i in range(1, sayi // 2 + 1):\n",
    "        if sayi % i == 0:\n",
    "            toplam += i\n",
    "    \n",
    "    # Pozitif bölenlerin toplamı sayıya eşitse mükemmel sayıdır\n",
    "    return toplam == sayi\n",
    "\n",
    "# Fonksiyonu çağırarak sonucu alalım\n",
    "if mukemmel_sayi_mi(sayi):\n",
    "    print(f\"{sayi} mükemmel bir sayıdır.\")\n",
    "else:\n",
    "    print(f\"{sayi} mükemmel bir sayı değildir.\")"
   ]
  },
  {
   "cell_type": "markdown",
   "metadata": {},
   "source": [
    "\n",
    "\n",
    "### Açıklama\n",
    "\n",
    "1. **Kullanıcıdan Girdi Alma**:\n",
    "    ```python\n",
    "    sayi = int(input(\"Bir sayı girin: \"))\n",
    "    ```\n",
    "    - `input()` fonksiyonu, kullanıcıdan bir sayı alır.\n",
    "    - `int()` fonksiyonu, bu string girdiyi tam sayıya dönüştürür ve `sayi` değişkenine atar.\n",
    "\n",
    "2. **Mükemmel Sayı Olup Olmadığını Kontrol Eden Fonksiyon**:\n",
    "    ```python\n",
    "    def mukemmel_sayi_mi(sayi):\n",
    "        toplam = 0\n",
    "        \n",
    "        # 1'den sayının yarısına kadar olan sayıları kontrol edelim\n",
    "        for i in range(1, sayi // 2 + 1):\n",
    "            if sayi % i == 0:\n",
    "                toplam += i\n",
    "        \n",
    "        # Pozitif bölenlerin toplamı sayıya eşitse mükemmel sayıdır\n",
    "        return toplam == sayi\n",
    "    ```\n",
    "    - `mukemmel_sayi_mi` adında bir fonksiyon tanımlanır.\n",
    "    - Fonksiyon, `sayi` adında bir parametre alır.\n",
    "    - `toplam` değişkeni, pozitif bölenlerin toplamını saklamak için kullanılır ve başlangıçta 0 olarak ayarlanır.\n",
    "    - `for` döngüsü, 1'den sayının yarısına kadar olan sayıları kontrol eder. Bir sayının pozitif bölenleri, sayının yarısından büyük olamaz.\n",
    "    - Eğer `sayi % i == 0` ifadesi doğruysa, `i` sayısı `sayi`nın bir bölenidir ve `toplam` değişkenine eklenir.\n",
    "    - Döngü sona erdiğinde, pozitif bölenlerin toplamı `sayi`ya eşitse fonksiyon `True` döner, aksi takdirde `False` döner.\n",
    "\n",
    "3. **Fonksiyonu Çağırma ve Sonucu Alma**:\n",
    "    ```python\n",
    "    if mukemmel_sayi_mi(sayi):\n",
    "        print(f\"{sayi} mükemmel bir sayıdır.\")\n",
    "    else:\n",
    "        print(f\"{sayi} mükemmel bir sayı değildir.\")\n",
    "    ```\n",
    "    - `mukemmel_sayi_mi` fonksiyonu, `sayi` parametresi ile çağrılır.\n",
    "    - Fonksiyonun döndürdüğü değer `True` ise, sayı mükemmel bir sayıdır ve bu bilgi ekrana yazdırılır.\n",
    "    - Fonksiyonun döndürdüğü değer `False` ise, sayı mükemmel bir sayı değildir ve bu bilgi ekrana yazdırılır.\n",
    "\n",
    "### Örnek Kullanım\n",
    "\n",
    "Örneğin, kullanıcı 6 sayısını girerse, program şu çıktıyı verecektir:\n",
    "\n"
   ]
  },
  {
   "cell_type": "code",
   "execution_count": null,
   "metadata": {},
   "outputs": [],
   "source": [
    "6 mükemmel bir sayıdır."
   ]
  },
  {
   "cell_type": "markdown",
   "metadata": {},
   "source": [
    "\n",
    "\n",
    "Eğer kullanıcı 10 sayısını girerse, program şu çıktıyı verecektir:\n",
    "\n"
   ]
  },
  {
   "cell_type": "code",
   "execution_count": null,
   "metadata": {},
   "outputs": [],
   "source": [
    "10 mükemmel bir sayı değildir."
   ]
  },
  {
   "cell_type": "markdown",
   "metadata": {},
   "source": [
    "\n",
    "\n",
    "Bu program, kullanıcıdan bir sayı alır ve bu sayının mükemmel sayı olup olmadığını kontrol eder. Pozitif bölenlerin toplamı sayıya eşitse, sayı mükemmel bir sayıdır ve bu bilgi ekrana yazdırılır. Aksi takdirde, sayı mükemmel bir sayı değildir ve bu bilgi ekrana yazdırılır."
   ]
  },
  {
   "cell_type": "markdown",
   "metadata": {},
   "source": []
  },
  {
   "cell_type": "markdown",
   "metadata": {},
   "source": [
    "10. Girilen Sayının Abundant (Güçlü) Sayı Mı Yada Deficient (Güçsüz) Sayı Mı Olduğunu Bulan Program"
   ]
  },
  {
   "cell_type": "markdown",
   "metadata": {},
   "source": [
    "Tabii, güçlü (abundant) sayı ve güçsüz (deficient) sayı kavramlarını açıklayalım ve ardından girilen bir sayının güçlü mü yoksa güçsüz mü olduğunu bulan bir Python programı yazalım.\n",
    "\n",
    "### Güçlü (Abundant) Sayı Nedir?\n",
    "\n",
    "Bir sayı, kendisi hariç pozitif bölenlerinin toplamı kendisinden büyükse, bu sayı güçlü (abundant) sayıdır. Başka bir deyişle, pozitif bölenlerinin toplamı sayının kendisinden büyük olan sayılar güçlü sayılardır.\n",
    "\n",
    "Örneğin:\n",
    "- 12 sayısı güçlü bir sayıdır çünkü 1, 2, 3, 4 ve 6 pozitif bölenleridir ve 1 + 2 + 3 + 4 + 6 = 16 eder. 16, 12'den büyüktür.\n",
    "\n",
    "### Güçsüz (Deficient) Sayı Nedir?\n",
    "\n",
    "Bir sayı, kendisi hariç pozitif bölenlerinin toplamı kendisinden küçükse, bu sayı güçsüz (deficient) sayıdır. Başka bir deyişle, pozitif bölenlerinin toplamı sayının kendisinden küçük olan sayılar güçsüz sayılardır.\n",
    "\n",
    "Örneğin:\n",
    "- 8 sayısı güçsüz bir sayıdır çünkü 1, 2 ve 4 pozitif bölenleridir ve 1 + 2 + 4 = 7 eder. 7, 8'den küçüktür.\n",
    "\n",
    "### Python Kodu\n",
    "\n"
   ]
  },
  {
   "cell_type": "code",
   "execution_count": null,
   "metadata": {},
   "outputs": [],
   "source": [
    "# Kullanıcıdan bir sayı alalım\n",
    "sayi = int(input(\"Bir sayı girin: \"))\n",
    "\n",
    "# Güçlü veya güçsüz sayı olup olmadığını kontrol eden fonksiyon\n",
    "def sayi_turu(sayi):\n",
    "    toplam = 0\n",
    "    \n",
    "    # 1'den sayının yarısına kadar olan sayıları kontrol edelim\n",
    "    for i in range(1, sayi // 2 + 1):\n",
    "        if sayi % i == 0:\n",
    "            toplam += i\n",
    "    \n",
    "    # Pozitif bölenlerin toplamı sayıya eşitse mükemmel sayıdır\n",
    "    if toplam > sayi:\n",
    "        return \"Güçlü (Abundant) Sayı\"\n",
    "    elif toplam < sayi:\n",
    "        return \"Güçsüz (Deficient) Sayı\"\n",
    "    else:\n",
    "        return \"Mükemmel Sayı\"\n",
    "\n",
    "# Fonksiyonu çağırarak sonucu alalım\n",
    "sonuc = sayi_turu(sayi)\n",
    "\n",
    "# Sonucu ekrana yazdıralım\n",
    "print(f\"{sayi} sayısı bir {sonuc}.\")"
   ]
  },
  {
   "cell_type": "markdown",
   "metadata": {},
   "source": [
    "\n",
    "\n",
    "### Açıklama\n",
    "\n",
    "1. **Kullanıcıdan Girdi Alma**:\n",
    "    ```python\n",
    "    sayi = int(input(\"Bir sayı girin: \"))\n",
    "    ```\n",
    "    - `input()` fonksiyonu, kullanıcıdan bir sayı alır.\n",
    "    - `int()` fonksiyonu, bu string girdiyi tam sayıya dönüştürür ve `sayi` değişkenine atar.\n",
    "\n",
    "2. **Güçlü veya Güçsüz Sayı Olup Olmadığını Kontrol Eden Fonksiyon**:\n",
    "    ```python\n",
    "    def sayi_turu(sayi):\n",
    "        toplam = 0\n",
    "        \n",
    "        # 1'den sayının yarısına kadar olan sayıları kontrol edelim\n",
    "        for i in range(1, sayi // 2 + 1):\n",
    "            if sayi % i == 0:\n",
    "                toplam += i\n",
    "        \n",
    "        # Pozitif bölenlerin toplamı sayıya eşitse mükemmel sayıdır\n",
    "        if toplam > sayi:\n",
    "            return \"Güçlü (Abundant) Sayı\"\n",
    "        elif toplam < sayi:\n",
    "            return \"Güçsüz (Deficient) Sayı\"\n",
    "        else:\n",
    "            return \"Mükemmel Sayı\"\n",
    "    ```\n",
    "    - `sayi_turu` adında bir fonksiyon tanımlanır.\n",
    "    - Fonksiyon, `sayi` adında bir parametre alır.\n",
    "    - `toplam` değişkeni, pozitif bölenlerin toplamını saklamak için kullanılır ve başlangıçta 0 olarak ayarlanır.\n",
    "    - `for` döngüsü, 1'den sayının yarısına kadar olan sayıları kontrol eder. Bir sayının pozitif bölenleri, sayının yarısından büyük olamaz.\n",
    "    - Eğer `sayi % i == 0` ifadesi doğruysa, `i` sayısı `sayi`nın bir bölenidir ve `toplam` değişkenine eklenir.\n",
    "    - Döngü sona erdiğinde, pozitif bölenlerin toplamı sayıya eşitse fonksiyon \"Mükemmel Sayı\" döner.\n",
    "    - Pozitif bölenlerin toplamı sayıya eşit değilse, toplam sayıya göre büyük veya küçük olup olmadığına göre \"Güçlü (Abundant) Sayı\" veya \"Güçsüz (Deficient) Sayı\" döner.\n",
    "\n",
    "3. **Fonksiyonu Çağırma ve Sonucu Alma**:\n",
    "    ```python\n",
    "    sonuc = sayi_turu(sayi)\n",
    "    ```\n",
    "    - `sayi_turu` fonksiyonu, `sayi` parametresi ile çağrılır.\n",
    "    - Fonksiyonun döndürdüğü değer `sonuc` değişkenine atanır.\n",
    "\n",
    "4. **Sonucu Ekrana Yazdırma**:\n",
    "    ```python\n",
    "    print(f\"{sayi} sayısı bir {sonuc}.\")\n",
    "    ```\n",
    "    - `print()` fonksiyonu, sayının türünü ekrana yazdırır.\n",
    "\n",
    "### Örnek Kullanım\n",
    "\n",
    "Örneğin, kullanıcı 12 sayısını girerse, program şu çıktıyı verecektir:\n",
    "\n"
   ]
  },
  {
   "cell_type": "code",
   "execution_count": null,
   "metadata": {},
   "outputs": [],
   "source": [
    "12 sayısı bir Güçlü (Abundant) Sayı."
   ]
  },
  {
   "cell_type": "markdown",
   "metadata": {},
   "source": [
    "\n",
    "\n",
    "Eğer kullanıcı 8 sayısını girerse, program şu çıktıyı verecektir:\n",
    "\n"
   ]
  },
  {
   "cell_type": "code",
   "execution_count": null,
   "metadata": {},
   "outputs": [],
   "source": [
    "8 sayısı bir Güçsüz (Deficient) Sayı."
   ]
  },
  {
   "cell_type": "markdown",
   "metadata": {},
   "source": [
    "\n",
    "\n",
    "Bu program, kullanıcıdan bir sayı alır ve bu sayının güçlü (abundant) mı yoksa güçsüz (deficient) mı olduğunu kontrol eder. Pozitif bölenlerin toplamı sayıya eşitse, sayı mükemmel bir sayıdır. Pozitif bölenlerin toplamı sayıya göre büyükse, sayı güçlü bir sayıdır. Pozitif bölenlerin toplamı sayıya göre küçükse, sayı güçsüz bir sayıdır. Bu bilgi ekrana yazdırılır."
   ]
  },
  {
   "cell_type": "markdown",
   "metadata": {},
   "source": []
  },
  {
   "cell_type": "markdown",
   "metadata": {},
   "source": [
    "11. Verilen yılın artık yıl olup olmadıüını bulan program"
   ]
  },
  {
   "cell_type": "markdown",
   "metadata": {},
   "source": [
    "Tabii, artık yılın ne olduğunu açıklayalım ve ardından verilen yılın artık yıl olup olmadığını bulan bir Python programı yazalım.\n",
    "\n",
    "### Artık Yıl Nedir?\n",
    "\n",
    "Artık yıl, 366 gün olan bir yıldır. Normal bir yıl 365 gün sürerken, artık yıl 366 gün sürer. Artık yıl, Şubat ayının 29 gün çekmesiyle belirlenir. Artık yıllar, belirli kurallara göre hesaplanır:\n",
    "\n",
    "1. Bir yıl 4 ile tam bölünebiliyorsa artık yıldır.\n",
    "2. Ancak, yıl 100 ile tam bölünebiliyorsa artık yıl değildir.\n",
    "3. Fakat, yıl 400 ile tam bölünebiliyorsa artık yıldır.\n",
    "\n",
    "Bu kurallar, Gregoryen takvimine göre belirlenmiştir ve bu takvim günümüzde yaygın olarak kullanılmaktadır.\n",
    "\n",
    "### Artık Yıl Kuralları\n",
    "\n",
    "- 2000 yılı artık yıldır çünkü 400 ile tam bölünebilmektedir.\n",
    "- 1900 yılı artık yıl değildir çünkü 100 ile tam bölünebilmektedir ama 400 ile tam bölünememektedir.\n",
    "- 2024 yılı artık yıldır çünkü 4 ile tam bölünebilmektedir ve 100 ile tam bölünmemektedir.\n",
    "\n",
    "### Python Kodu\n",
    "\n"
   ]
  },
  {
   "cell_type": "code",
   "execution_count": null,
   "metadata": {},
   "outputs": [],
   "source": [
    "# Kullanıcıdan bir yıl alalım\n",
    "yil = int(input(\"Bir yıl girin: \"))\n",
    "\n",
    "# Artık yıl olup olmadığını kontrol eden fonksiyon\n",
    "def artik_yil_mi(yil):\n",
    "    if (yil % 4 == 0 and yil % 100 != 0) or (yil % 400 == 0):\n",
    "        return True\n",
    "    else:\n",
    "        return False\n",
    "\n",
    "# Fonksiyonu çağırarak sonucu alalım\n",
    "if artik_yil_mi(yil):\n",
    "    print(f\"{yil} yılı bir artık yıldır.\")\n",
    "else:\n",
    "    print(f\"{yil} yılı bir artık yıl değildir.\")"
   ]
  },
  {
   "cell_type": "markdown",
   "metadata": {},
   "source": [
    "\n",
    "\n",
    "### Açıklama\n",
    "\n",
    "1. **Kullanıcıdan Girdi Alma**:\n",
    "    ```python\n",
    "    yil = int(input(\"Bir yıl girin: \"))\n",
    "    ```\n",
    "    - `input()` fonksiyonu, kullanıcıdan bir yıl alır.\n",
    "    - `int()` fonksiyonu, bu string girdiyi tam sayıya dönüştürür ve `yil` değişkenine atar.\n",
    "\n",
    "2. **Artık Yıl Olup Olmadığını Kontrol Eden Fonksiyon**:\n",
    "    ```python\n",
    "    def artik_yil_mi(yil):\n",
    "        if (yil % 4 == 0 and yil % 100 != 0) or (yil % 400 == 0):\n",
    "            return True\n",
    "        else:\n",
    "            return False\n",
    "    ```\n",
    "    - `artik_yil_mi` adında bir fonksiyon tanımlanır.\n",
    "    - Fonksiyon, `yil` adında bir parametre alır.\n",
    "    - `if` ifadesi, yılın artık yıl olup olmadığını kontrol eder:\n",
    "        - `(yil % 4 == 0 and yil % 100 != 0)`: Yıl 4 ile tam bölünebiliyorsa ve 100 ile tam bölünemiyorsa artık yıldır.\n",
    "        - `or (yil % 400 == 0)`: Yıl 400 ile tam bölünebiliyorsa artık yıldır.\n",
    "    - Eğer bu koşullar sağlanıyorsa, fonksiyon `True` döner, aksi takdirde `False` döner.\n",
    "\n",
    "3. **Fonksiyonu Çağırma ve Sonucu Alma**:\n",
    "    ```python\n",
    "    if artik_yil_mi(yil):\n",
    "        print(f\"{yil} yılı bir artık yıldır.\")\n",
    "    else:\n",
    "        print(f\"{yil} yılı bir artık yıl değildir.\")\n",
    "    ```\n",
    "    - `artik_yil_mi` fonksiyonu, `yil` parametresi ile çağrılır.\n",
    "    - Fonksiyonun döndürdüğü değer `True` ise, yıl artık yıldır ve bu bilgi ekrana yazdırılır.\n",
    "    - Fonksiyonun döndürdüğü değer `False` ise, yıl artık yıl değildir ve bu bilgi ekrana yazdırılır.\n",
    "\n",
    "### Örnek Kullanım\n",
    "\n",
    "Örneğin, kullanıcı 2024 yılını girerse, program şu çıktıyı verecektir:\n",
    "\n"
   ]
  },
  {
   "cell_type": "code",
   "execution_count": null,
   "metadata": {},
   "outputs": [],
   "source": [
    "2024 yılı bir artık yıldır."
   ]
  },
  {
   "cell_type": "markdown",
   "metadata": {},
   "source": [
    "\n",
    "\n",
    "Eğer kullanıcı 1900 yılını girerse, program şu çıktıyı verecektir:\n",
    "\n"
   ]
  },
  {
   "cell_type": "code",
   "execution_count": null,
   "metadata": {},
   "outputs": [],
   "source": [
    "1900 yılı bir artık yıl değildir."
   ]
  },
  {
   "cell_type": "markdown",
   "metadata": {},
   "source": [
    "\n",
    "\n",
    "Bu program, kullanıcıdan bir yıl alır ve bu yılın artık yıl olup olmadığını kontrol eder. Yıl 4 ile tam bölünebiliyorsa ve 100 ile tam bölünemiyorsa veya yıl 400 ile tam bölünebiliyorsa, yıl artık yıldır. Bu bilgi ekrana yazdırılır. Aksi takdirde, yıl artık yıl değildir ve bu bilgi ekrana yazdırılır."
   ]
  },
  {
   "cell_type": "markdown",
   "metadata": {},
   "source": []
  },
  {
   "cell_type": "markdown",
   "metadata": {},
   "source": [
    "\n",
    "12. Girilen bir sayının Smith sayısı oluo olmadığını bulan program\n"
   ]
  },
  {
   "cell_type": "markdown",
   "metadata": {},
   "source": [
    "Tabii, Smith sayısının ne olduğunu açıklayalım ve ardından girilen bir sayının Smith sayısı olup olmadığını bulan bir Python programı yazalım.\n",
    "\n",
    "### Smith Sayısı Nedir?\n",
    "\n",
    "Smith sayısı, asal olmayan pozitif bir tam sayıdır ve bu sayının rakamlarının toplamı, asal çarpanlarının rakamlarının toplamına eşittir. Başka bir deyişle, bir sayının rakamlarının toplamı, asal çarpanlarının rakamlarının toplamına eşitse bu sayı Smith sayısıdır.\n",
    "\n",
    "Örneğin:\n",
    "- 22 sayısı Smith sayısıdır çünkü:\n",
    "  - 22'nin rakamlarının toplamı: 2 + 2 = 4\n",
    "  - 22'nin asal çarpanları: 2 ve 11\n",
    "  - Asal çarpanlarının rakamlarının toplamı: 2 + (1 + 1) = 4\n",
    "  - Rakamların toplamı ve asal çarpanların rakamlarının toplamı eşittir.\n",
    "\n",
    "### Python Kodu\n",
    "\n"
   ]
  },
  {
   "cell_type": "code",
   "execution_count": null,
   "metadata": {},
   "outputs": [],
   "source": [
    "# Kullanıcıdan bir sayı alalım\n",
    "sayi = int(input(\"Bir sayı girin: \"))\n",
    "\n",
    "# Bir sayının asal olup olmadığını kontrol eden fonksiyon\n",
    "def asal_mi(n):\n",
    "    if n <= 1:\n",
    "        return False\n",
    "    for i in range(2, int(n**0.5) + 1):\n",
    "        if n % i == 0:\n",
    "            return False\n",
    "    return True\n",
    "\n",
    "# Bir sayının asal çarpanlarını bulan fonksiyon\n",
    "def asal_carpanlar(n):\n",
    "    carpanlar = []\n",
    "    i = 2\n",
    "    while n > 1:\n",
    "        if n % i == 0 and asal_mi(i):\n",
    "            carpanlar.append(i)\n",
    "            n //= i\n",
    "        else:\n",
    "            i += 1\n",
    "    return carpanlar\n",
    "\n",
    "# Bir sayının rakamlarının toplamını bulan fonksiyon\n",
    "def rakamlar_toplami(n):\n",
    "    toplam = 0\n",
    "    while n > 0:\n",
    "        toplam += n % 10\n",
    "        n //= 10\n",
    "    return toplam\n",
    "\n",
    "# Smith sayısı olup olmadığını kontrol eden fonksiyon\n",
    "def smith_sayisi_mi(sayi):\n",
    "    if asal_mi(sayi):\n",
    "        return False\n",
    "    \n",
    "    sayi_rakam_toplami = rakamlar_toplami(sayi)\n",
    "    carpanlar = asal_carpanlar(sayi)\n",
    "    \n",
    "    carpanlar_rakam_toplami = sum(rakamlar_toplami(carpan) for carpan in carpanlar)\n",
    "    \n",
    "    return sayi_rakam_toplami == carpanlar_rakam_toplami\n",
    "\n",
    "# Fonksiyonu çağırarak sonucu alalım\n",
    "if smith_sayisi_mi(sayi):\n",
    "    print(f\"{sayi} bir Smith sayısıdır.\")\n",
    "else:\n",
    "    print(f\"{sayi} bir Smith sayısı değildir.\")"
   ]
  },
  {
   "cell_type": "markdown",
   "metadata": {},
   "source": [
    "\n",
    "\n",
    "### Açıklama\n",
    "\n",
    "1. **Kullanıcıdan Girdi Alma**:\n",
    "    ```python\n",
    "    sayi = int(input(\"Bir sayı girin: \"))\n",
    "    ```\n",
    "    - `input()` fonksiyonu, kullanıcıdan bir sayı alır.\n",
    "    - `int()` fonksiyonu, bu string girdiyi tam sayıya dönüştürür ve `sayi` değişkenine atar.\n",
    "\n",
    "2. **Asal Sayı Kontrolü**:\n",
    "    ```python\n",
    "    def asal_mi(n):\n",
    "        if n <= 1:\n",
    "            return False\n",
    "        for i in range(2, int(n**0.5) + 1):\n",
    "            if n % i == 0:\n",
    "                return False\n",
    "        return True\n",
    "    ```\n",
    "    - `asal_mi` adında bir fonksiyon tanımlanır.\n",
    "    - Fonksiyon, `n` adında bir parametre alır.\n",
    "    - Eğer `n` 1 veya daha küçükse, sayı asal değildir ve `False` döner.\n",
    "    - `for` döngüsü, 2'den `n`'in kareköküne kadar olan sayıları kontrol eder. Eğer `n` bu sayılardan herhangi birine tam bölünüyorsa, sayı asal değildir ve `False` döner.\n",
    "    - Döngü sona erdiğinde, sayı asal ise `True` döner.\n",
    "\n",
    "3. **Asal Çarpanları Bulma**:\n",
    "    ```python\n",
    "    def asal_carpanlar(n):\n",
    "        carpanlar = []\n",
    "        i = 2\n",
    "        while n > 1:\n",
    "            if n % i == 0 and asal_mi(i):\n",
    "                carpanlar.append(i)\n",
    "                n //= i\n",
    "            else:\n",
    "                i += 1\n",
    "        return carpanlar\n",
    "    ```\n",
    "    - `asal_carpanlar` adında bir fonksiyon tanımlanır.\n",
    "    - Fonksiyon, `n` adında bir parametre alır.\n",
    "    - `carpanlar` listesi, asal çarpanları saklamak için kullanılır.\n",
    "    - `while` döngüsü, `n` 1'den büyük olduğu sürece çalışır.\n",
    "    - Eğer `n` `i`'ye tam bölünüyorsa ve `i` asal ise, `i` `carpanlar` listesine eklenir ve `n` `i`'ye bölünür.\n",
    "    - Eğer `n` `i`'ye tam bölünmüyorsa, `i` bir artırılır.\n",
    "    - Döngü sona erdiğinde, `carpanlar` listesi döner.\n",
    "\n",
    "4. **Rakamların Toplamını Bulma**:\n",
    "    ```python\n",
    "    def rakamlar_toplami(n):\n",
    "        toplam = 0\n",
    "        while n > 0:\n",
    "            toplam += n % 10\n",
    "            n //= 10\n",
    "        return toplam\n",
    "    ```\n",
    "    - `rakamlar_toplami` adında bir fonksiyon tanımlanır.\n",
    "    - Fonksiyon, `n` adında bir parametre alır.\n",
    "    - `toplam` değişkeni, rakamların toplamını saklamak için kullanılır ve başlangıçta 0 olarak ayarlanır.\n",
    "    - `while` döngüsü, `n` 0'dan büyük olduğu sürece çalışır.\n",
    "    - Döngü her çalıştığında, `n`'in son rakamı `toplam`a eklenir ve `n` 10'a bölünerek bir basamak küçültülür.\n",
    "    - Döngü sona erdiğinde, `toplam` döner.\n",
    "\n",
    "5. **Smith Sayısı Kontrolü**:\n",
    "    ```python\n",
    "    def smith_sayisi_mi(sayi):\n",
    "        if asal_mi(sayi):\n",
    "            return False\n",
    "        \n",
    "        sayi_rakam_toplami = rakamlar_toplami(sayi)\n",
    "        carpanlar = asal_carpanlar(sayi)\n",
    "        \n",
    "        carpanlar_rakam_toplami = sum(rakamlar_toplami(carpan) for carpan in carpanlar)\n",
    "        \n",
    "        return sayi_rakam_toplami == carpanlar_rakam_toplami\n",
    "    ```\n",
    "    - `smith_sayisi_mi` adında bir fonksiyon tanımlanır.\n",
    "    - Fonksiyon, `sayi` adında bir parametre alır.\n",
    "    - Eğer `sayi` asal ise, sayı Smith sayısı değildir ve `False` döner.\n",
    "    - `sayi_rakam_toplami`, sayının rakamlarının toplamını saklar.\n",
    "    - `carpanlar`, sayının asal çarpanlarını saklar.\n",
    "    - `carpanlar_rakam_toplami`, asal çarpanların rakamlarının toplamını saklar.\n",
    "    - Eğer `sayi_rakam_toplami` `carpanlar_rakam_toplami`'ye eşitse, sayı Smith sayısıdır ve `True` döner. Aksi takdirde, `False` döner.\n",
    "\n",
    "6. **Fonksiyonu Çağırma ve Sonucu Alma**:\n",
    "    ```python\n",
    "    if smith_sayisi_mi(sayi):\n",
    "        print(f\"{sayi} bir Smith sayısıdır.\")\n",
    "    else:\n",
    "        print(f\"{sayi} bir Smith sayısı değildir.\")\n",
    "    ```\n",
    "    - `smith_sayisi_mi` fonksiyonu, `sayi` parametresi ile çağrılır.\n",
    "    - Fonksiyonun döndürdüğü değer `True` ise, sayı Smith sayısıdır ve bu bilgi ekrana yazdırılır.\n",
    "    - Fonksiyonun döndürdüğü değer `False` ise, sayı Smith sayısı değildir ve bu bilgi ekrana yazdırılır.\n",
    "\n",
    "### Örnek Kullanım\n",
    "\n",
    "Örneğin, kullanıcı 22 sayısını girerse, program şu çıktıyı verecektir:\n",
    "\n"
   ]
  },
  {
   "cell_type": "code",
   "execution_count": null,
   "metadata": {},
   "outputs": [],
   "source": [
    "22 bir Smith sayısıdır."
   ]
  },
  {
   "cell_type": "markdown",
   "metadata": {},
   "source": [
    "\n",
    "\n",
    "Eğer kullanıcı 23 sayısını girerse, program şu çıktıyı verecektir:\n",
    "\n"
   ]
  },
  {
   "cell_type": "code",
   "execution_count": null,
   "metadata": {},
   "outputs": [],
   "source": [
    "23 bir Smith sayısı değildir."
   ]
  },
  {
   "cell_type": "markdown",
   "metadata": {},
   "source": [
    "\n",
    "\n",
    "Bu program, kullanıcıdan bir sayı alır ve bu sayının Smith sayısı olup olmadığını kontrol eder. Sayının rakamlarının toplamı, asal çarpanlarının rakamlarının toplamına eşitse, sayı Smith sayısıdır ve bu bilgi ekrana yazdırılır. Aksi takdirde, sayı Smith sayısı değildir ve bu bilgi ekrana yazdırılır."
   ]
  },
  {
   "cell_type": "markdown",
   "metadata": {},
   "source": []
  },
  {
   "cell_type": "markdown",
   "metadata": {},
   "source": [
    "13. Girilen Bir Tam Sayının Hanelerindeki En Büyük Sayıyı Bulan Program"
   ]
  },
  {
   "cell_type": "markdown",
   "metadata": {},
   "source": [
    "Tabii, girilen bir tam sayının hanelerindeki en büyük sayıyı bulan bir Python programı yazalım ve adım adım açıklayalım.\n",
    "\n",
    "### Python Kodu\n",
    "\n"
   ]
  },
  {
   "cell_type": "code",
   "execution_count": null,
   "metadata": {},
   "outputs": [],
   "source": [
    "# Kullanıcıdan bir tam sayı alalım\n",
    "sayi = int(input(\"Bir tam sayı girin: \"))\n",
    "\n",
    "# Hanelerindeki en büyük sayıyı bulan fonksiyon\n",
    "def en_buyuk_hane(sayi):\n",
    "    # Sayıyı pozitif hale getirelim\n",
    "    sayi = abs(sayi)\n",
    "    \n",
    "    # En büyük rakamı saklamak için bir değişken tanımlayalım\n",
    "    en_buyuk = 0\n",
    "    \n",
    "    # Sayının her bir rakamını kontrol edelim\n",
    "    while sayi > 0:\n",
    "        # Son rakamı alalım\n",
    "        rakam = sayi % 10\n",
    "        \n",
    "        # Eğer bu rakam en büyükten büyükse, en büyük olarak güncelleyelim\n",
    "        if rakam > en_buyuk:\n",
    "            en_buyuk = rakam\n",
    "        \n",
    "        # Sayıyı bir basamak küçültelim\n",
    "        sayi //= 10\n",
    "    \n",
    "    return en_buyuk\n",
    "\n",
    "# Fonksiyonu çağırarak sonucu alalım\n",
    "sonuc = en_buyuk_hane(sayi)\n",
    "\n",
    "# Sonucu ekrana yazdıralım\n",
    "print(f\"Sayının hanelerindeki en büyük rakam: {sonuc}\")"
   ]
  },
  {
   "cell_type": "markdown",
   "metadata": {},
   "source": [
    "\n",
    "\n",
    "### Açıklama\n",
    "\n",
    "1. **Kullanıcıdan Girdi Alma**:\n",
    "    ```python\n",
    "    sayi = int(input(\"Bir tam sayı girin: \"))\n",
    "    ```\n",
    "    - `input()` fonksiyonu, kullanıcıdan bir tam sayı alır.\n",
    "    - `int()` fonksiyonu, bu string girdiyi tam sayıya dönüştürür ve `sayi` değişkenine atar.\n",
    "\n",
    "2. **Hanelerindeki En Büyük Sayıyı Bulan Fonksiyon**:\n",
    "    ```python\n",
    "    def en_buyuk_hane(sayi):\n",
    "        # Sayıyı pozitif hale getirelim\n",
    "        sayi = abs(sayi)\n",
    "        \n",
    "        # En büyük rakamı saklamak için bir değişken tanımlayalım\n",
    "        en_buyuk = 0\n",
    "        \n",
    "        # Sayının her bir rakamını kontrol edelim\n",
    "        while sayi > 0:\n",
    "            # Son rakamı alalım\n",
    "            rakam = sayi % 10\n",
    "            \n",
    "            # Eğer bu rakam en büyükten büyükse, en büyük olarak güncelleyelim\n",
    "            if rakam > en_buyuk:\n",
    "                en_buyuk = rakam\n",
    "            \n",
    "            # Sayıyı bir basamak küçültelim\n",
    "            sayi //= 10\n",
    "        \n",
    "        return en_buyuk\n",
    "    ```\n",
    "    - `en_buyuk_hane` adında bir fonksiyon tanımlanır.\n",
    "    - Fonksiyon, `sayi` adında bir parametre alır.\n",
    "    - `sayi = abs(sayi)` ifadesi, sayıyı pozitif hale getirir. Bu, negatif sayılar için de doğru sonuç elde etmek için yapılır.\n",
    "    - `en_buyuk` değişkeni, en büyük rakamı saklamak için kullanılır ve başlangıçta 0 olarak ayarlanır.\n",
    "    - `while` döngüsü, `sayi` 0'dan büyük olduğu sürece çalışır.\n",
    "    - Döngü her çalıştığında, `sayi % 10` ifadesi ile son rakam alınır ve `rakam` değişkenine atanır.\n",
    "    - Eğer `rakam` `en_buyuk`'ten büyükse, `en_buyuk` olarak güncellenir.\n",
    "    - `sayi //= 10` ifadesi ile sayı bir basamak küçültülür.\n",
    "    - Döngü sona erdiğinde, `en_buyuk` değişkeni döner.\n",
    "\n",
    "3. **Fonksiyonu Çağırma ve Sonucu Alma**:\n",
    "    ```python\n",
    "    sonuc = en_buyuk_hane(sayi)\n",
    "    ```\n",
    "    - `en_buyuk_hane` fonksiyonu, `sayi` parametresi ile çağrılır.\n",
    "    - Fonksiyonun döndürdüğü değer `sonuc` değişkenine atanır.\n",
    "\n",
    "4. **Sonucu Ekrana Yazdırma**:\n",
    "    ```python\n",
    "    print(f\"Sayının hanelerindeki en büyük rakam: {sonuc}\")\n",
    "    ```\n",
    "    - `print()` fonksiyonu, sayının hanelerindeki en büyük rakamı ekrana yazdırır.\n",
    "\n",
    "### Örnek Kullanım\n",
    "\n",
    "Örneğin, kullanıcı 58392 sayısını girerse, program şu çıktıyı verecektir:\n",
    "\n"
   ]
  },
  {
   "cell_type": "code",
   "execution_count": null,
   "metadata": {},
   "outputs": [],
   "source": [
    "Sayının hanelerindeki en büyük rakam: 9"
   ]
  },
  {
   "cell_type": "markdown",
   "metadata": {},
   "source": [
    "\n",
    "\n",
    "Eğer kullanıcı -746 sayısını girerse, program şu çıktıyı verecektir:\n",
    "\n"
   ]
  },
  {
   "cell_type": "code",
   "execution_count": null,
   "metadata": {},
   "outputs": [],
   "source": [
    "Sayının hanelerindeki en büyük rakam: 7"
   ]
  },
  {
   "cell_type": "markdown",
   "metadata": {},
   "source": [
    "\n",
    "\n",
    "Bu program, kullanıcıdan bir tam sayı alır ve bu sayının hanelerindeki en büyük rakamı bulur. Sayı pozitif hale getirilir ve her bir rakam kontrol edilerek en büyük rakam bulunur. Bu bilgi ekrana yazdırılır."
   ]
  },
  {
   "cell_type": "markdown",
   "metadata": {},
   "source": []
  },
  {
   "cell_type": "markdown",
   "metadata": {},
   "source": []
  },
  {
   "cell_type": "markdown",
   "metadata": {},
   "source": [
    "14. Shell Sort (kabuk sıralama) algoritmasını yapan program"
   ]
  },
  {
   "cell_type": "markdown",
   "metadata": {},
   "source": [
    "Tabii, Shell Sort (Kabuk Sıralama) algoritmasını açıklayalım ve ardından bu algoritmayı gerçekleştiren bir Python programı yazalım.\n",
    "\n",
    "### Shell Sort Nedir?\n",
    "\n",
    "Shell Sort, sıralama algoritmalarından biridir ve Donald Shell tarafından 1959 yılında geliştirilmiştir. Bu algoritma, İnsertion Sort (Ekleme Sıralaması) algoritmasının genel bir versiyonudur. Shell Sort, büyük listeleri daha hızlı sıralamak için kullanılır ve İnsertion Sort'un bazı zayıf yönlerini iyileştirir.\n",
    "\n",
    "Shell Sort, listeyi belirli aralıklarla (gap) gruplara ayırarak sıralar. Başlangıçta büyük aralıklarla sıralama yapılır ve aralıklar giderek küçültülür. Son aşamada aralık 1 olduğunda, İnsertion Sort uygulanır. Bu yöntem, İnsertion Sort'un büyük veri kümelerinde daha verimli çalışmasını sağlar.\n",
    "\n",
    "### Shell Sort Algoritmasının Adımları\n",
    "\n",
    "1. Listeyi belirli aralıklarla (gap) gruplara ayır.\n",
    "2. Her grubu kendi içinde İnsertion Sort ile sırala.\n",
    "3. Aralığı (gap) küçült ve adım 1'e geri dön.\n",
    "4. Aralık 1 olduğunda, son bir kez İnsertion Sort uygula.\n",
    "\n",
    "### Python Kodu\n",
    "\n"
   ]
  },
  {
   "cell_type": "code",
   "execution_count": null,
   "metadata": {},
   "outputs": [],
   "source": [
    "def shell_sort(arr):\n",
    "    n = len(arr)\n",
    "    gap = n // 2  # Başlangıç aralığı (gap) olarak listenin yarısını al\n",
    "\n",
    "    # Aralık (gap) 1 olana kadar devam et\n",
    "    while gap > 0:\n",
    "        for i in range(gap, n):\n",
    "            temp = arr[i]\n",
    "            j = i\n",
    "            # İnsertion Sort'u aralık (gap) kullanarak uygula\n",
    "            while j >= gap and arr[j - gap] > temp:\n",
    "                arr[j] = arr[j - gap]\n",
    "                j -= gap\n",
    "            arr[j] = temp\n",
    "        gap //= 2  # Aralığı (gap) yarıya indir\n",
    "\n",
    "# Kullanıcıdan bir liste alalım\n",
    "arr = list(map(int, input(\"Sıralamak için sayıları girin (boşlukla ayırın): \").split()))\n",
    "\n",
    "# Shell Sort algoritmasını uygulayalım\n",
    "shell_sort(arr)\n",
    "\n",
    "# Sonuçları ekrana yazdıralım\n",
    "print(\"Sıralanmış liste:\", arr)"
   ]
  },
  {
   "cell_type": "markdown",
   "metadata": {},
   "source": [
    "\n",
    "\n",
    "### Açıklama\n",
    "\n",
    "1. **Shell Sort Fonksiyonu**:\n",
    "    ```python\n",
    "    def shell_sort(arr):\n",
    "        n = len(arr)\n",
    "        gap = n // 2  # Başlangıç aralığı (gap) olarak listenin yarısını al\n",
    "    ```\n",
    "    - `shell_sort` adında bir fonksiyon tanımlanır.\n",
    "    - Fonksiyon, `arr` adında bir liste parametresi alır.\n",
    "    - `n` değişkeni, listenin uzunluğunu saklar.\n",
    "    - `gap` değişkeni, başlangıç aralığını (gap) saklar ve listenin yarısı olarak ayarlanır.\n",
    "\n",
    "2. **Aralık (gap) 1 Olana Kadar Devam Et**:\n",
    "    ```python\n",
    "    while gap > 0:\n",
    "        for i in range(gap, n):\n",
    "            temp = arr[i]\n",
    "            j = i\n",
    "            # İnsertion Sort'u aralık (gap) kullanarak uygula\n",
    "            while j >= gap and arr[j - gap] > temp:\n",
    "                arr[j] = arr[j - gap]\n",
    "                j -= gap\n",
    "            arr[j] = temp\n",
    "        gap //= 2  # Aralığı (gap) yarıya indir\n",
    "    ```\n",
    "    - `while` döngüsü, `gap` 1'den büyük olduğu sürece çalışır.\n",
    "    - `for` döngüsü, `gap`'ten başlayarak listenin sonuna kadar iterasyon yapar.\n",
    "    - `temp` değişkeni, `arr[i]` değerini saklar.\n",
    "    - `j` değişkeni, `i` değerini saklar.\n",
    "    - İç içe `while` döngüsü, İnsertion Sort'u aralık (gap) kullanarak uygular. `arr[j - gap]` değeri `temp`'ten büyük olduğu sürece, `arr[j]` değeri `arr[j - gap]` olarak güncellenir ve `j` değeri `gap` kadar azaltılır.\n",
    "    - `arr[j]` değeri `temp` olarak güncellenir.\n",
    "    - `gap` değeri yarıya indirilir (`gap //= 2`).\n",
    "\n",
    "3. **Kullanıcıdan Girdi Alma**:\n",
    "    ```python\n",
    "    arr = list(map(int, input(\"Sıralamak için sayıları girin (boşlukla ayırın): \").split()))\n",
    "    ```\n",
    "    - `input()` fonksiyonu, kullanıcıdan sıralamak için sayıları alır.\n",
    "    - `split()` fonksiyonu, bu string girdiyi boşluklara göre ayırır ve bir liste döner.\n",
    "    - `map(int, ...)` fonksiyonu, bu listeyi tam sayılara dönüştürür.\n",
    "    - `list()` fonksiyonu, bu tam sayıları bir listeye dönüştürür ve `arr` değişkenine atar.\n",
    "\n",
    "4. **Shell Sort Algoritmasını Uygulama**:\n",
    "    ```python\n",
    "    shell_sort(arr)\n",
    "    ```\n",
    "    - `shell_sort` fonksiyonu, `arr` parametresi ile çağrılır.\n",
    "\n",
    "5. **Sonuçları Ekrana Yazdırma**:\n",
    "    ```python\n",
    "    print(\"Sıralanmış liste:\", arr)\n",
    "    ```\n",
    "    - `print()` fonksiyonu, sıralanmış listeyi ekrana yazdırır.\n",
    "\n",
    "### Örnek Kullanım\n",
    "\n",
    "Örneğin, kullanıcı \"34 7 23 32 5 62\" sayılarını girerse, program şu çıktıyı verecektir:\n",
    "\n"
   ]
  },
  {
   "cell_type": "code",
   "execution_count": null,
   "metadata": {},
   "outputs": [],
   "source": [
    "Sıralamak için sayıları girin (boşlukla ayırın): 34 7 23 32 5 62\n",
    "Sıralanmış liste: [5, 7, 23, 32, 34, 62]"
   ]
  },
  {
   "cell_type": "markdown",
   "metadata": {},
   "source": [
    "\n",
    "\n",
    "Bu program, kullanıcıdan bir liste alır ve Shell Sort algoritmasını kullanarak bu listeyi sıralar. Sonuç olarak, sıralanmış liste ekrana yazdırılır. Shell Sort, büyük listeleri daha hızlı sıralamak için kullanılan etkili bir sıralama algoritmasıdır."
   ]
  },
  {
   "cell_type": "markdown",
   "metadata": {},
   "source": []
  },
  {
   "cell_type": "markdown",
   "metadata": {},
   "source": [
    "15. ve son soru :     1-(1/3)+(1/5)-(1/7)+(1/9)-(1/11)….. serisinin n tane terimi için toplamını hesaplayan program"
   ]
  },
  {
   "cell_type": "markdown",
   "metadata": {},
   "source": [
    "Tabii, bu serinin ne olduğunu açıklayalım ve ardından bu serinin n tane terimi için toplamını hesaplayan bir Python programı yazalım.\n",
    "\n",
    "CHATGPT DEN AÇIKLAMA : https://chatgpt.com/c/67c66d82-e140-8001-89c0-ca41d0b0b2c3\n",
    "\n",
    "\n",
    "BU SERİ SONSUZA KADAR GİDEREK Pİ/4 YAKINSAYARAK HESAPLIYOR. Pİ/4 = 0.785\n",
    "\n",
    "\n",
    "### Seri Açıklaması\n",
    "\n",
    "Bu seri, Leibniz serisi olarak bilinen bir serinin bir varyasyonudur. \n",
    "\n",
    "Bu seri, **Leibniz Alternating Series** veya **Alternating Harmonic Series**'in özel bir versiyonudur. Şu şekilde yazılabilir:\n",
    "\n",
    "\\[\n",
    "S = 1 - \\frac{1}{3} + \\frac{1}{5} - \\frac{1}{7} + \\frac{1}{9} - \\frac{1}{11} + \\dots\n",
    "\\]\n",
    "\n",
    "Bu seri, **arctan(1) yani \\(\\frac{\\pi}{4}\\) değerine** yakınsayan **Leibniz Serisi**’ne çok benzer. Genel Leibniz serisi şu şekilde tanımlanır:\n",
    "\n",
    "\\[\n",
    "\\frac{\\pi}{4} = 1 - \\frac{1}{3} + \\frac{1}{5} - \\frac{1}{7} + \\frac{1}{9} - \\frac{1}{11} + \\dots\n",
    "\\]\n",
    "\n",
    "Yani bu seri **\\(\\frac{\\pi}{4}\\)** değerine yakınsar ve **π sayısını hesaplamak için kullanılabilir**.  \n",
    "\n",
    "Bu bağıntıyı kullanarak **π sayısına yaklaşık bir değer bulabiliriz**:\n",
    "\n",
    "\\[\n",
    "\\pi = 4 \\times S\n",
    "\\]\n",
    "\n",
    "Seri çok yavaş yakınsar, yani hassas bir π değeri elde etmek için çok fazla terim toplamak gerekir. Ancak matematiksel olarak π'nin bir temsili olarak önemlidir."
   ]
  },
  {
   "cell_type": "code",
   "execution_count": 6,
   "metadata": {},
   "outputs": [
    {
     "name": "stdout",
     "output_type": "stream",
     "text": [
      "Serinin 100 terimi için toplam: 0.7828982258896384\n"
     ]
    }
   ],
   "source": [
    "# Kullanıcıdan terim sayısını alalım\n",
    "n = int(input(\"Terim sayısını girin: \"))\n",
    "\n",
    "# Serinin toplamını hesaplayan fonksiyon\n",
    "def seri_toplami(n):\n",
    "    toplam = 0.0\n",
    "    isaret = 1  # İlk terim pozitif\n",
    "\n",
    "    for i in range(n):\n",
    "        terim = isaret * (1 / (2 * i + 1))\n",
    "        toplam += terim\n",
    "        isaret *= -1  # İşareti değiştir (pozitiften negatife veya negatiften pozitife)\n",
    "\n",
    "    return toplam\n",
    "\n",
    "# Fonksiyonu çağırarak sonucu alalım\n",
    "sonuc = seri_toplami(n)\n",
    "\n",
    "# Sonucu ekrana yazdıralım\n",
    "print(f\"Serinin {n} terimi için toplam: {sonuc}\")"
   ]
  },
  {
   "cell_type": "markdown",
   "metadata": {},
   "source": [
    "\n",
    "\n",
    "### Açıklama\n",
    "\n",
    "1. **Kullanıcıdan Girdi Alma**:\n",
    "    ```python\n",
    "    n = int(input(\"Terim sayısını girin: \"))\n",
    "    ```\n",
    "    - `input()` fonksiyonu, kullanıcıdan terim sayısını alır.\n",
    "    - `int()` fonksiyonu, bu string girdiyi tam sayıya dönüştürür ve `n` değişkenine atar.\n",
    "\n",
    "2. **Serinin Toplamını Hesaplayan Fonksiyon**:\n",
    "    ```python\n",
    "    def seri_toplami(n):\n",
    "        toplam = 0.0\n",
    "        isaret = 1  # İlk terim pozitif\n",
    "\n",
    "        for i in range(n):\n",
    "            terim = isaret * (1 / (2 * i + 1))\n",
    "            toplam += terim\n",
    "            isaret *= -1  # İşareti değiştir (pozitiften negatife veya negatiften pozitife)\n",
    "\n",
    "        return toplam\n",
    "    ```\n",
    "    - `seri_toplami` adında bir fonksiyon tanımlanır.\n",
    "    - Fonksiyon, `n` adında bir parametre alır.\n",
    "    - `toplam` değişkeni, serinin toplamını saklamak için kullanılır ve başlangıçta 0.0 olarak ayarlanır.\n",
    "    - `isaret` değişkeni, terimlerin işaretini belirlemek için kullanılır ve başlangıçta 1 (pozitif) olarak ayarlanır.\n",
    "    - `for` döngüsü, `n` terim için iterasyon yapar.\n",
    "    - `terim` değişkeni, her terimi hesaplar. Terim, işaret çarpanı ile (1 / (2 * i + 1)) ifadesinin çarpımıdır.\n",
    "    - `toplam` değişkenine her terim eklenir.\n",
    "    - `isaret` değişkeni, her iterasyonda çarpılarak işaret değiştirilir (pozitiften negatife veya negatiften pozitife).\n",
    "    - Döngü sona erdiğinde, `toplam` döner.\n",
    "\n",
    "3. **Fonksiyonu Çağırma ve Sonucu Alma**:\n",
    "    ```python\n",
    "    sonuc = seri_toplami(n)\n",
    "    ```\n",
    "    - `seri_toplami` fonksiyonu, `n` parametresi ile çağrılır.\n",
    "    - Fonksiyonun döndürdüğü değer `sonuc` değişkenine atanır.\n",
    "\n",
    "4. **Sonucu Ekrana Yazdırma**:\n",
    "    ```python\n",
    "    print(f\"Serinin {n} terimi için toplam: {sonuc}\")\n",
    "    ```\n",
    "    - `print()` fonksiyonu, serinin n terimi için toplamı ekrana yazdırır.\n",
    "\n",
    "### Örnek Kullanım\n",
    "\n",
    "Örneğin, kullanıcı 5 terim sayısını girerse, program şu çıktıyı verecektir:\n",
    "\n"
   ]
  },
  {
   "cell_type": "code",
   "execution_count": null,
   "metadata": {},
   "outputs": [],
   "source": [
    "Terim sayısını girin: 5\n",
    "Serinin 5 terimi için toplam: 0.7238095238095239"
   ]
  },
  {
   "cell_type": "markdown",
   "metadata": {},
   "source": [
    "\n",
    "\n",
    "Bu program, kullanıcıdan terim sayısını alır ve bu terim sayısı için serinin toplamını hesaplar. Her terim sırayla toplanır ve çıkarılır, ve sonuç ekrana yazdırılır. Bu şekilde, serinin n tane terimi için toplamı hesaplanmış olur."
   ]
  }
 ],
 "metadata": {
  "kernelspec": {
   "display_name": "Python 3",
   "language": "python",
   "name": "python3"
  },
  "language_info": {
   "codemirror_mode": {
    "name": "ipython",
    "version": 3
   },
   "file_extension": ".py",
   "mimetype": "text/x-python",
   "name": "python",
   "nbconvert_exporter": "python",
   "pygments_lexer": "ipython3",
   "version": "3.13.2"
  }
 },
 "nbformat": 4,
 "nbformat_minor": 2
}
